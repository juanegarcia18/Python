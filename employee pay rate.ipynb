{
 "cells": [
  {
   "cell_type": "code",
   "execution_count": null,
   "metadata": {},
   "outputs": [],
   "source": [
    "def main():    \n",
    "    total_employees = int(input(\"Enter the number of employees: \"))\n",
    "    worker_hours = [0] * total_employees\n",
    "    \n",
    "    for hours in range(total_employees):\n",
    "        worker_hours[hours] = float(input(f'Enter the hours worked by employee {hours + 1}: '))\n",
    " \n",
    "    pay_rate = float(input('Enter the hourly pay rate: '))\n",
    "    \n",
    "    for employee in range(total_employees):\n",
    "        if worker_hours[employee] > 30:\n",
    "            overtime = worker_hours[employee] - 30\n",
    "            total_Ot = pay_rate * 1.5 * overtime\n",
    "            gross_pay = 30 * pay_rate + total_Ot\n",
    "            print('Gross pay for employee ', employee + 1,' with ',overtime,' hours overtime: $', format(gross_pay, ',.2f'),sep='')\n",
    "            \n",
    "        else:\n",
    "            gross_pay = worker_hours[employee] * pay_rate\n",
    "            print('Gross pay for employee ', employee + 1, ': $', format(gross_pay, ',.2f'),sep='')          \n",
    "main()"
   ]
  },
  {
   "cell_type": "markdown",
   "metadata": {},
   "source": [
    "Run sample 1:"
   ]
  },
  {
   "cell_type": "code",
   "execution_count": 5,
   "metadata": {},
   "outputs": [
    {
     "name": "stdout",
     "output_type": "stream",
     "text": [
      "Gross pay for employee 1 with 2.0 hours overtime: $330.00\n",
      "Gross pay for employee 2: $200.00\n"
     ]
    }
   ],
   "source": [
    "main()"
   ]
  },
  {
   "cell_type": "markdown",
   "metadata": {},
   "source": [
    "Run Sample 2:"
   ]
  },
  {
   "cell_type": "code",
   "execution_count": 4,
   "metadata": {},
   "outputs": [
    {
     "name": "stdout",
     "output_type": "stream",
     "text": [
      "Gross pay for employee 1: $300.00\n",
      "Gross pay for employee 2: $200.00\n",
      "Gross pay for employee 3: $100.00\n"
     ]
    }
   ],
   "source": [
    "main()"
   ]
  }
 ],
 "metadata": {
  "kernelspec": {
   "display_name": "Python 3.9.6 64-bit ('3.9.6')",
   "language": "python",
   "name": "python3"
  },
  "language_info": {
   "codemirror_mode": {
    "name": "ipython",
    "version": 3
   },
   "file_extension": ".py",
   "mimetype": "text/x-python",
   "name": "python",
   "nbconvert_exporter": "python",
   "pygments_lexer": "ipython3",
   "version": "3.9.6"
  },
  "orig_nbformat": 4,
  "vscode": {
   "interpreter": {
    "hash": "ea56e705ca9c4e9d3c0298a210621c1967dd75ef88c9ef47a3a7f06ab04a0928"
   }
  }
 },
 "nbformat": 4,
 "nbformat_minor": 2
}
