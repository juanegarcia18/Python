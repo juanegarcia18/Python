{
 "cells": [
  {
   "cell_type": "code",
   "execution_count": 2,
   "metadata": {},
   "outputs": [
    {
     "name": "stdout",
     "output_type": "stream",
     "text": [
      "The grade letter for the 1 student Robert who has average 85.0 is B\n",
      "The grade letter for the 2 student Steven who has average 80.0 is B\n"
     ]
    }
   ],
   "source": [
    "import numpy as np\n",
    "\n",
    "def main():\n",
    "  stuNum = int(input('Please enter the number of student in your class: '))\n",
    "\n",
    "  name = []\n",
    "  for students in range(stuNum):\n",
    "    name.append(input(f\"Enter the name of the {students + 1} student: \"))\n",
    "\n",
    "    grades_list=np.zeros((stuNum, 4))\n",
    "\n",
    "  grades_list = []\n",
    "  for grades in range(stuNum):\n",
    "    letterGrade = []\n",
    "    for score in range(4):\n",
    "      letterGrade.append(input(f\"Enter the score of the {score + 1} test for the student {name[grades]}: \"))\n",
    "    grades_list.append(letterGrade)\n",
    "  score = np.array(grades_list, dtype = int)\n",
    "\n",
    "  average = []\n",
    "  for grades in range(stuNum):\n",
    "    average.append(sum(score[grades]) / 4)\n",
    "\n",
    "  grade = []\n",
    "  for i in range(stuNum):\n",
    "    if average[i] >= 90:\n",
    "      grade.append('A')\n",
    "    elif average[i] >= 80:\n",
    "      grade.append('B')\n",
    "    elif average[i] >= 70:\n",
    "      grade.append('C')\n",
    "    elif average[i] >= 60:\n",
    "      grade.append('D')\n",
    "    else:\n",
    "      grade.append('F')\n",
    "\n",
    "  for i in range(stuNum):\n",
    "    print(f\"The grade letter for the {i + 1} student {name[i]} who has average {average[i]} is {grade[i]}\")\n",
    "\n",
    "if __name__ == '__main__':\n",
    "  main()"
   ]
  }
 ],
 "metadata": {
  "kernelspec": {
   "display_name": "Python 3.10.0 64-bit ('3.10.0')",
   "language": "python",
   "name": "python3"
  },
  "language_info": {
   "codemirror_mode": {
    "name": "ipython",
    "version": 3
   },
   "file_extension": ".py",
   "mimetype": "text/x-python",
   "name": "python",
   "nbconvert_exporter": "python",
   "pygments_lexer": "ipython3",
   "version": "3.10.0"
  },
  "orig_nbformat": 4,
  "vscode": {
   "interpreter": {
    "hash": "8636878d62b8f8bda25dd92670d5a9df30107a7d09efd2b95a0c0e53f2429c12"
   }
  }
 },
 "nbformat": 4,
 "nbformat_minor": 2
}
