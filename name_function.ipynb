{
 "cells": [
  {
   "cell_type": "code",
   "execution_count": 2,
   "metadata": {},
   "outputs": [
    {
     "name": "stdout",
     "output_type": "stream",
     "text": [
      "Your first name is: Juan\n",
      "Your second name is:  Enrique\n",
      "Your last name is:  Garcia\n"
     ]
    }
   ],
   "source": [
    "fullName = []\n",
    "def main():\n",
    "\n",
    "    fullName = input('Please enter your name: ')\n",
    "    secondName = fullName.find(' ')\n",
    "    lastName = fullName.find(' ', secondName + 1)\n",
    "    print('Your first name is:', fullName[:secondName])\n",
    "    print('Your second name is:', fullName[secondName:lastName])\n",
    "    print('Your last name is:', fullName[lastName:])\n",
    "    \n",
    "main()"
   ]
  }
 ],
 "metadata": {
  "kernelspec": {
   "display_name": "Python 3.9.6 64-bit ('3.9.6')",
   "language": "python",
   "name": "python3"
  },
  "language_info": {
   "codemirror_mode": {
    "name": "ipython",
    "version": 3
   },
   "file_extension": ".py",
   "mimetype": "text/x-python",
   "name": "python",
   "nbconvert_exporter": "python",
   "pygments_lexer": "ipython3",
   "version": "3.9.6"
  },
  "orig_nbformat": 4,
  "vscode": {
   "interpreter": {
    "hash": "ea56e705ca9c4e9d3c0298a210621c1967dd75ef88c9ef47a3a7f06ab04a0928"
   }
  }
 },
 "nbformat": 4,
 "nbformat_minor": 2
}
