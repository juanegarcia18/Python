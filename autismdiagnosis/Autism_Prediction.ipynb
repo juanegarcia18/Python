{
 "cells": [
  {
   "cell_type": "code",
   "execution_count": 1,
   "metadata": {},
   "outputs": [],
   "source": [
    "import pandas as pd\n",
    "import numpy as np"
   ]
  },
  {
   "cell_type": "code",
   "execution_count": null,
   "metadata": {},
   "outputs": [],
   "source": [
    "data_file = data_file = \"C:\\Users\\juane\\OneDrive\\Documents\\Senior Project\\Project Documentation\\autismdiagnosis\\Autism_Prediction\\train.csv\"\n"
   ]
  }
 ],
 "metadata": {
  "kernelspec": {
   "display_name": "Python 3.10.0 64-bit ('3.10.0')",
   "language": "python",
   "name": "python3"
  },
  "language_info": {
   "codemirror_mode": {
    "name": "ipython",
    "version": 3
   },
   "file_extension": ".py",
   "mimetype": "text/x-python",
   "name": "python",
   "nbconvert_exporter": "python",
   "pygments_lexer": "ipython3",
   "version": "3.10.0"
  },
  "orig_nbformat": 4,
  "vscode": {
   "interpreter": {
    "hash": "8636878d62b8f8bda25dd92670d5a9df30107a7d09efd2b95a0c0e53f2429c12"
   }
  }
 },
 "nbformat": 4,
 "nbformat_minor": 2
}
