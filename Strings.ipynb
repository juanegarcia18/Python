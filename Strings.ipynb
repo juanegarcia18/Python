{
 "cells": [
  {
   "cell_type": "code",
   "execution_count": 13,
   "metadata": {},
   "outputs": [
    {
     "name": "stdout",
     "output_type": "stream",
     "text": [
      "J\n",
      "u\n",
      "l\n",
      "i\n",
      "e\n",
      "t\n"
     ]
    }
   ],
   "source": [
    "#Chapter 8 More about strings\n",
    "name = 'Juliet'\n",
    "for ch in name:\n",
    "\tprint(ch)"
   ]
  },
  {
   "cell_type": "code",
   "execution_count": 14,
   "metadata": {},
   "outputs": [
    {
     "name": "stdout",
     "output_type": "stream",
     "text": [
      "Juliet\n"
     ]
    }
   ],
   "source": [
    "name = 'Juliet'\n",
    "for ch in name:\n",
    "    ch = 'X'\n",
    "print(name)"
   ]
  },
  {
   "cell_type": "code",
   "execution_count": 15,
   "metadata": {},
   "outputs": [
    {
     "name": "stdout",
     "output_type": "stream",
     "text": [
      "Enter a sentence: Today we sold twenty-two toys.\n",
      "The letter T appears 5 times.\n"
     ]
    }
   ],
   "source": [
    "# This program counts the number of times\n",
    "# the letter T (uppercase or lowercase)\n",
    "# appears in a string.\n",
    "\n",
    "def main():\n",
    "    # Create a variable to use to hold the count.\n",
    "    # The variable must start with 0.\n",
    "    count = 0\n",
    "    \n",
    "    # Get a string from the user.\n",
    "    my_string = input('Enter a sentence: ')\n",
    "\n",
    "    # Count the Ts.\n",
    "    for ch in my_string:\n",
    "        if ch == 'T' or ch  == 't':\n",
    "            count += 1\n",
    "\n",
    "    # Print the result.\n",
    "    print('The letter T appears', count, 'times.')\n",
    "\n",
    "# Call the main function.\n",
    "main()"
   ]
  },
  {
   "cell_type": "code",
   "execution_count": 16,
   "metadata": {},
   "outputs": [
    {
     "name": "stdout",
     "output_type": "stream",
     "text": [
      "R a r\n"
     ]
    }
   ],
   "source": [
    "my_string = 'Roses are red'\n",
    "print(my_string[0], my_string[6], my_string[10])"
   ]
  },
  {
   "cell_type": "code",
   "execution_count": 18,
   "metadata": {},
   "outputs": [
    {
     "name": "stdout",
     "output_type": "stream",
     "text": [
      "d e R\n"
     ]
    }
   ],
   "source": [
    "my_string = 'Roses are red'\n",
    "print(my_string[-1], my_string[-2], my_string[-13])"
   ]
  },
  {
   "cell_type": "code",
   "execution_count": 19,
   "metadata": {},
   "outputs": [
    {
     "name": "stdout",
     "output_type": "stream",
     "text": [
      "B\n",
      "o\n",
      "s\n",
      "t\n",
      "o\n",
      "n\n"
     ]
    },
    {
     "ename": "IndexError",
     "evalue": "string index out of range",
     "output_type": "error",
     "traceback": [
      "\u001b[1;31m---------------------------------------------------------------------------\u001b[0m",
      "\u001b[1;31mIndexError\u001b[0m                                Traceback (most recent call last)",
      "\u001b[1;32m<ipython-input-19-e270f116e595>\u001b[0m in \u001b[0;36m<module>\u001b[1;34m\u001b[0m\n\u001b[0;32m      2\u001b[0m \u001b[0mindex\u001b[0m \u001b[1;33m=\u001b[0m \u001b[1;36m0\u001b[0m\u001b[1;33m\u001b[0m\u001b[1;33m\u001b[0m\u001b[0m\n\u001b[0;32m      3\u001b[0m \u001b[1;32mwhile\u001b[0m \u001b[0mindex\u001b[0m \u001b[1;33m<\u001b[0m \u001b[1;36m7\u001b[0m\u001b[1;33m:\u001b[0m\u001b[1;33m\u001b[0m\u001b[1;33m\u001b[0m\u001b[0m\n\u001b[1;32m----> 4\u001b[1;33m         \u001b[0mprint\u001b[0m\u001b[1;33m(\u001b[0m\u001b[0mcity\u001b[0m\u001b[1;33m[\u001b[0m\u001b[0mindex\u001b[0m\u001b[1;33m]\u001b[0m\u001b[1;33m)\u001b[0m\u001b[1;33m\u001b[0m\u001b[1;33m\u001b[0m\u001b[0m\n\u001b[0m\u001b[0;32m      5\u001b[0m         \u001b[0mindex\u001b[0m \u001b[1;33m+=\u001b[0m \u001b[1;36m1\u001b[0m\u001b[1;33m\u001b[0m\u001b[1;33m\u001b[0m\u001b[0m\n",
      "\u001b[1;31mIndexError\u001b[0m: string index out of range"
     ]
    }
   ],
   "source": [
    "city = 'Boston'\n",
    "index = 0\n",
    "while index < 7:\n",
    "\tprint(city[index])\n",
    "\tindex += 1"
   ]
  },
  {
   "cell_type": "code",
   "execution_count": 21,
   "metadata": {},
   "outputs": [
    {
     "name": "stdout",
     "output_type": "stream",
     "text": [
      "B\n",
      "o\n",
      "s\n",
      "t\n",
      "o\n",
      "n\n",
      " \n",
      "C\n",
      "i\n",
      "t\n",
      "y\n"
     ]
    }
   ],
   "source": [
    "city = 'Boston City'\n",
    "index = 0\n",
    "while index < len(city):\n",
    "\tprint(city[index])\n",
    "\tindex += 1"
   ]
  },
  {
   "cell_type": "code",
   "execution_count": 22,
   "metadata": {},
   "outputs": [
    {
     "name": "stdout",
     "output_type": "stream",
     "text": [
      "Hello world\n"
     ]
    }
   ],
   "source": [
    "message = 'Hello ' + 'world' \n",
    "print(message) "
   ]
  },
  {
   "cell_type": "code",
   "execution_count": 23,
   "metadata": {},
   "outputs": [
    {
     "name": "stdout",
     "output_type": "stream",
     "text": [
      "Python is fun!\n"
     ]
    }
   ],
   "source": [
    "message = 'Hello ' + 'world' \n",
    "message = \"Python is fun!\"\n",
    "print(message) "
   ]
  },
  {
   "cell_type": "code",
   "execution_count": 24,
   "metadata": {},
   "outputs": [
    {
     "name": "stdout",
     "output_type": "stream",
     "text": [
      "Lynn\n"
     ]
    }
   ],
   "source": [
    "full_name = 'Patty Lynn Smith'\n",
    "middle_name = full_name[6:10]\n",
    "print(middle_name)"
   ]
  },
  {
   "cell_type": "code",
   "execution_count": 25,
   "metadata": {},
   "outputs": [
    {
     "name": "stdout",
     "output_type": "stream",
     "text": [
      "Patty\n"
     ]
    }
   ],
   "source": [
    "full_name = 'Patty Lynn Smith'\n",
    "first_name = full_name[:5]\n",
    "print(first_name)"
   ]
  },
  {
   "cell_type": "code",
   "execution_count": 26,
   "metadata": {},
   "outputs": [
    {
     "name": "stdout",
     "output_type": "stream",
     "text": [
      "Smith\n"
     ]
    }
   ],
   "source": [
    "full_name = 'Patty Lynn Smith'\n",
    "last_name = full_name[11:]\n",
    "print(last_name)"
   ]
  },
  {
   "cell_type": "code",
   "execution_count": 27,
   "metadata": {},
   "outputs": [
    {
     "name": "stdout",
     "output_type": "stream",
     "text": [
      "Patty Lynn Smith\n"
     ]
    }
   ],
   "source": [
    "full_name = 'Patty Lynn Smith'\n",
    "my_string = full_name[:]\n",
    "print(my_string)"
   ]
  },
  {
   "cell_type": "code",
   "execution_count": 28,
   "metadata": {},
   "outputs": [
    {
     "name": "stdout",
     "output_type": "stream",
     "text": [
      "Patty Lynn Smith\n"
     ]
    }
   ],
   "source": [
    "full_name = 'Patty Lynn Smith'\n",
    "my_string = full_name[0 : len(full_name)]\n",
    "print(my_string)"
   ]
  },
  {
   "cell_type": "code",
   "execution_count": 29,
   "metadata": {},
   "outputs": [
    {
     "name": "stdout",
     "output_type": "stream",
     "text": [
      "ACEGIKMOQSUWY\n"
     ]
    }
   ],
   "source": [
    "letters = 'ABCDEFGHIJKLMNOPQRSTUVWXYZ'\n",
    "print(letters[0:26:2])"
   ]
  },
  {
   "cell_type": "code",
   "execution_count": 30,
   "metadata": {},
   "outputs": [
    {
     "name": "stdout",
     "output_type": "stream",
     "text": [
      "Smith\n"
     ]
    }
   ],
   "source": [
    "full_name = 'Patty Lynn Smith'\n",
    "last_name = full_name[-5:]\n",
    "print(last_name)"
   ]
  },
  {
   "cell_type": "code",
   "execution_count": 31,
   "metadata": {},
   "outputs": [
    {
     "name": "stdout",
     "output_type": "stream",
     "text": [
      "Enter your first name: Holly\n",
      "Enter your last name: Gaddis\n",
      "Enter your student ID number: CSC34899\n",
      "Your system login name is:\n",
      "HolGad899\n"
     ]
    }
   ],
   "source": [
    "# This program gets the user's first name, last name, and\n",
    "# student ID number. Using this data it generates a\n",
    "# system login name.\n",
    "\n",
    "import login\n",
    "\n",
    "def main():\n",
    "    # Get the user's first name, last name, and ID number.\n",
    "    first = input('Enter your first name: ')\n",
    "    last = input('Enter your last name: ')\n",
    "    idnumber = input('Enter your student ID number: ')\n",
    "\n",
    "    # Get the login name.\n",
    "    print('Your system login name is:')\n",
    "    print(login.get_login_name(first, last, idnumber))\n",
    "    \n",
    "# Call the main function.\n",
    "main()\n"
   ]
  },
  {
   "cell_type": "code",
   "execution_count": 32,
   "metadata": {},
   "outputs": [
    {
     "name": "stdout",
     "output_type": "stream",
     "text": [
      "The string \"seven\" was found.\n"
     ]
    }
   ],
   "source": [
    "text = 'Four score and seven years ago'\n",
    "if 'seven' in text:\n",
    "\tprint('The string \"seven\" was found.')\n",
    "else:\n",
    "\tprint('The string \"seven\" was not found.')"
   ]
  },
  {
   "cell_type": "code",
   "execution_count": 33,
   "metadata": {},
   "outputs": [
    {
     "name": "stdout",
     "output_type": "stream",
     "text": [
      "Pierre was not found.\n"
     ]
    }
   ],
   "source": [
    "names = 'Bill Joanne Susan Chris Juan Katie'\n",
    "if 'Pierre' not in names:\n",
    "\tprint('Pierre was not found.')\n",
    "else:\n",
    "\tprint('Pierre was found.')"
   ]
  },
  {
   "cell_type": "code",
   "execution_count": null,
   "metadata": {},
   "outputs": [],
   "source": [
    "string1 = '1200'\n",
    "if string1.isdigit():\n",
    "\tprint(string1, 'contains only digits.')\n",
    "else:\n",
    "\tprint(string1, 'contains characters other than digits.')"
   ]
  },
  {
   "cell_type": "code",
   "execution_count": null,
   "metadata": {},
   "outputs": [],
   "source": [
    "string1 = '1200a'\n",
    "if string1.isdigit():\n",
    "\tprint(string1, 'contains only digits.')\n",
    "else:\n",
    "\tprint(string1, 'contains characters other than digits.')"
   ]
  },
  {
   "cell_type": "code",
   "execution_count": null,
   "metadata": {},
   "outputs": [],
   "source": [
    "string1 = '1200a'\n",
    "if string1.isalnum():\n",
    "\tprint(string1, 'the string contains only alphabetic letters or digits.')\n",
    "else:\n",
    "\tprint(string1, 'contains characters other than letters and digits.')"
   ]
  },
  {
   "cell_type": "code",
   "execution_count": null,
   "metadata": {},
   "outputs": [],
   "source": [
    "string1 = '1200a&'\n",
    "if string1.isalnum():\n",
    "\tprint(string1, 'the string contains only alphabetic letters or digits.')\n",
    "else:\n",
    "\tprint(string1, 'contains characters other than letters and digits.')"
   ]
  },
  {
   "cell_type": "code",
   "execution_count": null,
   "metadata": {},
   "outputs": [],
   "source": [
    "# This program demonstrates several string testing methods.\n",
    "\n",
    "def main():\n",
    "    # Get a string from the user.\n",
    "    user_string = input('Enter a string: ')\n",
    "\n",
    "    print('This is what I found about that string:')\n",
    "    \n",
    "    # Test the string.\n",
    "    if user_string.isalnum():\n",
    "        print('The string is alphanumeric.')\n",
    "    if user_string.isdigit():\n",
    "        print('The string contains only digits.')\n",
    "    if user_string.isalpha():\n",
    "        print('The string contains only alphabetic characters.')\n",
    "    if user_string.isspace():\n",
    "        print('The string contains only whitespace characters.')\n",
    "    if user_string.islower():\n",
    "        print('The letters in the string are all lowercase.')\n",
    "    if user_string.isupper():\n",
    "        print('The letters in the string are all uppercase.')\n",
    "\n",
    "# Call the main function.\n",
    "main();"
   ]
  },
  {
   "cell_type": "code",
   "execution_count": null,
   "metadata": {},
   "outputs": [],
   "source": [
    "again = 'y'\n",
    "while again.lower() == 'y':\n",
    "   print('Hello')\n",
    "   print('Do you want to see that again?')\n",
    "   again = input('y = yes, anything else = no: ')"
   ]
  },
  {
   "cell_type": "code",
   "execution_count": null,
   "metadata": {},
   "outputs": [],
   "source": [
    "letters = 'WXYZ'\n",
    "print(letters, letters.lower())"
   ]
  },
  {
   "cell_type": "code",
   "execution_count": null,
   "metadata": {},
   "outputs": [],
   "source": [
    "letters = 'abcd'\n",
    "print(letters, letters.upper())"
   ]
  },
  {
   "cell_type": "code",
   "execution_count": null,
   "metadata": {},
   "outputs": [],
   "source": [
    "# Get a string from the user.\n",
    "user_string = input('Enter a string: ')\n",
    "print(user_string)\n",
    "print(user_string.strip())"
   ]
  },
  {
   "cell_type": "code",
   "execution_count": null,
   "metadata": {},
   "outputs": [],
   "source": [
    "# Get a string from the user.\n",
    "user_string = input('Enter a string: ')\n",
    "print(user_string)\n",
    "print(user_string.strip('#'))"
   ]
  },
  {
   "cell_type": "code",
   "execution_count": null,
   "metadata": {},
   "outputs": [],
   "source": [
    "filename = input('Enter the filename: ')\n",
    "if filename.endswith('.txt'):\n",
    "      print('That is the name of a text file.')\n",
    "elif filename.endswith('.py'):\n",
    "      print('That is the name of a Python source file.')\n",
    "elif filename.endswith('.doc'):\n",
    "      print('That is the name of a word processing document.')\n",
    "else:\n",
    "      print('Unknown file type.')"
   ]
  },
  {
   "cell_type": "code",
   "execution_count": null,
   "metadata": {},
   "outputs": [],
   "source": [
    "string = 'Four score and seven years ago'\n",
    "position = string.find('seven')\n",
    "if position != -1:\n",
    "   print('The word \"seven\" was found at index', position)\n",
    "else:\n",
    "   print('The word \"seven\" was not found.')"
   ]
  },
  {
   "cell_type": "code",
   "execution_count": null,
   "metadata": {},
   "outputs": [],
   "source": [
    "string = 'Four score and seven years ago'\n",
    "position = string.find('seven ')\n",
    "if position != -1:\n",
    "   print('The word \"seven\" was found at index', position)\n",
    "else:\n",
    "   print('The word \"seven\" was not found.')"
   ]
  },
  {
   "cell_type": "code",
   "execution_count": null,
   "metadata": {},
   "outputs": [],
   "source": [
    "string = 'Four score and seven years ago'\n",
    "position = string.find('seven k')\n",
    "if position != -1:\n",
    "   print('The word \"seven\" was found at index', position)\n",
    "else:\n",
    "   print('The word \"seven\" was not found.')"
   ]
  },
  {
   "cell_type": "code",
   "execution_count": null,
   "metadata": {},
   "outputs": [],
   "source": [
    "string = 'Four score and seven years ago'\n",
    "new_string = string.replace('years', 'days')\n",
    "print(new_string)"
   ]
  },
  {
   "cell_type": "code",
   "execution_count": null,
   "metadata": {},
   "outputs": [],
   "source": [
    "mystring = 'Four score and seven years ago'\n",
    "new_string = mystring.replace('yaers', 'days')\n",
    "print(new_string)"
   ]
  },
  {
   "cell_type": "code",
   "execution_count": null,
   "metadata": {},
   "outputs": [],
   "source": [
    "mystring = 'Four years and seven years ago'\n",
    "new_string = mystring.replace('years', 'days')\n",
    "new_string = new_string.replace('seven', 'four')\n",
    "print(new_string)"
   ]
  },
  {
   "cell_type": "code",
   "execution_count": null,
   "metadata": {},
   "outputs": [],
   "source": [
    "# This program gets a password from the user and\n",
    "# validates it.\n",
    "\n",
    "import login\n",
    "\n",
    "def main():\n",
    "    # Get a password from the user.\n",
    "    password = input('Enter your password: ')\n",
    "\n",
    "    # Validate the password.\n",
    "    while not login.valid_password(password):\n",
    "        print('That password is not valid.')\n",
    "        password = input('Enter your password: ')\n",
    "\n",
    "    print('That is a valid password.')\n",
    "\n",
    "# Call the main function.\n",
    "main()"
   ]
  },
  {
   "cell_type": "code",
   "execution_count": null,
   "metadata": {},
   "outputs": [],
   "source": [
    "# This program demonstrates the repetition operator.\n",
    "\n",
    "def main():\n",
    "    # Print nine rows increasing in length.\n",
    "    for count in range(1, 10):\n",
    "        print('Z' * count)\n",
    "\n",
    "    # Print nine rows decreasing in length.\n",
    "    for count in range(8, 0, -1):\n",
    "        print('Z' * count)\n",
    "\n",
    "# Call the main function.\n",
    "main()"
   ]
  },
  {
   "cell_type": "code",
   "execution_count": null,
   "metadata": {},
   "outputs": [],
   "source": [
    "# This program demonstrates the split method.\n",
    "\n",
    "def main():\n",
    "   # Create a string with multiple words.\n",
    "   my_string = 'One two three four'\n",
    "\n",
    "   # Split the string.\n",
    "   word_list = my_string.split()\n",
    "\n",
    "   # Print the list of words.\n",
    "   print(word_list)\n",
    "\n",
    "# Call the main function.\n",
    "main()"
   ]
  },
  {
   "cell_type": "code",
   "execution_count": null,
   "metadata": {},
   "outputs": [],
   "source": [
    "# This program calls the split method, using the\n",
    "# '/' character as a separator.\n",
    "\n",
    "def main():\n",
    "    # Create a string with a date.\n",
    "    date_string = '2/26/2012'\n",
    "\n",
    "    # Split the date.\n",
    "    date_list = date_string.split('/')\n",
    "\n",
    "    # Display each piece of the date.\n",
    "    print('Month:', date_list[0])\n",
    "    print('Day:', date_list[1])\n",
    "    print('Year:', date_list[2])\n",
    "\n",
    "# Call the main function.\n",
    "main()"
   ]
  }
 ],
 "metadata": {
  "kernelspec": {
   "display_name": "Python 3",
   "language": "python",
   "name": "python3"
  },
  "language_info": {
   "codemirror_mode": {
    "name": "ipython",
    "version": 3
   },
   "file_extension": ".py",
   "mimetype": "text/x-python",
   "name": "python",
   "nbconvert_exporter": "python",
   "pygments_lexer": "ipython3",
   "version": "3.7.6"
  }
 },
 "nbformat": 4,
 "nbformat_minor": 2
}
