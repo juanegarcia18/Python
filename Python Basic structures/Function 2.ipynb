{
 "cells": [
  {
   "cell_type": "code",
   "execution_count": 1,
   "metadata": {},
   "outputs": [
    {
     "name": "stdout",
     "output_type": "stream",
     "text": [
      "The sum of 12 and 45 is\n",
      "57\n"
     ]
    }
   ],
   "source": [
    "# This program demonstrates a function that accepts\n",
    "# two arguments.\n",
    "\n",
    "def main():\n",
    "    print('The sum of 12 and 45 is')\n",
    "    show_sum(12, 45)\n",
    "\n",
    "# The show_sum function accepts two arguments\n",
    "# and displays their sum.\n",
    "def show_sum(num1, num2):\n",
    "    result = num1 + num2\n",
    "    print(result)\n",
    "\n",
    "# Call the main function.\n",
    "main()"
   ]
  },
  {
   "cell_type": "code",
   "execution_count": 2,
   "metadata": {},
   "outputs": [
    {
     "name": "stdout",
     "output_type": "stream",
     "text": [
      "Enter your first name: Mohammad\n",
      "Enter your last name: Abdel-rahman\n",
      "Your name reversed is\n",
      "Abdel-rahman Mohammad\n"
     ]
    }
   ],
   "source": [
    "# This program demonstrates passing two string\n",
    "# arguments to a function.\n",
    "\n",
    "def main():\n",
    "    first_name = input('Enter your first name: ')\n",
    "    last_name = input('Enter your last name: ')\n",
    "    print('Your name reversed is')\n",
    "    reverse_name(first_name, last_name)\n",
    "\n",
    "def reverse_name(first, last):\n",
    "    print(last, first)\n",
    "\n",
    "# Call the main function.\n",
    "main()\n",
    "\n",
    "#sep=''"
   ]
  },
  {
   "cell_type": "code",
   "execution_count": 3,
   "metadata": {},
   "outputs": [
    {
     "name": "stdout",
     "output_type": "stream",
     "text": [
      "Enter your first name: Mohammad\n",
      "Enter your last name: Abdel-Rahman\n",
      "Your name reversed is\n",
      "Abdel-Rahman , Mohammad\n"
     ]
    }
   ],
   "source": [
    "# This program demonstrates passing two string\n",
    "# arguments to a function.\n",
    "\n",
    "def main():\n",
    "    first_name = input('Enter your first name: ')\n",
    "    last_name = input('Enter your last name: ')\n",
    "    print('Your name reversed is')\n",
    "    reverse_name(first_name, last_name)\n",
    "\n",
    "def reverse_name(first, last):\n",
    "    print(last, \",\", first)\n",
    "\n",
    "# Call the main function.\n",
    "main()"
   ]
  },
  {
   "cell_type": "code",
   "execution_count": 4,
   "metadata": {},
   "outputs": [
    {
     "name": "stdout",
     "output_type": "stream",
     "text": [
      "Enter your first name: Mohammad\n",
      "Enter your last name: Abdel-Rahman\n",
      "Your name reversed is\n",
      "Abdel-Rahman,Mohammad\n"
     ]
    }
   ],
   "source": [
    "# This program demonstrates passing two string\n",
    "# arguments to a function.\n",
    "\n",
    "def main():\n",
    "    first_name = input('Enter your first name: ')\n",
    "    last_name = input('Enter your last name: ')\n",
    "    print('Your name reversed is')\n",
    "    reverse_name(first_name, last_name)\n",
    "\n",
    "def reverse_name(first, last):\n",
    "    print(last, \",\", first, sep='')\n",
    "\n",
    "# Call the main function.\n",
    "main()"
   ]
  },
  {
   "cell_type": "code",
   "execution_count": 5,
   "metadata": {},
   "outputs": [
    {
     "name": "stdout",
     "output_type": "stream",
     "text": [
      "Enter your first name: Mohammad\n",
      "Enter your last name: Abdel-Rahman\n",
      "Your name reversed is\n",
      "Abdel-Rahman,Mohammad\n"
     ]
    }
   ],
   "source": [
    "# This program demonstrates passing two string\n",
    "# arguments to a function.\n",
    "\n",
    "def main():\n",
    "    first_name = input('Enter your first name: ')\n",
    "    last_name = input('Enter your last name: ')\n",
    "    print('Your name reversed is')\n",
    "    reverse_name(first_name, last_name)\n",
    "\n",
    "def reverse_name(first, last):\n",
    "    print(last+ \",\" + first)\n",
    "\n",
    "# Call the main function.\n",
    "main()"
   ]
  },
  {
   "cell_type": "code",
   "execution_count": 6,
   "metadata": {},
   "outputs": [
    {
     "name": "stdout",
     "output_type": "stream",
     "text": [
      "The value is 99\n",
      "I am changing the value.\n",
      "Now the value is 0\n",
      "Back in main the value is 99\n"
     ]
    }
   ],
   "source": [
    "# This program demonstrates what happens when you\n",
    "# change the value of a parameter.\n",
    "\n",
    "def main():\n",
    "    value = 99\n",
    "    print('The value is', value)\n",
    "    change_me(value)\n",
    "    print('Back in main the value is', value)\n",
    "\n",
    "def change_me(arg):\n",
    "    print('I am changing the value.')\n",
    "    arg = 0\n",
    "    print('Now the value is', arg)\n",
    "\n",
    "# Call the main  function.\n",
    "main()\n"
   ]
  },
  {
   "cell_type": "code",
   "execution_count": 8,
   "metadata": {},
   "outputs": [
    {
     "name": "stdout",
     "output_type": "stream",
     "text": [
      "The simple interest will be $1,000.00\n"
     ]
    }
   ],
   "source": [
    "# This program demonstrates keyword arguments.\n",
    "\n",
    "def main():\n",
    "    # Show the amount of simple interest using 0.01 as\n",
    "    # interest rate per period, 10 as the number of periods,\n",
    "    # and $10,000 as the principal.\n",
    "    show_interest(rate=0.01, periods=10, principal=10000.0)\n",
    "    #show_interest(10000.0, 0.01, 10)\n",
    "\n",
    "# The show_interest function displays the amount of\n",
    "# simple interest for a given principal, interest rate\n",
    "# per period, and number of periods.\n",
    "\n",
    "def show_interest(principal, rate, periods):\n",
    "    interest = principal * rate * periods\n",
    "    print('The simple interest will be $', \\\n",
    "          format(interest, ',.2f'), \\\n",
    "          sep='')\n",
    "\n",
    "# Call the main function.\n",
    "main()"
   ]
  },
  {
   "cell_type": "code",
   "execution_count": 9,
   "metadata": {},
   "outputs": [
    {
     "name": "stdout",
     "output_type": "stream",
     "text": [
      "10\n"
     ]
    }
   ],
   "source": [
    "# Create a global variable.\n",
    "my_value = 10\n",
    "\n",
    "# The show_value function prints\n",
    "# the value of the global variable.\n",
    "def show_value():\n",
    "    print(my_value)\n",
    "\n",
    "# Call the show_value function.\n",
    "show_value()"
   ]
  },
  {
   "cell_type": "code",
   "execution_count": 10,
   "metadata": {},
   "outputs": [
    {
     "name": "stdout",
     "output_type": "stream",
     "text": [
      "Enter a number: 8\n",
      "The number you entered is 8\n"
     ]
    }
   ],
   "source": [
    "# Create a global variable.\n",
    "number = 0\n",
    "\n",
    "def main():\n",
    "    global number\n",
    "    number = int(input('Enter a number: '))\n",
    "    show_number()\n",
    "\n",
    "def show_number():\n",
    "    print('The number you entered is', number)\n",
    "\n",
    "# Call the main function.\n",
    "main()"
   ]
  },
  {
   "cell_type": "code",
   "execution_count": 11,
   "metadata": {},
   "outputs": [
    {
     "name": "stdout",
     "output_type": "stream",
     "text": [
      "Enter a number: 8\n",
      "The number you entered is 0\n"
     ]
    }
   ],
   "source": [
    "# Create a global variable.\n",
    "number = 0\n",
    "\n",
    "def main():\n",
    "    #global number\n",
    "    number = int(input('Enter a number: '))\n",
    "    show_number()\n",
    "\n",
    "def show_number():\n",
    "    print('The number you entered is', number)\n",
    "\n",
    "# Call the main function.\n",
    "main()"
   ]
  },
  {
   "cell_type": "code",
   "execution_count": 12,
   "metadata": {},
   "outputs": [
    {
     "name": "stdout",
     "output_type": "stream",
     "text": [
      "Enter the gross pay: 2000\n",
      "Enter the amount of bonuses: 500\n",
      "Contribution for gross pay: $100.00\n",
      "Contribution for bonuses: $25.00\n"
     ]
    }
   ],
   "source": [
    "# The following is used as a global constant to represent\n",
    "# the contribution rate.\n",
    "CONTRIBUTION_RATE = 0.05\n",
    "\n",
    "def main():\n",
    "    gross_pay = float(input('Enter the gross pay: '))\n",
    "    bonus = float(input('Enter the amount of bonuses: '))\n",
    "    show_pay_contrib(gross_pay)\n",
    "    show_bonus_contrib(bonus)\n",
    "\n",
    "# The show_pay_contrib function accepts the gross\n",
    "# pay as an argument and displays the retirement\n",
    "# contribution for that amount of pay.\n",
    "def show_pay_contrib(gross):\n",
    "    contrib = gross * CONTRIBUTION_RATE\n",
    "    print('Contribution for gross pay: $', \\\n",
    "          format(contrib, ',.2f'), \\\n",
    "          sep='')\n",
    "\n",
    "# The show_bonus_contrib function accepts the\n",
    "# bonus amount as an argument and displays the\n",
    "# retirement contribution for that amount of pay.\n",
    "def show_bonus_contrib(bonus):\n",
    "    contrib = bonus * CONTRIBUTION_RATE\n",
    "    print('Contribution for bonuses: $', \\\n",
    "          format(contrib, ',.2f'), \\\n",
    "          sep='')\n",
    "\n",
    "# Call the main function.\n",
    "main()\n"
   ]
  },
  {
   "cell_type": "code",
   "execution_count": 19,
   "metadata": {},
   "outputs": [
    {
     "name": "stdout",
     "output_type": "stream",
     "text": [
      "The number is 5\n"
     ]
    }
   ],
   "source": [
    "# This program displays a random number\n",
    "# in the range of 1 through 10.\n",
    "import random\n",
    "\n",
    "def main():\n",
    "    # Get a random number.\n",
    "    number = random.randint(1, 10)\n",
    "    # Display the number.\n",
    "    print('The number is', number)\n",
    "\n",
    "# Call the main function.\n",
    "main()"
   ]
  },
  {
   "cell_type": "code",
   "execution_count": 20,
   "metadata": {},
   "outputs": [
    {
     "name": "stdout",
     "output_type": "stream",
     "text": [
      "The number is 100\n"
     ]
    }
   ],
   "source": [
    "# This program displays a random number\n",
    "# in the range of 1 through 10.\n",
    "import random\n",
    "\n",
    "def main():\n",
    "    # Get a random number.\n",
    "    number = random.randint(1, 100)\n",
    "    # Display the number.\n",
    "    print('The number is', number)\n",
    "\n",
    "# Call the main function.\n",
    "main()"
   ]
  },
  {
   "cell_type": "code",
   "execution_count": 21,
   "metadata": {},
   "outputs": [
    {
     "name": "stdout",
     "output_type": "stream",
     "text": [
      "51\n",
      "16\n",
      "28\n",
      "58\n",
      "45\n"
     ]
    }
   ],
   "source": [
    "# This program displays five random\n",
    "# numbers in the range of 1 through 100.\n",
    "import random\n",
    "\n",
    "def main():\n",
    "    for count in range(5): # from 0 to 4\n",
    "        # Get a random number.\n",
    "        number = random.randint(1, 100)\n",
    "        # Display the number.\n",
    "        print(number)\n",
    "\n",
    "# Call the main function.\n",
    "main()\n"
   ]
  },
  {
   "cell_type": "code",
   "execution_count": 22,
   "metadata": {},
   "outputs": [
    {
     "name": "stdout",
     "output_type": "stream",
     "text": [
      "75\n",
      "8\n",
      "90\n",
      "48\n",
      "23\n"
     ]
    }
   ],
   "source": [
    "# This program displays five random\n",
    "# numbers in the range of 1 through 100.\n",
    "import random\n",
    "\n",
    "def main():\n",
    "    for count in range(5):\n",
    "        print(random.randint(1, 100))\n",
    "\n",
    "# Call the main function.\n",
    "main()"
   ]
  },
  {
   "cell_type": "code",
   "execution_count": 37,
   "metadata": {},
   "outputs": [
    {
     "name": "stdout",
     "output_type": "stream",
     "text": [
      "2\n"
     ]
    }
   ],
   "source": [
    "#assigns a random number in the range of 0 through 9 to the number variable:\n",
    "import random\n",
    "number = random.randrange(10)\n",
    "print(number)"
   ]
  },
  {
   "cell_type": "code",
   "execution_count": 48,
   "metadata": {},
   "outputs": [
    {
     "name": "stdout",
     "output_type": "stream",
     "text": [
      "5\n"
     ]
    }
   ],
   "source": [
    "#import random\n",
    "number = random.randrange(5,10)\n",
    "print(number)"
   ]
  },
  {
   "cell_type": "code",
   "execution_count": 50,
   "metadata": {},
   "outputs": [
    {
     "name": "stdout",
     "output_type": "stream",
     "text": [
      "0\n"
     ]
    }
   ],
   "source": [
    "#function returns a randomly selected value from the following sequence of numbers:\n",
    "#[0, 10, 20, 30, 40, 50, 60, 70, 80, 90, 100]\n",
    "number = random.randrange(0, 101, 10)\n",
    "print(number)"
   ]
  },
  {
   "cell_type": "code",
   "execution_count": 51,
   "metadata": {},
   "outputs": [
    {
     "name": "stdout",
     "output_type": "stream",
     "text": [
      "0.46337817170565476\n"
     ]
    }
   ],
   "source": [
    "number = random.random()\n",
    "print(number)"
   ]
  },
  {
   "cell_type": "code",
   "execution_count": 52,
   "metadata": {},
   "outputs": [
    {
     "name": "stdout",
     "output_type": "stream",
     "text": [
      "3.1879168390045756\n"
     ]
    }
   ],
   "source": [
    "#returns a random floating-point number in the range of 1.0 through 10.0 and assigns it to the number variable.\n",
    "number = random.uniform(1.0, 10.0)\n",
    "print(number)"
   ]
  },
  {
   "cell_type": "code",
   "execution_count": 53,
   "metadata": {},
   "outputs": [
    {
     "name": "stdout",
     "output_type": "stream",
     "text": [
      "Rolling the dice...\n",
      "Their values are:\n",
      "6\n",
      "5\n",
      "Roll them again? (y = yes): y\n",
      "Rolling the dice...\n",
      "Their values are:\n",
      "4\n",
      "4\n",
      "Roll them again? (y = yes): n\n"
     ]
    }
   ],
   "source": [
    "# This program simulates the rolling of dice.\n",
    "import random\n",
    "\n",
    "# Constants for the minimum and maximum random numbers\n",
    "MIN = 1\n",
    "MAX = 6\n",
    "\n",
    "def main():\n",
    "    # Create a variable to control the loop.\n",
    "    again = 'y'\n",
    "\n",
    "    # Simulate rolling the dice.\n",
    "    while again == 'y' or again == 'Y':\n",
    "        print('Rolling the dice...')\n",
    "        print('Their values are:')\n",
    "        print(random.randint(MIN, MAX))\n",
    "        print(random.randint(MIN, MAX))\n",
    "\n",
    "        # Do another roll of the dice?\n",
    "        again = input('Roll them again? (y = yes): ')\n",
    "\n",
    "# Call the main function.\n",
    "main()"
   ]
  },
  {
   "cell_type": "code",
   "execution_count": null,
   "metadata": {},
   "outputs": [],
   "source": [
    "# This program simulates 10 tosses of a coin.\n",
    "import random\n",
    "\n",
    "# Constants\n",
    "HEADS = 1\n",
    "TAILS = 2\n",
    "TOSSES = 10\n",
    "\n",
    "def main():\n",
    "    for toss in range(TOSSES): # 0, 1, 2,....,9\n",
    "        # Simulate the coin toss.\n",
    "        if random.randint(HEADS, TAILS) == HEADS:\n",
    "            print('Heads')\n",
    "        else:\n",
    "            print('Tails')\n",
    "            \n",
    "# Call the main function.\n",
    "main()"
   ]
  },
  {
   "cell_type": "code",
   "execution_count": 56,
   "metadata": {},
   "outputs": [
    {
     "name": "stdout",
     "output_type": "stream",
     "text": [
      "74\n",
      "5\n"
     ]
    }
   ],
   "source": [
    "random.seed(10)\n",
    "print(random.randint(1, 100))\n",
    "print(random.randint(1, 100))"
   ]
  },
  {
   "cell_type": "code",
   "execution_count": 57,
   "metadata": {},
   "outputs": [
    {
     "name": "stdout",
     "output_type": "stream",
     "text": [
      "74\n",
      "5\n"
     ]
    }
   ],
   "source": [
    "random.seed(10)\n",
    "print(random.randint(1, 100))\n",
    "print(random.randint(1, 100))"
   ]
  },
  {
   "cell_type": "code",
   "execution_count": 58,
   "metadata": {},
   "outputs": [
    {
     "name": "stdout",
     "output_type": "stream",
     "text": [
      "27\n",
      "2\n"
     ]
    }
   ],
   "source": [
    "random.seed(15)\n",
    "print(random.randint(1, 100))\n",
    "print(random.randint(1, 100))"
   ]
  },
  {
   "cell_type": "code",
   "execution_count": 60,
   "metadata": {},
   "outputs": [
    {
     "name": "stdout",
     "output_type": "stream",
     "text": [
      "10\n"
     ]
    }
   ],
   "source": [
    "def sum(num1, num2):\n",
    "    result = num1 + num2\n",
    "    return result\n",
    "print(sum(3,7))"
   ]
  }
 ],
 "metadata": {
  "kernelspec": {
   "display_name": "Python 3",
   "language": "python",
   "name": "python3"
  },
  "language_info": {
   "codemirror_mode": {
    "name": "ipython",
    "version": 3
   },
   "file_extension": ".py",
   "mimetype": "text/x-python",
   "name": "python",
   "nbconvert_exporter": "python",
   "pygments_lexer": "ipython3",
   "version": "3.7.6"
  }
 },
 "nbformat": 4,
 "nbformat_minor": 2
}
