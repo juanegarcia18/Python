{
 "cells": [
  {
   "cell_type": "code",
   "execution_count": 1,
   "metadata": {},
   "outputs": [
    {
     "name": "stdout",
     "output_type": "stream",
     "text": [
      "Original order: [1, 2, 3, 4, 5]\n",
      "Reversed: [5, 4, 3, 2, 1]\n"
     ]
    }
   ],
   "source": [
    "my_list = [1, 2, 3, 4, 5]\n",
    "print('Original order:', my_list)\n",
    "my_list.reverse()\n",
    "print('Reversed:', my_list)"
   ]
  },
  {
   "cell_type": "code",
   "execution_count": 2,
   "metadata": {},
   "outputs": [
    {
     "name": "stdout",
     "output_type": "stream",
     "text": [
      "Before deletion: [1, 2, 3, 4, 5]\n",
      "After deletion: [1, 2, 4, 5]\n"
     ]
    }
   ],
   "source": [
    "my_list = [1, 2, 3, 4, 5]\n",
    "print('Before deletion:', my_list)\n",
    "del my_list[2]\n",
    "print('After deletion:', my_list)"
   ]
  },
  {
   "cell_type": "code",
   "execution_count": 3,
   "metadata": {},
   "outputs": [
    {
     "name": "stdout",
     "output_type": "stream",
     "text": [
      "The lowest value is 2\n"
     ]
    }
   ],
   "source": [
    "my_list = [5, 4, 3, 2, 50, 40, 30]\n",
    "print('The lowest value is', min(my_list))"
   ]
  },
  {
   "cell_type": "code",
   "execution_count": 4,
   "metadata": {},
   "outputs": [
    {
     "name": "stdout",
     "output_type": "stream",
     "text": [
      "The highest value is 50\n"
     ]
    }
   ],
   "source": [
    "my_list = [5, 4, 3, 2, 50, 40, 30]\n",
    "print('The highest value is', max(my_list))"
   ]
  },
  {
   "cell_type": "code",
   "execution_count": 5,
   "metadata": {},
   "outputs": [
    {
     "name": "stdout",
     "output_type": "stream",
     "text": [
      "[1, 2, 99, 4]\n"
     ]
    }
   ],
   "source": [
    "# Create a list.\n",
    "list1 = [1, 2, 3, 4]\n",
    "# Assign the list to the list2 variable.\n",
    "list2 = list1\n",
    "list1[2]=99\n",
    "print(list2)"
   ]
  },
  {
   "cell_type": "code",
   "execution_count": 6,
   "metadata": {},
   "outputs": [
    {
     "name": "stdout",
     "output_type": "stream",
     "text": [
      "[1, 2, 3, 4]\n"
     ]
    }
   ],
   "source": [
    "# Create a list with values.\n",
    "list1 = [1, 2, 3, 4]\n",
    "# Create an empty list.\n",
    "list2 = []\n",
    "# Copy the elements of list1 to list2.\n",
    "for item in list1:\n",
    "    list2.append(item)\n",
    "print(list2)    "
   ]
  },
  {
   "cell_type": "code",
   "execution_count": 7,
   "metadata": {},
   "outputs": [
    {
     "name": "stdout",
     "output_type": "stream",
     "text": [
      "[1, 2, 3, 4]\n"
     ]
    }
   ],
   "source": [
    "# Create a list with values.\n",
    "list1 = [1, 2, 3, 4]\n",
    "# Create a copy of list1.\n",
    "list2 = [] + list1\n",
    "print(list2)"
   ]
  },
  {
   "cell_type": "code",
   "execution_count": 8,
   "metadata": {},
   "outputs": [
    {
     "name": "stdout",
     "output_type": "stream",
     "text": [
      "Enter the hours worked by employee 1: 14\n",
      "Enter the hours worked by employee 2: 16\n",
      "Enter the hours worked by employee 3: 11\n",
      "Enter the hours worked by employee 4: 13\n",
      "Enter the hours worked by employee 5: 20\n",
      "Enter the hours worked by employee 6: 18\n",
      "Enter the hourly pay rate: 18\n",
      "Gross pay for employee 1: $252.00\n",
      "Gross pay for employee 2: $288.00\n",
      "Gross pay for employee 3: $198.00\n",
      "Gross pay for employee 4: $234.00\n",
      "Gross pay for employee 5: $360.00\n",
      "Gross pay for employee 6: $324.00\n"
     ]
    }
   ],
   "source": [
    "# This program calculates the gross pay for\n",
    "# each of Megan's baristas.\n",
    "\n",
    "# NUM_EMPLOYEES is used as a constant for the\n",
    "# size of the list.\n",
    "NUM_EMPLOYEES = 6\n",
    "\n",
    "def main():\n",
    "    # Create a list to hold employee hours.\n",
    "    hours = [0] * NUM_EMPLOYEES\n",
    "\n",
    "    # Get each employee's hours worked.\n",
    "    for index in range(NUM_EMPLOYEES):\n",
    "        print('Enter the hours worked by employee ', \\\n",
    "              index + 1, ': ', sep='', end='')\n",
    "        hours[index] = float(input())\n",
    "\n",
    "    # Get the hourly pay rate.\n",
    "    pay_rate = float(input('Enter the hourly pay rate: '))\n",
    "\n",
    "    # Display each employee's gross pay.\n",
    "    for index in range(NUM_EMPLOYEES):\n",
    "        gross_pay = hours[index] * pay_rate\n",
    "        print('Gross pay for employee ', index + 1, ': $', \\\n",
    "              format(gross_pay, ',.2f'), sep='')\n",
    "\n",
    "# Call the main function.\n",
    "main()"
   ]
  },
  {
   "cell_type": "code",
   "execution_count": 9,
   "metadata": {},
   "outputs": [
    {
     "name": "stdout",
     "output_type": "stream",
     "text": [
      "Enter the hours worked by employee 1: 15\n",
      "Enter the hours worked by employee 2: 16\n",
      "Enter the hours worked by employee 3: 17\n",
      "Enter the hours worked by employee 4: 18\n",
      "Enter the hours worked by employee 5: 20\n",
      "Enter the hourly pay rate: 15\n",
      "Gross pay for employee 1: $225.00\n",
      "Gross pay for employee 2: $240.00\n",
      "Gross pay for employee 3: $255.00\n",
      "Gross pay for employee 4: $270.00\n",
      "Gross pay for employee 5: $300.00\n"
     ]
    }
   ],
   "source": [
    "# This program calculates the gross pay for\n",
    "# each of Megan's baristas.\n",
    "\n",
    "# NUM_EMPLOYEES is used as a constant for the\n",
    "# size of the list.\n",
    "#NUM_EMPLOYEES = 10\n",
    "\n",
    "def main():\n",
    "    # Create a list to hold employee hours.\n",
    "    hours = [0,0,0,0,0]\n",
    "\n",
    "    # Get each employee's hours worked.\n",
    "    for index in range(5):\n",
    "        print('Enter the hours worked by employee ', \\\n",
    "              index + 1, ': ', sep='', end='')\n",
    "        hours[index] = float(input())\n",
    "\n",
    "    # Get the hourly pay rate.\n",
    "    pay_rate = float(input('Enter the hourly pay rate: '))\n",
    "\n",
    "    # Display each employee's gross pay.\n",
    "    for index in range(5):\n",
    "        gross_pay = hours[index] * pay_rate\n",
    "        print('Gross pay for employee ', index + 1, ': $', \\\n",
    "              format(gross_pay, ',.2f'), sep='')\n",
    "\n",
    "# Call the main function.\n",
    "main()"
   ]
  },
  {
   "cell_type": "code",
   "execution_count": 10,
   "metadata": {},
   "outputs": [
    {
     "name": "stdout",
     "output_type": "stream",
     "text": [
      "The total of the elements is 30\n"
     ]
    }
   ],
   "source": [
    "# This program calculates the total of the values\n",
    "# in a list.\n",
    "\n",
    "def main():\n",
    "    # Create a list.\n",
    "    numbers = [2, 4, 6, 8, 10]\n",
    "\n",
    "    # Create a variable to use as an accumulator.\n",
    "    total = 0\n",
    "    \n",
    "    # Calculate the total of the list elements.\n",
    "    for value in numbers:\n",
    "        total += value\n",
    "\n",
    "    # Display the total of the list elements.\n",
    "    print('The total of the elements is', total)\n",
    "\n",
    "# Call the main function.\n",
    "main()"
   ]
  },
  {
   "cell_type": "code",
   "execution_count": 11,
   "metadata": {},
   "outputs": [
    {
     "name": "stdout",
     "output_type": "stream",
     "text": [
      "The average of the elements is 5.1\n"
     ]
    }
   ],
   "source": [
    "# This program calculates the average of the values\n",
    "# in a list.\n",
    "\n",
    "def main():\n",
    "    # Create a list.\n",
    "    scores = [2.5, 7.3, 6.5, 4.0, 5.2]\n",
    "\n",
    "    # Create a variable to use as an accumulator.\n",
    "    total = 0.0\n",
    "    \n",
    "    # Calculate the total of the list elements.\n",
    "    for value in scores:\n",
    "        total += value\n",
    "\n",
    "    # Calculate the average of the elements.\n",
    "    average = total / len(scores)\n",
    "    \n",
    "    # Display the total of the list elements.\n",
    "    print('The average of the elements is', average)\n",
    "\n",
    "# Call the main function.\n",
    "main()"
   ]
  },
  {
   "cell_type": "code",
   "execution_count": 12,
   "metadata": {},
   "outputs": [
    {
     "name": "stdout",
     "output_type": "stream",
     "text": [
      "The total is 30\n"
     ]
    }
   ],
   "source": [
    "# This program uses a function to calculate the\n",
    "# total of the values in a list.\n",
    "\n",
    "def main():\n",
    "    # Create a list.\n",
    "    numbers = [2, 4, 6, 8, 10]\n",
    "\n",
    "    # Display the total of the list elements.\n",
    "    print('The total is', get_total(numbers))\n",
    "\n",
    "# The get_total function accepts a list as an\n",
    "# argument returns the total of the values in\n",
    "# the list.\n",
    "def get_total(value_list):\n",
    "    # Create a variable to use as an accumulator.\n",
    "    total = 0\n",
    "    \n",
    "    # Calculate the total of the list elements.\n",
    "    for num in value_list:\n",
    "        total += num\n",
    "\n",
    "    # Return the total.\n",
    "    return total\n",
    "\n",
    "# Call the main function.\n",
    "main()"
   ]
  },
  {
   "cell_type": "code",
   "execution_count": 13,
   "metadata": {},
   "outputs": [
    {
     "name": "stdout",
     "output_type": "stream",
     "text": [
      "Enter a number: 1\n",
      "Do you want to add another number?\n",
      "y = yes, anything else = no: y\n",
      "Enter a number: 2\n",
      "Do you want to add another number?\n",
      "y = yes, anything else = no: y\n",
      "Enter a number: 3\n",
      "Do you want to add another number?\n",
      "y = yes, anything else = no: n\n",
      "The numbers in the list are:\n",
      "[1, 2, 3]\n"
     ]
    }
   ],
   "source": [
    "# This program uses a function to create a list.\n",
    "# The function returns a reference to the list.\n",
    "\n",
    "def main():\n",
    "    # Get a list with values stored in it.\n",
    "    numbers = get_values()\n",
    "\n",
    "    # Display the values in the list.\n",
    "    print('The numbers in the list are:')\n",
    "    print(numbers)\n",
    "\n",
    "# The get_values function gets a series of numbers\n",
    "# from the user and stores them in a list. The\n",
    "# function returns a reference to the list.\n",
    "def get_values():\n",
    "    # Create an empty list.\n",
    "    values = []\n",
    "    \n",
    "    # Create a variable to control the loop.\n",
    "    again = 'Y'\n",
    "\n",
    "    # Get values from the user and add them to\n",
    "    # the list.\n",
    "    while again.upper() == 'Y':\n",
    "        # Get a number and add it to the list.\n",
    "        num = int(input('Enter a number: '))\n",
    "        values.append(num)\n",
    "\n",
    "        # Want to do this again?\n",
    "        print('Do you want to add another number?')\n",
    "        again = input('y = yes, anything else = no: ')\n",
    "        print\n",
    "        \n",
    "    # Return the list.\n",
    "    return values\n",
    "\n",
    "# Call the main function.\n",
    "main()\n"
   ]
  },
  {
   "cell_type": "code",
   "execution_count": 14,
   "metadata": {},
   "outputs": [],
   "source": [
    "# This program uses the writelines method to save\n",
    "# a list of strings to a file.\n",
    "\n",
    "def main():\n",
    "    # Create a list of strings.\n",
    "    cities = ['New York', 'Boston', 'Atlanta', 'Dallas']\n",
    "\n",
    "    # Open a file for writing.\n",
    "    outfile = open('cities.txt', 'w')\n",
    "\n",
    "    # Write the list to the file.\n",
    "    outfile.writelines(cities)\n",
    "\n",
    "    # Close the file.\n",
    "    outfile.close()\n",
    "\n",
    "# Call the main function.\n",
    "main()"
   ]
  },
  {
   "cell_type": "code",
   "execution_count": 15,
   "metadata": {},
   "outputs": [],
   "source": [
    "# This program saves a list of strings to a file.\n",
    "\n",
    "def main():\n",
    "    # Create a list of strings.\n",
    "    cities = ['New York', 'Boston', 'Atlanta', 'Dallas']\n",
    "\n",
    "    # Open a file for writing.\n",
    "    outfile = open('cities.txt', 'w')\n",
    "\n",
    "    # Write the list to the file.\n",
    "    for item in cities:\n",
    "        outfile.write(item + '\\n')\n",
    "\n",
    "    # Close the file.\n",
    "    outfile.close()\n",
    "\n",
    "# Call the main function.\n",
    "main()\n"
   ]
  },
  {
   "cell_type": "code",
   "execution_count": 16,
   "metadata": {},
   "outputs": [
    {
     "name": "stdout",
     "output_type": "stream",
     "text": [
      "['New York', 'Boston', 'Atlanta', 'Dallas']\n"
     ]
    }
   ],
   "source": [
    "# This program reads a file's contents into a list.\n",
    "\n",
    "def main():\n",
    "    # Open a file for reading.\n",
    "    infile = open('cities.txt', 'r')\n",
    "\n",
    "    # Read the contents of the file into a list.\n",
    "    cities = infile.readlines()\n",
    "    \n",
    "    # Close the file.\n",
    "    infile.close()\n",
    "\n",
    "    # Strip the \\n from each element.\n",
    "    index = 0\n",
    "    while index < len(cities):\n",
    "        cities[index] = cities[index].rstrip('\\n')\n",
    "        index += 1\n",
    "\n",
    "    # Print the contents of the list.\n",
    "    print(cities)\n",
    "\n",
    "# Call the main function.\n",
    "main()\n"
   ]
  },
  {
   "cell_type": "code",
   "execution_count": 17,
   "metadata": {},
   "outputs": [],
   "source": [
    "# This program saves a list of numbers to a file.\n",
    "\n",
    "def main():\n",
    "    # Create a list of numbers.\n",
    "    numbers = [1, 2, 3, 4, 5, 6, 7]\n",
    "\n",
    "    # Open a file for writing.\n",
    "    outfile = open('numberlist.txt', 'w')\n",
    "\n",
    "    # Write the list to the file.\n",
    "    for item in numbers:\n",
    "        outfile.write(str(item) + '\\n')\n",
    "\n",
    "    # Close the file.\n",
    "    outfile.close()\n",
    "\n",
    "# Call the main function.\n",
    "main()\n"
   ]
  },
  {
   "cell_type": "code",
   "execution_count": 18,
   "metadata": {},
   "outputs": [
    {
     "name": "stdout",
     "output_type": "stream",
     "text": [
      "['1\\n', '2\\n', '3\\n', '4\\n', '5\\n', '6\\n', '7\\n']\n",
      "[1, 2, 3, 4, 5, 6, 7]\n"
     ]
    }
   ],
   "source": [
    "# This program reads numbers from a file into a list.\n",
    "\n",
    "def main():\n",
    "    # Open a file for reading.\n",
    "    infile = open('numberlist.txt', 'r')\n",
    "\n",
    "    # Read the contents of the file into a list.\n",
    "    numbers = infile.readlines()\n",
    "    \n",
    "    print (numbers)\n",
    "    \n",
    "    # Close the file.\n",
    "    infile.close()\n",
    "\n",
    "    # Convert each element to an int.\n",
    "    index = 0\n",
    "    while index < len(numbers):\n",
    "        numbers[index] = int(numbers[index])\n",
    "        index += 1\n",
    "\n",
    "    # Print the contents of the list.\n",
    "    print(numbers)\n",
    "\n",
    "# Call the main function.\n",
    "main()\n"
   ]
  },
  {
   "cell_type": "code",
   "execution_count": 19,
   "metadata": {},
   "outputs": [
    {
     "name": "stdout",
     "output_type": "stream",
     "text": [
      "[['Joe', 'Kim'], ['Sam', 'Sue'], ['Kelly', 'Chris']]\n"
     ]
    }
   ],
   "source": [
    "students = [['Joe', 'Kim'], ['Sam', 'Sue'], ['Kelly', 'Chris']] \n",
    "print(students) "
   ]
  },
  {
   "cell_type": "code",
   "execution_count": 20,
   "metadata": {},
   "outputs": [
    {
     "name": "stdout",
     "output_type": "stream",
     "text": [
      "['Joe', 'Kim']\n"
     ]
    }
   ],
   "source": [
    "print(students[0]) "
   ]
  },
  {
   "cell_type": "code",
   "execution_count": 21,
   "metadata": {},
   "outputs": [
    {
     "name": "stdout",
     "output_type": "stream",
     "text": [
      "['Sam', 'Sue']\n"
     ]
    }
   ],
   "source": [
    "print(students[1]) "
   ]
  },
  {
   "cell_type": "code",
   "execution_count": 24,
   "metadata": {},
   "outputs": [
    {
     "ename": "SyntaxError",
     "evalue": "invalid syntax (<ipython-input-24-441605e07120>, line 1)",
     "output_type": "error",
     "traceback": [
      "\u001b[1;36m  File \u001b[1;32m\"<ipython-input-24-441605e07120>\"\u001b[1;36m, line \u001b[1;32m1\u001b[0m\n\u001b[1;33m    print(students[,1])\u001b[0m\n\u001b[1;37m                   ^\u001b[0m\n\u001b[1;31mSyntaxError\u001b[0m\u001b[1;31m:\u001b[0m invalid syntax\n"
     ]
    }
   ],
   "source": [
    "print(students[,1]) "
   ]
  },
  {
   "cell_type": "code",
   "execution_count": 25,
   "metadata": {},
   "outputs": [
    {
     "ename": "TypeError",
     "evalue": "list indices must be integers or slices, not tuple",
     "output_type": "error",
     "traceback": [
      "\u001b[1;31m---------------------------------------------------------------------------\u001b[0m",
      "\u001b[1;31mTypeError\u001b[0m                                 Traceback (most recent call last)",
      "\u001b[1;32m<ipython-input-25-c9a7fe6da52a>\u001b[0m in \u001b[0;36m<module>\u001b[1;34m\u001b[0m\n\u001b[1;32m----> 1\u001b[1;33m \u001b[0mprint\u001b[0m\u001b[1;33m(\u001b[0m\u001b[0mstudents\u001b[0m\u001b[1;33m[\u001b[0m\u001b[1;36m2\u001b[0m\u001b[1;33m,\u001b[0m\u001b[1;36m1\u001b[0m\u001b[1;33m]\u001b[0m\u001b[1;33m)\u001b[0m\u001b[1;33m\u001b[0m\u001b[1;33m\u001b[0m\u001b[0m\n\u001b[0m",
      "\u001b[1;31mTypeError\u001b[0m: list indices must be integers or slices, not tuple"
     ]
    }
   ],
   "source": [
    "print(students[2,1]) "
   ]
  },
  {
   "cell_type": "code",
   "execution_count": 26,
   "metadata": {},
   "outputs": [
    {
     "name": "stdout",
     "output_type": "stream",
     "text": [
      "Chris\n"
     ]
    }
   ],
   "source": [
    "print(students[2][1]) "
   ]
  },
  {
   "cell_type": "code",
   "execution_count": 27,
   "metadata": {},
   "outputs": [
    {
     "name": "stdout",
     "output_type": "stream",
     "text": [
      "[[50, 1, 53, 52], [19, 48, 73, 54], [32, 67, 65, 74]]\n"
     ]
    }
   ],
   "source": [
    "# This program assigns random numbers to\n",
    "# a two-dimensional list.\n",
    "import random\n",
    "\n",
    "# Constants for rows and columns\n",
    "ROWS = 3\n",
    "COLS = 4\n",
    "\n",
    "def main():\n",
    "    # Create a two-dimensional list.\n",
    "    values = [[0, 0, 0, 0],\n",
    "              [0, 0, 0, 0],\n",
    "              [0, 0, 0, 0]]\n",
    "\n",
    "    # Fill the list with random numbers.\n",
    "    for r in range(ROWS):\n",
    "        for c in range(COLS):\n",
    "            values[r][c] = random.randint(1, 100)\n",
    "\n",
    "    # Display the random numbers.\n",
    "    print(values)\n",
    "\n",
    "# Call the main function.\n",
    "main()"
   ]
  },
  {
   "cell_type": "code",
   "execution_count": 28,
   "metadata": {},
   "outputs": [
    {
     "name": "stdout",
     "output_type": "stream",
     "text": [
      "('Holly', 'Warren', 'Ashley')\n"
     ]
    }
   ],
   "source": [
    "names = ('Holly', 'Warren', 'Ashley')\n",
    "print(names)"
   ]
  },
  {
   "cell_type": "code",
   "execution_count": 31,
   "metadata": {},
   "outputs": [
    {
     "ename": "TypeError",
     "evalue": "'tuple' object does not support item assignment",
     "output_type": "error",
     "traceback": [
      "\u001b[1;31m---------------------------------------------------------------------------\u001b[0m",
      "\u001b[1;31mTypeError\u001b[0m                                 Traceback (most recent call last)",
      "\u001b[1;32m<ipython-input-31-c665542e7731>\u001b[0m in \u001b[0;36m<module>\u001b[1;34m\u001b[0m\n\u001b[0;32m      1\u001b[0m \u001b[0mnames\u001b[0m \u001b[1;33m=\u001b[0m \u001b[1;33m(\u001b[0m\u001b[1;34m'Holly'\u001b[0m\u001b[1;33m,\u001b[0m \u001b[1;34m'Warren'\u001b[0m\u001b[1;33m,\u001b[0m \u001b[1;34m'Ashley'\u001b[0m\u001b[1;33m)\u001b[0m\u001b[1;33m\u001b[0m\u001b[1;33m\u001b[0m\u001b[0m\n\u001b[1;32m----> 2\u001b[1;33m \u001b[0mnames\u001b[0m\u001b[1;33m[\u001b[0m\u001b[1;36m1\u001b[0m\u001b[1;33m]\u001b[0m\u001b[1;33m=\u001b[0m\u001b[1;34m\"Sams\"\u001b[0m\u001b[1;33m\u001b[0m\u001b[1;33m\u001b[0m\u001b[0m\n\u001b[0m\u001b[0;32m      3\u001b[0m \u001b[0mprint\u001b[0m\u001b[1;33m(\u001b[0m\u001b[0mnames\u001b[0m\u001b[1;33m)\u001b[0m\u001b[1;33m\u001b[0m\u001b[1;33m\u001b[0m\u001b[0m\n",
      "\u001b[1;31mTypeError\u001b[0m: 'tuple' object does not support item assignment"
     ]
    }
   ],
   "source": [
    "names = ('Holly', 'Warren', 'Ashley')\n",
    "names[1]=\"Sams\"\n",
    "print(names)"
   ]
  },
  {
   "cell_type": "code",
   "execution_count": 32,
   "metadata": {},
   "outputs": [
    {
     "name": "stdout",
     "output_type": "stream",
     "text": [
      "Holly\n",
      "Warren\n",
      "Ashley\n"
     ]
    }
   ],
   "source": [
    "names = ('Holly', 'Warren', 'Ashley')\n",
    "for name in names:\n",
    "    print(name)"
   ]
  },
  {
   "cell_type": "code",
   "execution_count": 33,
   "metadata": {},
   "outputs": [
    {
     "name": "stdout",
     "output_type": "stream",
     "text": [
      "[1, 2, 3]\n"
     ]
    }
   ],
   "source": [
    "number_tuple = (1, 2, 3) \n",
    "number_list = list(number_tuple) \n",
    "print(number_list) "
   ]
  },
  {
   "cell_type": "code",
   "execution_count": 34,
   "metadata": {},
   "outputs": [
    {
     "name": "stdout",
     "output_type": "stream",
     "text": [
      "('one', 'two', 'three')\n"
     ]
    }
   ],
   "source": [
    "str_list = ['one', 'two', 'three'] \n",
    "str_tuple = tuple(str_list) \n",
    "print(str_tuple) "
   ]
  }
 ],
 "metadata": {
  "kernelspec": {
   "display_name": "Python 3",
   "language": "python",
   "name": "python3"
  },
  "language_info": {
   "codemirror_mode": {
    "name": "ipython",
    "version": 3
   },
   "file_extension": ".py",
   "mimetype": "text/x-python",
   "name": "python",
   "nbconvert_exporter": "python",
   "pygments_lexer": "ipython3",
   "version": "3.7.6"
  }
 },
 "nbformat": 4,
 "nbformat_minor": 2
}
