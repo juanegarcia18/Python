{
 "cells": [
  {
   "cell_type": "code",
   "execution_count": 1,
   "metadata": {},
   "outputs": [
    {
     "name": "stdout",
     "output_type": "stream",
     "text": [
      "True\n",
      "False\n"
     ]
    }
   ],
   "source": [
    "#The if Statement\n",
    "x = 1 \n",
    "y = 0 \n",
    "print(x > y) \n",
    "print(y > x)"
   ]
  },
  {
   "cell_type": "code",
   "execution_count": 10,
   "metadata": {},
   "outputs": [
    {
     "name": "stdout",
     "output_type": "stream",
     "text": [
      "Enter the score for test 1: 90\n",
      "Enter the score for test 2: 80\n",
      "Enter the score for test 3: 70\n",
      "The average score is 80.0\n"
     ]
    }
   ],
   "source": [
    "# This program gets three test scores and displays\n",
    "# their average.  It congratulates the user if the\n",
    "# average is a high score.\n",
    "\n",
    "# The high score variable holds the value that is\n",
    "# considered a high score.\n",
    "high_score = 95\n",
    " \n",
    "# Get the three test scores.\n",
    "test1 = int(input('Enter the score for test 1: '))\n",
    "test2 = int(input('Enter the score for test 2: '))\n",
    "test3 = int(input('Enter the score for test 3: '))\n",
    "\n",
    "# Calculate the average test score.\n",
    "average = (test1 + test2 + test3) / 3\n",
    "\n",
    "# Print the average.\n",
    "print('The average score is', average)\n",
    "\n",
    "# If the average is a high score,\n",
    "# congratulate the user.\n",
    "if average >= high_score:\n",
    "    print('Congratulations!')\n",
    "    print('That is a great average!')"
   ]
  },
  {
   "cell_type": "code",
   "execution_count": null,
   "metadata": {},
   "outputs": [],
   "source": [
    "#The if-else Statement"
   ]
  },
  {
   "cell_type": "code",
   "execution_count": 11,
   "metadata": {},
   "outputs": [
    {
     "name": "stdout",
     "output_type": "stream",
     "text": [
      "Enter the number of hours worked: 45\n",
      "Enter the hourly pay rate: 10\n",
      "The gross pay is $475.00\n"
     ]
    }
   ],
   "source": [
    "# Variables to represent the base hours and\n",
    "# the overtime multiplier.\n",
    "base_hours = 40       # Base hours per week\n",
    "ot_multiplier = 1.5   # Overtime multiplier\n",
    "\n",
    "# Get the hours worked and the hourly pay rate.\n",
    "hours = float(input('Enter the number of hours worked: '))\n",
    "pay_rate = float(input('Enter the hourly pay rate: '))\n",
    "\n",
    "# Calculate and display the gross pay.\n",
    "if hours > base_hours:\n",
    "    # Calculate the gross pay with overtime.\n",
    "    # First, get the number of overtime hours worked.\n",
    "    overtime_hours = hours - base_hours\n",
    "\n",
    "    # Calculate the amount of overtime pay.\n",
    "    overtime_pay = overtime_hours * pay_rate * ot_multiplier\n",
    "\n",
    "    # Calculate the gross pay.\n",
    "    gross_pay = base_hours * pay_rate + overtime_pay\n",
    "else:\n",
    "    # Calculate the gross pay without overtime.\n",
    "    gross_pay = hours * pay_rate\n",
    "\n",
    "# Display the gross pay.\n",
    "print('The gross pay is $', format(gross_pay, ',.2f'), sep='')"
   ]
  },
  {
   "cell_type": "code",
   "execution_count": null,
   "metadata": {},
   "outputs": [],
   "source": [
    "#Comparing Strings"
   ]
  },
  {
   "cell_type": "code",
   "execution_count": 12,
   "metadata": {},
   "outputs": [
    {
     "name": "stdout",
     "output_type": "stream",
     "text": [
      "The names are NOT the same.\n"
     ]
    }
   ],
   "source": [
    "name1 = 'Mary'\n",
    "name2 = 'Mark'\n",
    "if name1 == name2:\n",
    "    print('The names are the same.')\n",
    "else:\n",
    "    print('The names are NOT the same.')"
   ]
  },
  {
   "cell_type": "code",
   "execution_count": 13,
   "metadata": {},
   "outputs": [
    {
     "name": "stdout",
     "output_type": "stream",
     "text": [
      "Mary is greater than Mark\n"
     ]
    }
   ],
   "source": [
    "name1 = 'Mary'\n",
    "name2 = 'Mark'\n",
    "if name1 > name2:\n",
    "    print('Mary is greater than Mark')\n",
    "else:\n",
    "    print('Mary is not greater than Mark')"
   ]
  },
  {
   "cell_type": "code",
   "execution_count": 3,
   "metadata": {},
   "outputs": [
    {
     "name": "stdout",
     "output_type": "stream",
     "text": [
      "Enter a name (last name first): Jones, Richard\n",
      "Enter another name (last name first): Costa, Joan\n",
      "Here are the names, listed alphabetically.\n",
      "Costa, Joan\n",
      "Jones, Richard\n"
     ]
    }
   ],
   "source": [
    "#sort names\n",
    "# This program compare strings with the < operator.\n",
    "# Get two names from the user.\n",
    "name1 = input('Enter a name (last name first): ')\n",
    "name2 = input('Enter another name (last name first): ')\n",
    "    \n",
    "# Display the names in alphabetical order.\n",
    "print('Here are the names, listed alphabetically.')\n",
    "\n",
    "if name1 < name2:\n",
    "    print(name1)\n",
    "    print(name2)\n",
    "else:\n",
    "    print(name2)\n",
    "    print(name1)"
   ]
  },
  {
   "cell_type": "code",
   "execution_count": null,
   "metadata": {},
   "outputs": [],
   "source": [
    "# This program compares two strings.\n",
    "# Get a password from the user.\n",
    "password = input('Enter the password: ')\n",
    "\n",
    "# Determine whether the correct password\n",
    "# was entered.\n",
    "if password == 'prospero':\n",
    "    print('Password accepted.')\n",
    "else:\n",
    "    print('Sorry, that is the wrong password.')"
   ]
  },
  {
   "cell_type": "code",
   "execution_count": null,
   "metadata": {},
   "outputs": [],
   "source": [
    "#3.4 Nested Decision Structures and the if-elif-else Statement"
   ]
  },
  {
   "cell_type": "code",
   "execution_count": 14,
   "metadata": {},
   "outputs": [
    {
     "name": "stdout",
     "output_type": "stream",
     "text": [
      "Enter your annual salary: 25000\n",
      "Enter the number of years employed: 4\n",
      "You must earn at least $30,000.00 per year to qualify.\n"
     ]
    }
   ],
   "source": [
    "# This program determines whether a bank customer\n",
    "# qualifies for a loan.\n",
    "\n",
    "min_salary = 30000.0  # The minimum annual salary\n",
    "min_years = 2         # The minimum years on the job\n",
    "\n",
    "# Get the customer's annual salary.\n",
    "salary = float(input('Enter your annual salary: '))\n",
    "\n",
    "# Get the number of years on the current job.\n",
    "years_on_job = int(input('Enter the number of ' +\n",
    "                         'years employed: '))\n",
    "\n",
    "# Determine whether the customer qualifies.\n",
    "if salary >= min_salary:\n",
    "    if years_on_job >= min_years:\n",
    "        print('You qualify for the loan.')\n",
    "    else:\n",
    "        print('You must have been employed', \\\n",
    "              'for at least', min_years, \\\n",
    "              'years to qualify.')\n",
    "else:\n",
    "    print('You must earn at least $', \\\n",
    "          format(min_salary, ',.2f'), \\\n",
    "          ' per year to qualify.', sep='')\n"
   ]
  },
  {
   "cell_type": "code",
   "execution_count": 16,
   "metadata": {},
   "outputs": [
    {
     "name": "stdout",
     "output_type": "stream",
     "text": [
      "Enter your annual salary: 25000\n",
      "Enter the number of years employed: 3\n",
      "You must earn at least $ 30,000.00  per year to qualify.\n"
     ]
    }
   ],
   "source": [
    "# This program determines whether a bank customer\n",
    "# qualifies for a loan.\n",
    "\n",
    "min_salary = 30000.0  # The minimum annual salary\n",
    "min_years = 2         # The minimum years on the job\n",
    "\n",
    "# Get the customer's annual salary.\n",
    "salary = float(input('Enter your annual salary: '))\n",
    "\n",
    "# Get the number of years on the current job.\n",
    "years_on_job = int(input('Enter the number of ' +\n",
    "                         'years employed: '))\n",
    "\n",
    "# Determine whether the customer qualifies.\n",
    "if salary >= min_salary:\n",
    "    if years_on_job >= min_years:\n",
    "        print('You qualify for the loan.')\n",
    "    else:\n",
    "        print('You must have been employed', \\\n",
    "              'for at least', min_years, \\\n",
    "              'years to qualify.')\n",
    "else:\n",
    "    print('You must earn at least $', \\\n",
    "          format(min_salary, ',.2f'), \\\n",
    "          ' per year to qualify.')"
   ]
  },
  {
   "cell_type": "code",
   "execution_count": null,
   "metadata": {},
   "outputs": [],
   "source": [
    "#Testing a Series of Conditions\n",
    "\n",
    "# This program gets a numeric test score from the\n",
    "# user and displays the corresponding letter grade.\n",
    "\n",
    "# Variables to represent the grade thresholds\n",
    "A_score = 90\n",
    "B_score = 80\n",
    "C_score = 70\n",
    "D_score = 60\n",
    "\n",
    "# Get a test score from the user.\n",
    "score = int(input('Enter your test score: '))\n",
    " \n",
    "# Determine the grade.\n",
    "if score >= A_score:\n",
    "    print('Your grade is A.')\n",
    "else:\n",
    "    if score >= B_score:\n",
    "        print('Your grade is B.')\n",
    "    else:\n",
    "        if score >= C_score:\n",
    "            print('Your grade is C.')\n",
    "        else:\n",
    "            if score >= D_score:\n",
    "                print('Your grade is D.')\n",
    "            else:\n",
    "                print('Your grade is F.')\n",
    "\n"
   ]
  },
  {
   "cell_type": "code",
   "execution_count": null,
   "metadata": {},
   "outputs": [],
   "source": [
    "#The if-elif-else Statement"
   ]
  },
  {
   "cell_type": "code",
   "execution_count": null,
   "metadata": {},
   "outputs": [],
   "source": [
    "# Variables to represent the grade thresholds\n",
    "A_score = 90\n",
    "B_score = 80\n",
    "C_score = 70\n",
    "D_score = 60\n",
    "\n",
    "# Get a test score from the user.\n",
    "score = int(input('Enter your test score: '))\n",
    "\n",
    "if score >= A_score:\n",
    "    print('Your grade is A.')\n",
    "elif score >= B_score:\n",
    "    print('Your grade is B.')\n",
    "elif score >= C_score:\n",
    "    print('Your grade is C.')\n",
    "elif score >= D_score:\n",
    "    print('Your grade is D.')\n",
    "else:\n",
    "    print('Your grade is F.')"
   ]
  },
  {
   "cell_type": "code",
   "execution_count": null,
   "metadata": {},
   "outputs": [],
   "source": [
    "#3.5 Logical Operators"
   ]
  },
  {
   "cell_type": "code",
   "execution_count": null,
   "metadata": {},
   "outputs": [],
   "source": [
    "# This program determines whether a bank customer\n",
    "# qualifies for a loan.\n",
    "\n",
    "min_salary = 30000.0  # The minimum annual salary\n",
    "min_years = 2         # The minimum years on the job\n",
    "\n",
    "# Get the customer's annual salary.\n",
    "salary = float(input('Enter your annual salary: '))\n",
    "\n",
    "# Get the number of years on the current job.\n",
    "years_on_job = int(input('Enter the number of ' +\n",
    "                         'years employed: '))\n",
    "\n",
    "# Determine whether the customer qualifies.\n",
    "if salary >= min_salary and years_on_job >= min_years:\n",
    "    print('You qualify for the loan.')\n",
    "else:\n",
    "    print('You do not qualify for this loan.')"
   ]
  },
  {
   "cell_type": "code",
   "execution_count": null,
   "metadata": {},
   "outputs": [],
   "source": [
    "#3.6 Boolean Variables"
   ]
  },
  {
   "cell_type": "code",
   "execution_count": 4,
   "metadata": {},
   "outputs": [
    {
     "name": "stdout",
     "output_type": "stream",
     "text": [
      "Enter the score for test 1: 55000\n",
      "You have met your sales quota!\n"
     ]
    }
   ],
   "source": [
    "#For example, suppose a salesperson has a quota of $50,000. \n",
    "#Assuming sales references the amount that the salesperson has sold, \n",
    "#the following code determines whether the quota has been met:\n",
    "\n",
    "# Get the the amount that the salesperson has sold\n",
    "sales = float(input('Enter the score for test 1: '))\n",
    "if sales >= 50000.0:\n",
    "    sales_quota_met = True\n",
    "else:\n",
    "    sales_quota_met = False\n",
    "\n",
    "if sales_quota_met:\n",
    "    print('You have met your sales quota!')"
   ]
  }
 ],
 "metadata": {
  "kernelspec": {
   "display_name": "Python 3",
   "language": "python",
   "name": "python3"
  },
  "language_info": {
   "codemirror_mode": {
    "name": "ipython",
    "version": 3
   },
   "file_extension": ".py",
   "mimetype": "text/x-python",
   "name": "python",
   "nbconvert_exporter": "python",
   "pygments_lexer": "ipython3",
   "version": "3.7.6"
  }
 },
 "nbformat": 4,
 "nbformat_minor": 2
}
