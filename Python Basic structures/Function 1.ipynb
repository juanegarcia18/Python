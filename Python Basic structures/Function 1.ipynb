{
 "cells": [
  {
   "cell_type": "code",
   "execution_count": 3,
   "metadata": {},
   "outputs": [
    {
     "name": "stdout",
     "output_type": "stream",
     "text": [
      "I am Arthur\n",
      "King of the Britons\n"
     ]
    }
   ],
   "source": [
    "# This program demonstrates a function.\n",
    "# First, we define a function named message.\n",
    "def message():\n",
    "    print('I am Arthur')\n",
    "    print('King of the Britons')\n",
    "\n",
    "# Call the message function.\n",
    "message() #calling statement\n"
   ]
  },
  {
   "cell_type": "code",
   "execution_count": 1,
   "metadata": {},
   "outputs": [
    {
     "ename": "NameError",
     "evalue": "name 'message' is not defined",
     "output_type": "error",
     "traceback": [
      "\u001b[1;31m---------------------------------------------------------------------------\u001b[0m",
      "\u001b[1;31mNameError\u001b[0m                                 Traceback (most recent call last)",
      "\u001b[1;32m<ipython-input-1-149035e55898>\u001b[0m in \u001b[0;36m<module>\u001b[1;34m\u001b[0m\n\u001b[0;32m      2\u001b[0m \u001b[1;33m\u001b[0m\u001b[0m\n\u001b[0;32m      3\u001b[0m \u001b[1;31m# Call the message function.\u001b[0m\u001b[1;33m\u001b[0m\u001b[1;33m\u001b[0m\u001b[1;33m\u001b[0m\u001b[0m\n\u001b[1;32m----> 4\u001b[1;33m \u001b[0mmessage\u001b[0m\u001b[1;33m(\u001b[0m\u001b[1;33m)\u001b[0m \u001b[1;31m#calling statement\u001b[0m\u001b[1;33m\u001b[0m\u001b[1;33m\u001b[0m\u001b[0m\n\u001b[0m\u001b[0;32m      5\u001b[0m \u001b[1;33m\u001b[0m\u001b[0m\n\u001b[0;32m      6\u001b[0m \u001b[1;31m# First, we define a function named message.\u001b[0m\u001b[1;33m\u001b[0m\u001b[1;33m\u001b[0m\u001b[1;33m\u001b[0m\u001b[0m\n",
      "\u001b[1;31mNameError\u001b[0m: name 'message' is not defined"
     ]
    }
   ],
   "source": [
    "# This program demonstrates a function.\n",
    "\n",
    "# Call the message function.\n",
    "message() #calling statement\n",
    "\n",
    "# First, we define a function named message.\n",
    "def message():\n",
    "    print('I am Arthur')\n",
    "    print('King of the Britons')"
   ]
  },
  {
   "cell_type": "code",
   "execution_count": 2,
   "metadata": {},
   "outputs": [],
   "source": [
    "# This program demonstrates a function.\n",
    "# First, we define a function named message.\n",
    "def message():\n",
    "    print('I am Arthur')\n",
    "    print('King of the Britons')\n",
    "\n",
    "# Call the message function.\n",
    "#message() #calling statement"
   ]
  },
  {
   "cell_type": "code",
   "execution_count": 4,
   "metadata": {},
   "outputs": [
    {
     "name": "stdout",
     "output_type": "stream",
     "text": [
      "I have a message for you.\n",
      "I am Arthur\n",
      "King of the Britons.\n",
      "Goodbye!\n"
     ]
    }
   ],
   "source": [
    "# This program has two functions. First we\n",
    "# define the main function.\n",
    "def main():\n",
    "    print('I have a message for you.')\n",
    "    message()\n",
    "    print('Goodbye!')\n",
    "    \n",
    "# Next we define the message function.\n",
    "def message():\n",
    "    print('I am Arthur')\n",
    "    print('King of the Britons.')\n",
    "\n",
    "# Call the main function.\n",
    "main()\n"
   ]
  },
  {
   "cell_type": "code",
   "execution_count": 5,
   "metadata": {},
   "outputs": [
    {
     "name": "stdout",
     "output_type": "stream",
     "text": [
      "This program tells you how to\n",
      "disassemble an ACME laundry dryer.\n",
      "There are 4 steps in the process.\n",
      "\n",
      "Press Enter to see Step 1.\n",
      "Step 1: Unplug the dryer and\n",
      "move it away from the wall.\n",
      "\n",
      "Press Enter to see Step 2.\n",
      "Step 2: Remove the six screws\n",
      "from the back of the dryer.\n",
      "\n",
      "Press Enter to see Step 3.\n",
      "Step 3: Remove the back panel\n",
      "from the dryer.\n",
      "\n",
      "Press Enter to see Step 4.\n",
      "Step 4: Pull the top of the\n",
      "dryer straight up.\n"
     ]
    }
   ],
   "source": [
    "# This program displays step-by-step instructions\n",
    "# for disassembling an Acme dryer.\n",
    "# The main function performs the program's main logic.\n",
    "def main():\n",
    "    # Display the start-up message.\n",
    "    startup_message()\n",
    "    input('Press Enter to see Step 1.')\n",
    "    # Display step 1.\n",
    "    step1()\n",
    "    input('Press Enter to see Step 2.')\n",
    "    # Display step 2.\n",
    "    step2()\n",
    "    input('Press Enter to see Step 3.')\n",
    "    # Display step 3.\n",
    "    step3()\n",
    "    input('Press Enter to see Step 4.')\n",
    "    # Display step 4.\n",
    "    step4()\n",
    "\n",
    "# The startup_message function displays the\n",
    "# program's initial message on the screen.\n",
    "def startup_message():\n",
    "    print('This program tells you how to')\n",
    "    print('disassemble an ACME laundry dryer.')\n",
    "    print('There are 4 steps in the process.')\n",
    "    print()\n",
    "\n",
    "# The step1 function displays the instructions\n",
    "# for step 1.\n",
    "def step1():\n",
    "    print('Step 1: Unplug the dryer and')\n",
    "    print('move it away from the wall.')\n",
    "    print()\n",
    "\n",
    "# The step2 function displays the instructions\n",
    "# for step 2.\n",
    "def step2():\n",
    "    print('Step 2: Remove the six screws')\n",
    "    print('from the back of the dryer.')\n",
    "    print()\n",
    "\n",
    "# The step3 function displays the instructions\n",
    "# for step 3.\n",
    "def step3():\n",
    "    print('Step 3: Remove the back panel')\n",
    "    print('from the dryer.')\n",
    "    print()\n",
    "\n",
    "# The step4 function displays the instructions\n",
    "# for step 4.\n",
    "def step4():\n",
    "    print('Step 4: Pull the top of the')\n",
    "    print('dryer straight up.')\n",
    "\n",
    "# Call the main function to begin the program.\n",
    "main()\n"
   ]
  },
  {
   "cell_type": "code",
   "execution_count": 1,
   "metadata": {},
   "outputs": [
    {
     "name": "stdout",
     "output_type": "stream",
     "text": [
      "Enter your name: Mohammad\n"
     ]
    },
    {
     "ename": "NameError",
     "evalue": "name 'name' is not defined",
     "output_type": "error",
     "traceback": [
      "\u001b[1;31m---------------------------------------------------------------------------\u001b[0m",
      "\u001b[1;31mNameError\u001b[0m                                 Traceback (most recent call last)",
      "\u001b[1;32m<ipython-input-1-99fcf16a6f63>\u001b[0m in \u001b[0;36m<module>\u001b[1;34m\u001b[0m\n\u001b[0;32m      9\u001b[0m \u001b[1;33m\u001b[0m\u001b[0m\n\u001b[0;32m     10\u001b[0m \u001b[1;31m# Call the main function.\u001b[0m\u001b[1;33m\u001b[0m\u001b[1;33m\u001b[0m\u001b[1;33m\u001b[0m\u001b[0m\n\u001b[1;32m---> 11\u001b[1;33m \u001b[0mmain\u001b[0m\u001b[1;33m(\u001b[0m\u001b[1;33m)\u001b[0m\u001b[1;33m\u001b[0m\u001b[1;33m\u001b[0m\u001b[0m\n\u001b[0m",
      "\u001b[1;32m<ipython-input-1-99fcf16a6f63>\u001b[0m in \u001b[0;36mmain\u001b[1;34m()\u001b[0m\n\u001b[0;32m      2\u001b[0m \u001b[1;32mdef\u001b[0m \u001b[0mmain\u001b[0m\u001b[1;33m(\u001b[0m\u001b[1;33m)\u001b[0m\u001b[1;33m:\u001b[0m\u001b[1;33m\u001b[0m\u001b[1;33m\u001b[0m\u001b[0m\n\u001b[0;32m      3\u001b[0m     \u001b[0mget_name\u001b[0m\u001b[1;33m(\u001b[0m\u001b[1;33m)\u001b[0m\u001b[1;33m\u001b[0m\u001b[1;33m\u001b[0m\u001b[0m\n\u001b[1;32m----> 4\u001b[1;33m     \u001b[0mprint\u001b[0m\u001b[1;33m(\u001b[0m\u001b[1;34m'Hello'\u001b[0m\u001b[1;33m,\u001b[0m \u001b[0mname\u001b[0m\u001b[1;33m)\u001b[0m     \u001b[1;31m# This causes an error!\u001b[0m\u001b[1;33m\u001b[0m\u001b[1;33m\u001b[0m\u001b[0m\n\u001b[0m\u001b[0;32m      5\u001b[0m \u001b[1;33m\u001b[0m\u001b[0m\n\u001b[0;32m      6\u001b[0m \u001b[1;31m# Definition of the get_name function.\u001b[0m\u001b[1;33m\u001b[0m\u001b[1;33m\u001b[0m\u001b[1;33m\u001b[0m\u001b[0m\n",
      "\u001b[1;31mNameError\u001b[0m: name 'name' is not defined"
     ]
    }
   ],
   "source": [
    "# Definition of the main function.\n",
    "def main():\n",
    "    get_name()\n",
    "    print('Hello', name)     # This causes an error!\n",
    "\n",
    "# Definition of the get_name function.\n",
    "def get_name():\n",
    "    name = input('Enter your name: ')\n",
    "\n",
    "# Call the main function.\n",
    "main()"
   ]
  },
  {
   "cell_type": "code",
   "execution_count": 7,
   "metadata": {},
   "outputs": [
    {
     "name": "stdout",
     "output_type": "stream",
     "text": [
      "Enter your name: Mohammad\n",
      "Hello Mohammad\n"
     ]
    }
   ],
   "source": [
    "# Definition of the main function.\n",
    "def main():\n",
    "    get_name()\n",
    "        \n",
    "# Definition of the get_name function.\n",
    "def get_name():\n",
    "    name = input('Enter your name: ')\n",
    "    print('Hello', name) \n",
    "\n",
    "# Call the main function.\n",
    "main()"
   ]
  },
  {
   "cell_type": "code",
   "execution_count": 8,
   "metadata": {},
   "outputs": [
    {
     "name": "stdout",
     "output_type": "stream",
     "text": [
      "10\n"
     ]
    }
   ],
   "source": [
    "# This program demonstrates an argument being\n",
    "# passed to a function.\n",
    "\n",
    "def main():\n",
    "    value = 5\n",
    "    show_double(value)\n",
    "    \n",
    "# The show_double function accepts an argument\n",
    "# and displays double its value.\n",
    "def show_double(number):\n",
    "    result = number * 2\n",
    "    print(result)\n",
    "\n",
    "# Call the main function.\n",
    "main()"
   ]
  },
  {
   "cell_type": "code",
   "execution_count": 12,
   "metadata": {},
   "outputs": [
    {
     "name": "stdout",
     "output_type": "stream",
     "text": [
      "10\n",
      "5\n"
     ]
    }
   ],
   "source": [
    "# This program demonstrates an argument being\n",
    "# passed to a function.\n",
    "\n",
    "def main():\n",
    "    value = 5\n",
    "    show_double(value)\n",
    "    print(value)\n",
    "    \n",
    "    \n",
    "# The show_double function accepts an argument\n",
    "# and displays double its value.\n",
    "def show_double(number):\n",
    "    result = number * 2\n",
    "    print(result)\n",
    "    number=result\n",
    "\n",
    "# Call the main function.\n",
    "main()"
   ]
  }
 ],
 "metadata": {
  "kernelspec": {
   "display_name": "Python 3",
   "language": "python",
   "name": "python3"
  },
  "language_info": {
   "codemirror_mode": {
    "name": "ipython",
    "version": 3
   },
   "file_extension": ".py",
   "mimetype": "text/x-python",
   "name": "python",
   "nbconvert_exporter": "python",
   "pygments_lexer": "ipython3",
   "version": "3.7.6"
  }
 },
 "nbformat": 4,
 "nbformat_minor": 2
}
