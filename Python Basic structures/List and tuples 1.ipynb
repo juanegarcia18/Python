{
 "cells": [
  {
   "cell_type": "code",
   "execution_count": 2,
   "metadata": {},
   "outputs": [
    {
     "name": "stdout",
     "output_type": "stream",
     "text": [
      "[2, 4, 6, 8, 10]\n"
     ]
    }
   ],
   "source": [
    "even_numbers = [2, 4, 6, 8, 10]\n",
    "print(even_numbers)"
   ]
  },
  {
   "cell_type": "code",
   "execution_count": 3,
   "metadata": {},
   "outputs": [
    {
     "name": "stdout",
     "output_type": "stream",
     "text": [
      "['Molly', 'Steven', 'Will', 'Alicia', 'Adriana']\n"
     ]
    }
   ],
   "source": [
    "names = ['Molly', 'Steven', 'Will', 'Alicia', 'Adriana']\n",
    "print(names)"
   ]
  },
  {
   "cell_type": "code",
   "execution_count": null,
   "metadata": {},
   "outputs": [],
   "source": [
    "info = ['Alicia', 27, 1550.87]"
   ]
  },
  {
   "cell_type": "code",
   "execution_count": 4,
   "metadata": {},
   "outputs": [
    {
     "name": "stdout",
     "output_type": "stream",
     "text": [
      "[5, 10, 15, 20]\n"
     ]
    }
   ],
   "source": [
    "numbers = [5, 10, 15, 20]\n",
    "print(numbers)"
   ]
  },
  {
   "cell_type": "code",
   "execution_count": 5,
   "metadata": {},
   "outputs": [
    {
     "name": "stdout",
     "output_type": "stream",
     "text": [
      "[0, 1, 2, 3, 4]\n"
     ]
    }
   ],
   "source": [
    "numbers = list(range(5))\n",
    "print(numbers)"
   ]
  },
  {
   "cell_type": "code",
   "execution_count": 6,
   "metadata": {},
   "outputs": [
    {
     "name": "stdout",
     "output_type": "stream",
     "text": [
      "[2, 4, 6, 8]\n"
     ]
    }
   ],
   "source": [
    "numbers = list(range(2,10,2))\n",
    "print(numbers)"
   ]
  },
  {
   "cell_type": "code",
   "execution_count": 7,
   "metadata": {},
   "outputs": [
    {
     "name": "stdout",
     "output_type": "stream",
     "text": [
      "[0, 0, 0, 0, 0]\n"
     ]
    }
   ],
   "source": [
    "numbers = [0] * 5 \n",
    "print(numbers)"
   ]
  },
  {
   "cell_type": "code",
   "execution_count": 9,
   "metadata": {},
   "outputs": [
    {
     "name": "stdout",
     "output_type": "stream",
     "text": [
      "[1, 2, 3, 1, 2, 3, 1, 2, 3]\n",
      "1\n",
      "2\n",
      "3\n",
      "1\n",
      "2\n",
      "3\n",
      "1\n",
      "2\n",
      "3\n"
     ]
    }
   ],
   "source": [
    "numbers = [1, 2, 3] * 3 \n",
    "print(numbers)\n",
    "for num in numbers:\n",
    "    print(num)"
   ]
  },
  {
   "cell_type": "code",
   "execution_count": 10,
   "metadata": {},
   "outputs": [
    {
     "name": "stdout",
     "output_type": "stream",
     "text": [
      "10 20 30 40\n"
     ]
    }
   ],
   "source": [
    "my_list = [10, 20, 30, 40]\n",
    "print(my_list[0], my_list[1], my_list[2], my_list[3])"
   ]
  },
  {
   "cell_type": "code",
   "execution_count": 11,
   "metadata": {},
   "outputs": [
    {
     "name": "stdout",
     "output_type": "stream",
     "text": [
      "10\n",
      "20\n",
      "30\n",
      "40\n"
     ]
    }
   ],
   "source": [
    "index = 0\n",
    "while index < 4:\n",
    "    print(my_list[index])\n",
    "    index += 1"
   ]
  },
  {
   "cell_type": "code",
   "execution_count": 12,
   "metadata": {},
   "outputs": [
    {
     "name": "stdout",
     "output_type": "stream",
     "text": [
      "10\n",
      "20\n",
      "30\n",
      "40\n"
     ]
    }
   ],
   "source": [
    "for item in my_list:\n",
    "    print(item)"
   ]
  },
  {
   "cell_type": "code",
   "execution_count": 14,
   "metadata": {},
   "outputs": [
    {
     "name": "stdout",
     "output_type": "stream",
     "text": [
      "40 30 20 10\n"
     ]
    }
   ],
   "source": [
    "my_list = [10, 20, 30, 40]\n",
    "print(my_list[-1], my_list[-2], my_list[-3], my_list[-4])"
   ]
  },
  {
   "cell_type": "code",
   "execution_count": 15,
   "metadata": {},
   "outputs": [
    {
     "name": "stdout",
     "output_type": "stream",
     "text": [
      "10\n",
      "20\n",
      "30\n",
      "40\n"
     ]
    },
    {
     "ename": "IndexError",
     "evalue": "list index out of range",
     "output_type": "error",
     "traceback": [
      "\u001b[1;31m---------------------------------------------------------------------------\u001b[0m",
      "\u001b[1;31mIndexError\u001b[0m                                Traceback (most recent call last)",
      "\u001b[1;32m<ipython-input-15-1cac81625c7a>\u001b[0m in \u001b[0;36m<module>\u001b[1;34m\u001b[0m\n\u001b[0;32m      2\u001b[0m \u001b[0mindex\u001b[0m \u001b[1;33m=\u001b[0m \u001b[1;36m0\u001b[0m\u001b[1;33m\u001b[0m\u001b[1;33m\u001b[0m\u001b[0m\n\u001b[0;32m      3\u001b[0m \u001b[1;32mwhile\u001b[0m \u001b[0mindex\u001b[0m \u001b[1;33m<\u001b[0m \u001b[1;36m5\u001b[0m\u001b[1;33m:\u001b[0m\u001b[1;33m\u001b[0m\u001b[1;33m\u001b[0m\u001b[0m\n\u001b[1;32m----> 4\u001b[1;33m     \u001b[0mprint\u001b[0m\u001b[1;33m(\u001b[0m\u001b[0mmy_list\u001b[0m\u001b[1;33m[\u001b[0m\u001b[0mindex\u001b[0m\u001b[1;33m]\u001b[0m\u001b[1;33m)\u001b[0m\u001b[1;33m\u001b[0m\u001b[1;33m\u001b[0m\u001b[0m\n\u001b[0m\u001b[0;32m      5\u001b[0m     \u001b[0mindex\u001b[0m \u001b[1;33m+=\u001b[0m \u001b[1;36m1\u001b[0m\u001b[1;33m\u001b[0m\u001b[1;33m\u001b[0m\u001b[0m\n",
      "\u001b[1;31mIndexError\u001b[0m: list index out of range"
     ]
    }
   ],
   "source": [
    "my_list = [10, 20, 30, 40]\n",
    "index = 0\n",
    "while index < 5:\n",
    "    print(my_list[index])\n",
    "    index += 1"
   ]
  },
  {
   "cell_type": "code",
   "execution_count": 16,
   "metadata": {},
   "outputs": [
    {
     "name": "stdout",
     "output_type": "stream",
     "text": [
      "10\n",
      "20\n",
      "30\n",
      "40\n"
     ]
    }
   ],
   "source": [
    "my_list = [10, 20, 30, 40]\n",
    "index = 0\n",
    "while index < 4:\n",
    "    print(my_list[index])\n",
    "    index += 1"
   ]
  },
  {
   "cell_type": "code",
   "execution_count": 17,
   "metadata": {},
   "outputs": [
    {
     "name": "stdout",
     "output_type": "stream",
     "text": [
      "10\n",
      "20\n",
      "30\n",
      "40\n"
     ]
    }
   ],
   "source": [
    "my_list = [10, 20, 30, 40]\n",
    "index = 0\n",
    "while index < len(my_list):\n",
    "    print(my_list[index])\n",
    "    index += 1"
   ]
  },
  {
   "cell_type": "code",
   "execution_count": 18,
   "metadata": {},
   "outputs": [
    {
     "name": "stdout",
     "output_type": "stream",
     "text": [
      "10\n",
      "20\n",
      "30\n",
      "40\n"
     ]
    }
   ],
   "source": [
    "my_list = [10, 20, 30, 40]\n",
    "index = 0\n",
    "while index <= len(my_list)-1:\n",
    "    print(my_list[index])\n",
    "    index += 1"
   ]
  },
  {
   "cell_type": "code",
   "execution_count": 19,
   "metadata": {},
   "outputs": [
    {
     "name": "stdout",
     "output_type": "stream",
     "text": [
      "[1, 2, 3, 4, 5]\n",
      "[99, 2, 3, 4, 5]\n"
     ]
    }
   ],
   "source": [
    "numbers = [1, 2, 3, 4, 5]\n",
    "print(numbers)\n",
    "numbers[0] = 99\n",
    "print(numbers)"
   ]
  },
  {
   "cell_type": "code",
   "execution_count": 20,
   "metadata": {},
   "outputs": [
    {
     "name": "stdout",
     "output_type": "stream",
     "text": [
      "[0, 0, 0, 0, 0]\n",
      "[99, 99, 99, 99, 99]\n"
     ]
    }
   ],
   "source": [
    "# Create a list with 5 elements.\n",
    "numbers = [0] * 5 #[0,0,0,0,0]\n",
    "\n",
    "print(numbers)\n",
    "\n",
    "# Fill the list with the value 99.\n",
    "index = 0\n",
    "while index < len(numbers):\n",
    "      numbers[index] = 99\n",
    "      index += 1\n",
    "print(numbers)"
   ]
  },
  {
   "cell_type": "code",
   "execution_count": 23,
   "metadata": {},
   "outputs": [
    {
     "name": "stdout",
     "output_type": "stream",
     "text": [
      "[0, 0, 0, 0, 0]\n",
      "Please enter the element 2\n",
      "Please enter the element 3\n",
      "Please enter the element 8\n",
      "Please enter the element 9\n",
      "Please enter the element 12\n",
      "[2, 3, 8, 9, 12]\n"
     ]
    }
   ],
   "source": [
    "\n",
    "# Create a list with 5 elements.\n",
    "numbers = [0] * 5 #[0,0,0,0,0]\n",
    "\n",
    "print(numbers)\n",
    "\n",
    "# Fill the list with the value 99.\n",
    "index = 0\n",
    "while index < len(numbers):\n",
    "      numbers[index] = int(input(\"Please enter the element \"))\n",
    "      index += 1\n",
    "print(numbers)"
   ]
  },
  {
   "cell_type": "code",
   "execution_count": 24,
   "metadata": {},
   "outputs": [
    {
     "name": "stdout",
     "output_type": "stream",
     "text": [
      "Enter the sales for each day.\n",
      "Day #1: 2500\n",
      "Day #2: 3000\n",
      "Day #3: 1500\n",
      "Day #4: 3500\n",
      "Day #5: 5000\n",
      "Here are the values you entered:\n",
      "2500.0\n",
      "3000.0\n",
      "1500.0\n",
      "3500.0\n",
      "5000.0\n"
     ]
    }
   ],
   "source": [
    "# The NUM_DAYS constant holds the number of\n",
    "# days that we will gather sales data for.\n",
    "NUM_DAYS = 5\n",
    "\n",
    "def main():\n",
    "    # Create a list to hold the sales\n",
    "    # for each day.\n",
    "    sales = [0] * NUM_DAYS\n",
    "\n",
    "    # Create a variable to hold an index.\n",
    "    index = 0\n",
    "\n",
    "    print('Enter the sales for each day.')\n",
    "    \n",
    "    # Get the sales for each day.\n",
    "    while index < NUM_DAYS:\n",
    "        print('Day #', index + 1, ': ', sep='', end='')\n",
    "        sales[index] = float(input())\n",
    "        index += 1\n",
    "\n",
    "    # Display the values entered.\n",
    "    print('Here are the values you entered:')\n",
    "    for value in sales:\n",
    "        print(value)\n",
    "\n",
    "# Call the main function.\n",
    "main()"
   ]
  },
  {
   "cell_type": "code",
   "execution_count": 26,
   "metadata": {},
   "outputs": [
    {
     "name": "stdout",
     "output_type": "stream",
     "text": [
      "Enter the sales for each day.\n",
      "Day #1: 1000\n",
      "Day #2: 2000\n",
      "Day #3: 3000\n",
      "Day #4: 4000\n",
      "Day #5: 5000\n",
      "Here are the values you entered:\n",
      "1000.0\n",
      "2000.0\n",
      "3000.0\n",
      "4000.0\n",
      "5000.0\n",
      "Here is the total of sales entered: 15000.0\n"
     ]
    }
   ],
   "source": [
    "# The NUM_DAYS constant holds the number of\n",
    "# days that we will gather sales data for.\n",
    "NUM_DAYS = 5\n",
    "\n",
    "def main():\n",
    "    # Create a list to hold the sales\n",
    "    # for each day.\n",
    "    sales = [0] * NUM_DAYS\n",
    "\n",
    "    # Create a variable to hold an index.\n",
    "    index = 0\n",
    "    \n",
    "    total=0\n",
    "\n",
    "    print('Enter the sales for each day.')\n",
    "    \n",
    "    # Get the sales for each day.\n",
    "    while index < NUM_DAYS:\n",
    "        print('Day #', index + 1, ': ', sep='', end='')\n",
    "        sales[index] = float(input())\n",
    "        total+=sales[index]\n",
    "        index += 1\n",
    "        \n",
    "\n",
    "    # Display the values entered.\n",
    "    print('Here are the values you entered:')\n",
    "    for value in sales:\n",
    "        print(value)\n",
    "    \n",
    "    #display total\n",
    "    print('Here is the total of sales entered:', total)\n",
    "\n",
    "# Call the main function.\n",
    "main()"
   ]
  },
  {
   "cell_type": "code",
   "execution_count": 27,
   "metadata": {},
   "outputs": [
    {
     "name": "stdout",
     "output_type": "stream",
     "text": [
      "[1, 2, 3, 4, 5, 6, 7, 8]\n"
     ]
    }
   ],
   "source": [
    "list1 = [1, 2, 3, 4]\n",
    "list2 = [5, 6, 7, 8]\n",
    "list3 = list1 + list2\n",
    "print(list3)"
   ]
  },
  {
   "cell_type": "code",
   "execution_count": 28,
   "metadata": {},
   "outputs": [
    {
     "name": "stdout",
     "output_type": "stream",
     "text": [
      "['Joanne', 'Karen', 'Lori', 'Chris', 'Jerry', 'Will']\n"
     ]
    }
   ],
   "source": [
    "girl_names = ['Joanne', 'Karen', 'Lori'] \n",
    "boy_names = ['Chris', 'Jerry', 'Will'] \n",
    "all_names = girl_names + boy_names \n",
    "print(all_names) "
   ]
  },
  {
   "cell_type": "code",
   "execution_count": 29,
   "metadata": {},
   "outputs": [
    {
     "name": "stdout",
     "output_type": "stream",
     "text": [
      "['Tuesday', 'Wednesday', 'Thursday']\n"
     ]
    }
   ],
   "source": [
    "days = ['Sunday', 'Monday', 'Tuesday', 'Wednesday', 'Thursday', 'Friday', 'Saturday']\n",
    "mid_days = days[2:5]\n",
    "print(mid_days)\n",
    "        "
   ]
  },
  {
   "cell_type": "code",
   "execution_count": 30,
   "metadata": {},
   "outputs": [
    {
     "name": "stdout",
     "output_type": "stream",
     "text": [
      "[1, 2, 3, 4, 5]\n",
      "[2, 3]\n"
     ]
    }
   ],
   "source": [
    "numbers = [1, 2, 3, 4, 5] \n",
    "print(numbers) \n",
    "print(numbers[1:3]) "
   ]
  },
  {
   "cell_type": "code",
   "execution_count": 32,
   "metadata": {},
   "outputs": [
    {
     "name": "stdout",
     "output_type": "stream",
     "text": [
      "[1, 2, 3, 4, 5]\n",
      "[1, 2, 3]\n"
     ]
    }
   ],
   "source": [
    "numbers = [1, 2, 3, 4, 5] \n",
    "print(numbers)\n",
    "print(numbers[:3]) "
   ]
  },
  {
   "cell_type": "code",
   "execution_count": 33,
   "metadata": {},
   "outputs": [
    {
     "name": "stdout",
     "output_type": "stream",
     "text": [
      "[3, 4, 5]\n"
     ]
    }
   ],
   "source": [
    "print(numbers[2:])"
   ]
  },
  {
   "cell_type": "code",
   "execution_count": 34,
   "metadata": {},
   "outputs": [
    {
     "name": "stdout",
     "output_type": "stream",
     "text": [
      "[1, 2, 3, 4, 5]\n"
     ]
    }
   ],
   "source": [
    "print(numbers[:])"
   ]
  },
  {
   "cell_type": "code",
   "execution_count": 35,
   "metadata": {},
   "outputs": [
    {
     "name": "stdout",
     "output_type": "stream",
     "text": [
      "[2, 4, 6, 8]\n"
     ]
    }
   ],
   "source": [
    "numbers = [1, 2, 3, 4, 5, 6, 7, 8, 9, 10]\n",
    "print(numbers[1:8:2])"
   ]
  },
  {
   "cell_type": "code",
   "execution_count": 37,
   "metadata": {},
   "outputs": [
    {
     "name": "stdout",
     "output_type": "stream",
     "text": [
      "[6, 7, 8, 9, 10]\n"
     ]
    }
   ],
   "source": [
    "print(numbers[-5:])"
   ]
  },
  {
   "cell_type": "code",
   "execution_count": 38,
   "metadata": {},
   "outputs": [
    {
     "name": "stdout",
     "output_type": "stream",
     "text": [
      "Enter a product number: Q143\n",
      "Q143 was found in the list.\n"
     ]
    }
   ],
   "source": [
    "# This program demonstrates the in operator\n",
    "# used with a list.\n",
    "\n",
    "def main():\n",
    "    # Create a list of product numbers.\n",
    "    prod_nums = ['V475', 'F987', 'Q143', 'R688']\n",
    "\n",
    "    # Get a product number to search for.\n",
    "    search = input('Enter a product number: ')\n",
    "\n",
    "    # Determine whether the product number is in the list.\n",
    "    if search in prod_nums:\n",
    "        print(search, 'was found in the list.')\n",
    "    else:\n",
    "        print(search, 'was not found in the list.')\n",
    "\n",
    "# Call the main function.\n",
    "main()"
   ]
  },
  {
   "cell_type": "code",
   "execution_count": 39,
   "metadata": {},
   "outputs": [
    {
     "name": "stdout",
     "output_type": "stream",
     "text": [
      "Enter a name: Kathryn\n",
      "Do you want to add another name?\n",
      "y = yes, anything else = no: y\n",
      "\n",
      "Enter a name: Chris\n",
      "Do you want to add another name?\n",
      "y = yes, anything else = no: n\n",
      "\n",
      "Here are the names you entered.\n",
      "Kathryn\n",
      "Chris\n"
     ]
    }
   ],
   "source": [
    "# This program demonstrates how the append\n",
    "# method can be used to add items to a list.\n",
    "\n",
    "def main():\n",
    "    # First, create an empty list.\n",
    "    name_list = []\n",
    "\n",
    "    # Create a variable to control the loop.\n",
    "    again = 'Y'\n",
    "    \n",
    "    # Add some names to the list.\n",
    "    while again.upper() == 'Y':\n",
    "        # Get a name from the user.\n",
    "        name = input('Enter a name: ')\n",
    "\n",
    "        # Append the name to the list.\n",
    "        name_list.append(name)\n",
    "\n",
    "        # Add another one?\n",
    "        print('Do you want to add another name?')\n",
    "        again = input('y = yes, anything else = no: ')\n",
    "        print()\n",
    "\n",
    "    # Display the names that were entered.\n",
    "    print('Here are the names you entered.')\n",
    "    \n",
    "    for name in name_list:\n",
    "        print(name)\n",
    "\n",
    "# Call the main function.\n",
    "main()\n"
   ]
  },
  {
   "cell_type": "code",
   "execution_count": 41,
   "metadata": {},
   "outputs": [
    {
     "name": "stdout",
     "output_type": "stream",
     "text": [
      "Here are the items in the food list:\n",
      "['Pizza', 'Burgers', 'Chips']\n",
      "Which item should I change? Burgers\n",
      "Enter the new value: Soda\n",
      "Here is the revised list:\n",
      "['Pizza', 'Soda', 'Chips']\n"
     ]
    }
   ],
   "source": [
    "# This program demonstrates how to get the\n",
    "# index of an item in a list and then replace\n",
    "# that item with a new item.\n",
    "\n",
    "def main():\n",
    "    # Create a list with some items.\n",
    "    food = ['Pizza', 'Burgers', 'Chips']\n",
    "\n",
    "    # Display the list.\n",
    "    print('Here are the items in the food list:')\n",
    "    print(food)\n",
    "\n",
    "    # Get the item to change.\n",
    "    item = input('Which item should I change? ')\n",
    "\n",
    "    try:\n",
    "        # Get the item's index in the list.\n",
    "        item_index = food.index(item)\n",
    "\n",
    "        # Get the value to replace it with.\n",
    "        new_item = input('Enter the new value: ')\n",
    "\n",
    "        # Replace the old item with the new item.\n",
    "        food[item_index] = new_item\n",
    "\n",
    "        # Display the list.\n",
    "        print('Here is the revised list:')\n",
    "        print(food)\n",
    "    except ValueError:\n",
    "        print('That item was not found in the list.')\n",
    "\n",
    "# Call the main function.\n",
    "main()"
   ]
  },
  {
   "cell_type": "code",
   "execution_count": 43,
   "metadata": {},
   "outputs": [
    {
     "name": "stdout",
     "output_type": "stream",
     "text": [
      "Enter a food: soda\n",
      "Do you want to add another food?\n",
      "y = yes, anything else = no: y\n",
      "\n",
      "Enter a food: hotdog\n",
      "Do you want to add another food?\n",
      "y = yes, anything else = no: y\n",
      "\n",
      "Enter a food: tacos\n",
      "Do you want to add another food?\n",
      "y = yes, anything else = no: n\n",
      "\n",
      "Here are the names you entered.\n",
      "Pizza\n",
      "Burgers\n",
      "Chips\n",
      "soda\n",
      "hotdog\n",
      "tacos\n"
     ]
    }
   ],
   "source": [
    "def main():\n",
    "    # First, create an empty list.\n",
    "    food = ['Pizza', 'Burgers', 'Chips']\n",
    "\n",
    "    # Create a variable to control the loop.\n",
    "    again = 'Y'\n",
    "    \n",
    "    # Add some names to the list.\n",
    "    while again.upper() == 'Y':\n",
    "        # Get a name from the user.\n",
    "        food_name = input('Enter a food: ')\n",
    "\n",
    "        # Append the name to the list.\n",
    "        food.append(food_name)\n",
    "\n",
    "        # Add another one?\n",
    "        print('Do you want to add another food?')\n",
    "        again = input('y = yes, anything else = no: ')\n",
    "        print()\n",
    "\n",
    "    # Display the names that were entered.\n",
    "    print('Here are the names you entered.')\n",
    "    \n",
    "    for food_item in food:\n",
    "        print(food_item)\n",
    "\n",
    "# Call the main function.\n",
    "main()"
   ]
  },
  {
   "cell_type": "code",
   "execution_count": 44,
   "metadata": {},
   "outputs": [
    {
     "name": "stdout",
     "output_type": "stream",
     "text": [
      "The list before the insert:\n",
      "['James', 'Kathryn', 'Bill']\n",
      "The list after the insert:\n",
      "['Joe', 'James', 'Kathryn', 'Bill']\n"
     ]
    }
   ],
   "source": [
    "# This program demonstrates the insert method.\n",
    "\n",
    "def main():\n",
    "    # Create a list with some names.\n",
    "    names = ['James', 'Kathryn', 'Bill']\n",
    "\n",
    "    # Display the list.\n",
    "    print('The list before the insert:')\n",
    "    print(names)\n",
    "\n",
    "    # Insert a new name at element 0.\n",
    "    names.insert(0, 'Joe')\n",
    "\n",
    "    # Display the list again.\n",
    "    print('The list after the insert:')\n",
    "    print(names)\n",
    "\n",
    "# Call the main function.\n",
    "main()"
   ]
  },
  {
   "cell_type": "code",
   "execution_count": 45,
   "metadata": {},
   "outputs": [
    {
     "name": "stdout",
     "output_type": "stream",
     "text": [
      "Original order: [9, 1, 0, 2, 8, 6, 7, 4, 5, 3]\n",
      "Sorted order: [0, 1, 2, 3, 4, 5, 6, 7, 8, 9]\n"
     ]
    }
   ],
   "source": [
    "my_list = [9, 1, 0, 2, 8, 6, 7, 4, 5, 3]\n",
    "print('Original order:', my_list)\n",
    "my_list.sort()\n",
    "print('Sorted order:', my_list)"
   ]
  },
  {
   "cell_type": "code",
   "execution_count": 46,
   "metadata": {},
   "outputs": [
    {
     "name": "stdout",
     "output_type": "stream",
     "text": [
      "The list before the insert:\n",
      "['James', 'Kathryn', 'Bill']\n",
      "The list after the insert:\n",
      "['Bill', 'James', 'Joe', 'Kathryn']\n"
     ]
    }
   ],
   "source": [
    "# This program demonstrates the insert method.\n",
    "\n",
    "def main():\n",
    "    # Create a list with some names.\n",
    "    names = ['James', 'Kathryn', 'Bill']\n",
    "\n",
    "    # Display the list.\n",
    "    print('The list before the insert:')\n",
    "    print(names)\n",
    "\n",
    "    # Insert a new name at element 0.\n",
    "    names.insert(0, 'Joe')\n",
    "    \n",
    "    #sort the elements\n",
    "    names.sort()\n",
    "\n",
    "    # Display the list again.\n",
    "    print('The list after the insert:')\n",
    "    print(names)\n",
    "\n",
    "# Call the main function.\n",
    "main()"
   ]
  },
  {
   "cell_type": "code",
   "execution_count": 48,
   "metadata": {},
   "outputs": [
    {
     "name": "stdout",
     "output_type": "stream",
     "text": [
      "Here are the items in the food list:\n",
      "['Pizza', 'Burgers', 'Chips']\n",
      "Which item should I remove? burgers\n",
      "That item was not found in the list.\n"
     ]
    }
   ],
   "source": [
    "# This program demonstrates how to use the remove\n",
    "# method to remove an item from a list.\n",
    "\n",
    "def main():\n",
    "    # Create a list with some items.\n",
    "    food = ['Pizza', 'Burgers', 'Chips']\n",
    "\n",
    "    # Display the list.\n",
    "    print('Here are the items in the food list:')\n",
    "    print(food)\n",
    "\n",
    "    # Get the item to change.\n",
    "    item = input('Which item should I remove? ')\n",
    "\n",
    "    try:\n",
    "        # Remove the item.\n",
    "        food.remove(item)\n",
    "\n",
    "        # Display the list.\n",
    "        print('Here is the revised list:')\n",
    "        print(food)\n",
    "        \n",
    "    except ValueError:\n",
    "        print('That item was not found in the list.')\n",
    "\n",
    "# Call the main function.\n",
    "main()"
   ]
  }
 ],
 "metadata": {
  "kernelspec": {
   "display_name": "Python 3",
   "language": "python",
   "name": "python3"
  },
  "language_info": {
   "codemirror_mode": {
    "name": "ipython",
    "version": 3
   },
   "file_extension": ".py",
   "mimetype": "text/x-python",
   "name": "python",
   "nbconvert_exporter": "python",
   "pygments_lexer": "ipython3",
   "version": "3.7.6"
  }
 },
 "nbformat": 4,
 "nbformat_minor": 2
}
