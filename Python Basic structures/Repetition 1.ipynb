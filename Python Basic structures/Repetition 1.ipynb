{
 "cells": [
  {
   "cell_type": "code",
   "execution_count": 1,
   "metadata": {},
   "outputs": [
    {
     "name": "stdout",
     "output_type": "stream",
     "text": [
      "Enter the amount of sales: 1000\n",
      "Enter the commission rate: 0.05\n",
      "The commission is $50.00\n",
      "Do you want to calculate another commission (Enter y for yes): y\n",
      "Enter the amount of sales: 100000\n",
      "Enter the commission rate: 0.05\n",
      "The commission is $5,000.00\n",
      "Do you want to calculate another commission (Enter y for yes): n\n"
     ]
    }
   ],
   "source": [
    "#4.2 The while Loop: A Condition-Controlled Loop\n",
    "# This program calculates sales commissions.\n",
    "\n",
    "# Create a variable to control the loop.\n",
    "keep_going = 'y'\n",
    "\n",
    "# Calculate a series of commissions.\n",
    "while keep_going == 'y':\n",
    "    # Get a salesperson's sales and commission rate.\n",
    "    sales = float(input('Enter the amount of sales: '))\n",
    "    comm_rate = float(input('Enter the commission rate: '))\n",
    "\n",
    "    # Calculate the commission.\n",
    "    commission = sales * comm_rate\n",
    "\n",
    "    # Display the commission.\n",
    "    print('The commission is $', \\\n",
    "          format(commission, ',.2f'), sep='')\n",
    "\n",
    "    # See if the user wants to do another one.\n",
    "    keep_going = input('Do you want to calculate another ' + \\\n",
    "                       'commission (Enter y for yes): ')"
   ]
  },
  {
   "cell_type": "code",
   "execution_count": 5,
   "metadata": {},
   "outputs": [
    {
     "name": "stdout",
     "output_type": "stream",
     "text": [
      "Enter the amount of sales: 5000\n",
      "Enter the commission rate: 0.05\n",
      "The commission is $250.00\n",
      "Do you want to calculate another commission (Enter y for yes): Y\n",
      "Enter the amount of sales: 50000\n",
      "Enter the commission rate: 0.05\n",
      "The commission is $2,500.00\n",
      "Do you want to calculate another commission (Enter y for yes): y\n",
      "Enter the amount of sales: 100000\n",
      "Enter the commission rate: 0.05\n",
      "The commission is $5,000.00\n",
      "Do you want to calculate another commission (Enter y for yes): n\n"
     ]
    }
   ],
   "source": [
    "#4.2 The while Loop: A Condition-Controlled Loop\n",
    "# This program calculates sales commissions.\n",
    "\n",
    "# Create a variable to control the loop.\n",
    "keep_going = 'y'\n",
    "# Calculate a series of commissions.\n",
    "while (keep_going == 'y' or keep_going == 'Y'):\n",
    "    # Get a salesperson's sales and commission rate.\n",
    "    sales = float(input('Enter the amount of sales: '))\n",
    "    comm_rate = float(input('Enter the commission rate: '))\n",
    "\n",
    "    # Calculate the commission.\n",
    "    commission = sales * comm_rate\n",
    "\n",
    "    # Display the commission.\n",
    "    print('The commission is $', \\\n",
    "          format(commission, ',.2f'), sep='')\n",
    "\n",
    "    # See if the user wants to do another one.\n",
    "    keep_going = input('Do you want to calculate another ' + \\\n",
    "                       'commission (Enter y for yes): ')"
   ]
  },
  {
   "cell_type": "code",
   "execution_count": 7,
   "metadata": {},
   "outputs": [
    {
     "name": "stdout",
     "output_type": "stream",
     "text": [
      "I will display the numbers 1 through 5.\n",
      "1\n",
      "2\n",
      "3\n",
      "4\n",
      "5\n"
     ]
    }
   ],
   "source": [
    "print('I will display the numbers 1 through 5.')\n",
    "for num in [1, 2, 3, 4, 5]:\n",
    "    print(num)"
   ]
  },
  {
   "cell_type": "code",
   "execution_count": 8,
   "metadata": {},
   "outputs": [
    {
     "name": "stdout",
     "output_type": "stream",
     "text": [
      "I will display the odd numbers 1 through 9.\n",
      "1\n",
      "3\n",
      "5\n",
      "7\n",
      "9\n"
     ]
    }
   ],
   "source": [
    "print('I will display the odd numbers 1 through 9.')\n",
    "for num in [1, 3, 5, 7, 9]:\n",
    "    print(num)"
   ]
  },
  {
   "cell_type": "code",
   "execution_count": 9,
   "metadata": {},
   "outputs": [
    {
     "name": "stdout",
     "output_type": "stream",
     "text": [
      "Winken\n",
      "Blinken\n",
      "Nod\n"
     ]
    }
   ],
   "source": [
    "for name in ['Winken', 'Blinken', 'Nod']:\n",
    "    print(name)"
   ]
  },
  {
   "cell_type": "code",
   "execution_count": 10,
   "metadata": {},
   "outputs": [
    {
     "name": "stdout",
     "output_type": "stream",
     "text": [
      "Hello world!\n",
      "Hello world!\n",
      "Hello world!\n",
      "Hello world!\n",
      "Hello world!\n"
     ]
    }
   ],
   "source": [
    "for x in range(5): # 0,1,2,3,4\n",
    "    print('Hello world!')"
   ]
  },
  {
   "cell_type": "code",
   "execution_count": 11,
   "metadata": {},
   "outputs": [
    {
     "name": "stdout",
     "output_type": "stream",
     "text": [
      "0\n",
      "Hello world!\n",
      "1\n",
      "Hello world!\n",
      "2\n",
      "Hello world!\n",
      "3\n",
      "Hello world!\n",
      "4\n",
      "Hello world!\n"
     ]
    }
   ],
   "source": [
    "for x in range(5): # 0,1,2,3,4\n",
    "    print(x)\n",
    "    print('Hello world!')"
   ]
  },
  {
   "cell_type": "code",
   "execution_count": 12,
   "metadata": {},
   "outputs": [
    {
     "name": "stdout",
     "output_type": "stream",
     "text": [
      "1\n",
      "Hello world!\n",
      "2\n",
      "Hello world!\n",
      "3\n",
      "Hello world!\n",
      "4\n",
      "Hello world!\n"
     ]
    }
   ],
   "source": [
    "for x in range(1,5): \n",
    "    print(x)\n",
    "    print('Hello world!')"
   ]
  }
 ],
 "metadata": {
  "kernelspec": {
   "display_name": "Python 3",
   "language": "python",
   "name": "python3"
  },
  "language_info": {
   "codemirror_mode": {
    "name": "ipython",
    "version": 3
   },
   "file_extension": ".py",
   "mimetype": "text/x-python",
   "name": "python",
   "nbconvert_exporter": "python",
   "pygments_lexer": "ipython3",
   "version": "3.7.6"
  }
 },
 "nbformat": 4,
 "nbformat_minor": 2
}
