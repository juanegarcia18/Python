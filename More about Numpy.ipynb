{
 "cells": [
  {
   "cell_type": "code",
   "execution_count": 2,
   "metadata": {},
   "outputs": [
    {
     "data": {
      "text/plain": [
       "array([0.26493464, 0.63268038, 0.6537077 , 0.8635542 , 0.83851867,\n",
       "       0.2802184 , 0.03007458, 0.42728387, 0.12542181, 0.42883284,\n",
       "       0.48003899, 0.46655328])"
      ]
     },
     "execution_count": 2,
     "metadata": {},
     "output_type": "execute_result"
    }
   ],
   "source": [
    "#Shape Manipulation\n",
    "#You already saw, during the creation of a two-dimensional array, \n",
    "#how it is possible to convert a one-dimensional array into a matrix, thanks to the reshape() f unction.\n",
    "import numpy as np\n",
    "a = np.random.random(12)\n",
    "a"
   ]
  },
  {
   "cell_type": "code",
   "execution_count": 3,
   "metadata": {},
   "outputs": [
    {
     "data": {
      "text/plain": [
       "array([[0.26493464, 0.63268038, 0.6537077 , 0.8635542 ],\n",
       "       [0.83851867, 0.2802184 , 0.03007458, 0.42728387],\n",
       "       [0.12542181, 0.42883284, 0.48003899, 0.46655328]])"
      ]
     },
     "execution_count": 3,
     "metadata": {},
     "output_type": "execute_result"
    }
   ],
   "source": [
    "A = a.reshape(3, 4)\n",
    "A"
   ]
  },
  {
   "cell_type": "code",
   "execution_count": 4,
   "metadata": {},
   "outputs": [
    {
     "data": {
      "text/plain": [
       "array([[0.26493464, 0.63268038, 0.6537077 , 0.8635542 ],\n",
       "       [0.83851867, 0.2802184 , 0.03007458, 0.42728387],\n",
       "       [0.12542181, 0.42883284, 0.48003899, 0.46655328]])"
      ]
     },
     "execution_count": 4,
     "metadata": {},
     "output_type": "execute_result"
    }
   ],
   "source": [
    "#The reshape() function returns a new array and can therefore create new objects. \n",
    "#However if you want to modify the object by modifying the shape, you have to assign a tuple containing the new \n",
    "#dimensions directly to its shape att ribute.\n",
    "a.shape = (3, 4)\n",
    "a"
   ]
  },
  {
   "cell_type": "code",
   "execution_count": 5,
   "metadata": {},
   "outputs": [
    {
     "data": {
      "text/plain": [
       "array([0.26493464, 0.63268038, 0.6537077 , 0.8635542 , 0.83851867,\n",
       "       0.2802184 , 0.03007458, 0.42728387, 0.12542181, 0.42883284,\n",
       "       0.48003899, 0.46655328])"
      ]
     },
     "execution_count": 5,
     "metadata": {},
     "output_type": "execute_result"
    }
   ],
   "source": [
    "#The inverse operation is also possible, that is, you can convert a two-dimensional array into \n",
    "#a one-dimensional array, by using the ravel() function.\n",
    "a = a.ravel()\n",
    "a"
   ]
  },
  {
   "cell_type": "code",
   "execution_count": 6,
   "metadata": {},
   "outputs": [
    {
     "name": "stdout",
     "output_type": "stream",
     "text": [
      "[[0.26493464 0.63268038 0.6537077  0.8635542 ]\n",
      " [0.83851867 0.2802184  0.03007458 0.42728387]\n",
      " [0.12542181 0.42883284 0.48003899 0.46655328]]\n"
     ]
    },
    {
     "data": {
      "text/plain": [
       "array([0.26493464, 0.63268038, 0.6537077 , 0.8635542 , 0.83851867,\n",
       "       0.2802184 , 0.03007458, 0.42728387, 0.12542181, 0.42883284,\n",
       "       0.48003899, 0.46655328])"
      ]
     },
     "execution_count": 6,
     "metadata": {},
     "output_type": "execute_result"
    }
   ],
   "source": [
    "#Or even here acting directly on the shape attribute of the array itself.\n",
    "a.shape = (3, 4)\n",
    "print(a)\n",
    "a.shape = (12)\n",
    "a"
   ]
  },
  {
   "cell_type": "code",
   "execution_count": 9,
   "metadata": {},
   "outputs": [
    {
     "name": "stdout",
     "output_type": "stream",
     "text": [
      "[[0.26493464 0.63268038 0.6537077  0.8635542 ]\n",
      " [0.83851867 0.2802184  0.03007458 0.42728387]\n",
      " [0.12542181 0.42883284 0.48003899 0.46655328]]\n"
     ]
    },
    {
     "data": {
      "text/plain": [
       "array([[0.26493464, 0.83851867, 0.12542181],\n",
       "       [0.63268038, 0.2802184 , 0.42883284],\n",
       "       [0.6537077 , 0.03007458, 0.48003899],\n",
       "       [0.8635542 , 0.42728387, 0.46655328]])"
      ]
     },
     "execution_count": 9,
     "metadata": {},
     "output_type": "execute_result"
    }
   ],
   "source": [
    "#Another important operation is transposing a matrix, which is inverting the columns with the rows.\n",
    "print(A)\n",
    "A.transpose()"
   ]
  },
  {
   "cell_type": "code",
   "execution_count": 10,
   "metadata": {},
   "outputs": [
    {
     "data": {
      "text/plain": [
       "array([[1., 1., 1.],\n",
       "       [1., 1., 1.],\n",
       "       [1., 1., 1.],\n",
       "       [0., 0., 0.],\n",
       "       [0., 0., 0.],\n",
       "       [0., 0., 0.]])"
      ]
     },
     "execution_count": 10,
     "metadata": {},
     "output_type": "execute_result"
    }
   ],
   "source": [
    "#Joining Arrays\n",
    "A = np.ones((3, 3))\n",
    "B = np.zeros((3, 3))\n",
    "np.vstack((A, B))"
   ]
  },
  {
   "cell_type": "code",
   "execution_count": 11,
   "metadata": {},
   "outputs": [
    {
     "data": {
      "text/plain": [
       "array([[1., 1., 1., 0., 0., 0.],\n",
       "       [1., 1., 1., 0., 0., 0.],\n",
       "       [1., 1., 1., 0., 0., 0.]])"
      ]
     },
     "execution_count": 11,
     "metadata": {},
     "output_type": "execute_result"
    }
   ],
   "source": [
    "np.hstack((A,B))"
   ]
  },
  {
   "cell_type": "code",
   "execution_count": 14,
   "metadata": {},
   "outputs": [
    {
     "data": {
      "text/plain": [
       "array([1, 2, 3, 4])"
      ]
     },
     "execution_count": 14,
     "metadata": {},
     "output_type": "execute_result"
    }
   ],
   "source": [
    "#General Concepts (copies or views)\n",
    "#If you assign one array a to another array b, you are not copying it; array b is just another way to call array a. \n",
    "a = np.array([1, 2, 3, 4]) \n",
    "b = a\n",
    "b"
   ]
  },
  {
   "cell_type": "code",
   "execution_count": 13,
   "metadata": {},
   "outputs": [
    {
     "data": {
      "text/plain": [
       "array([1, 2, 0, 4])"
      ]
     },
     "execution_count": 13,
     "metadata": {},
     "output_type": "execute_result"
    }
   ],
   "source": [
    "a[2] = 0\n",
    "b"
   ]
  },
  {
   "cell_type": "code",
   "execution_count": 15,
   "metadata": {},
   "outputs": [
    {
     "data": {
      "text/plain": [
       "array([1, 2])"
      ]
     },
     "execution_count": 15,
     "metadata": {},
     "output_type": "execute_result"
    }
   ],
   "source": [
    "#Even When you slice an array, the object returned is a view of the original array\n",
    "c = a[0:2]\n",
    "c"
   ]
  },
  {
   "cell_type": "code",
   "execution_count": 17,
   "metadata": {},
   "outputs": [
    {
     "data": {
      "text/plain": [
       "array([0, 2])"
      ]
     },
     "execution_count": 17,
     "metadata": {},
     "output_type": "execute_result"
    }
   ],
   "source": [
    "a[0] = 0\n",
    "c\n",
    "#As you can see, even when slicing, you are actually pointing to the same object"
   ]
  },
  {
   "cell_type": "code",
   "execution_count": 18,
   "metadata": {},
   "outputs": [
    {
     "data": {
      "text/plain": [
       "array([1, 2, 3, 4])"
      ]
     },
     "execution_count": 18,
     "metadata": {},
     "output_type": "execute_result"
    }
   ],
   "source": [
    "#If you want to generate a complete and distinct array, use the copy() function\n",
    "a = np.array([1, 2, 3, 4])\n",
    "c = a.copy()\n",
    "c"
   ]
  },
  {
   "cell_type": "code",
   "execution_count": 19,
   "metadata": {},
   "outputs": [
    {
     "name": "stdout",
     "output_type": "stream",
     "text": [
      "[1 2 3 4]\n"
     ]
    }
   ],
   "source": [
    "a[0] = 0\n",
    "print(c)"
   ]
  },
  {
   "cell_type": "code",
   "execution_count": 20,
   "metadata": {},
   "outputs": [
    {
     "data": {
      "text/plain": [
       "array([ 1,  4,  9, 16])"
      ]
     },
     "execution_count": 20,
     "metadata": {},
     "output_type": "execute_result"
    }
   ],
   "source": [
    "#Vectorization\n",
    "A = np.array([1, 2, 3, 4])\n",
    "B = np.array([1, 2, 3, 4])\n",
    "C = A * B\n",
    "C\n",
    "\n",
    "#In other programming language, to do that you need to have a complex code\n",
    "#in case one dimentional array\n",
    "for (i = 0; i < rows; i++){\n",
    "  c[i] = a[i]*b[i];\n",
    "}\n",
    "#Two dimensional arrays\n",
    "for( i=0; i < rows; i++){\n",
    "   for(j=0; j < columns; j++){\n",
    "      c[i][j] = a[i][j]*b[i][j];\n",
    "   }\n",
    "}"
   ]
  },
  {
   "cell_type": "code",
   "execution_count": 4,
   "metadata": {},
   "outputs": [],
   "source": [
    "import numpy as np\n",
    "#Reading and Writing Array Data on Files\n",
    "data=([[ 0.86466285,  0.76943895,  0.22678279],\n",
    "       [ 0.12452825,  0.54751384,  0.06499123],\n",
    "       [ 0.06216566,  0.85045125,  0.92093862],\n",
    "       [ 0.58401239,  0.93455057,  0.28972379]])\n",
    "np.save('saved_data',data)"
   ]
  },
  {
   "cell_type": "code",
   "execution_count": 5,
   "metadata": {},
   "outputs": [
    {
     "data": {
      "text/plain": [
       "array([[0.86466285, 0.76943895, 0.22678279],\n",
       "       [0.12452825, 0.54751384, 0.06499123],\n",
       "       [0.06216566, 0.85045125, 0.92093862],\n",
       "       [0.58401239, 0.93455057, 0.28972379]])"
      ]
     },
     "execution_count": 5,
     "metadata": {},
     "output_type": "execute_result"
    }
   ],
   "source": [
    "loaded_data = np.load('saved_data.npy')\n",
    "loaded_data"
   ]
  },
  {
   "cell_type": "code",
   "execution_count": 6,
   "metadata": {},
   "outputs": [
    {
     "data": {
      "text/plain": [
       "array([(1., 123., 1.4, 23.), (2., 110., 0.5, 18.), (3., 164., 2.1, 19.)],\n",
       "      dtype=[('id', '<f8'), ('value1', '<f8'), ('value2', '<f8'), ('value2_1', '<f8')])"
      ]
     },
     "execution_count": 6,
     "metadata": {},
     "output_type": "execute_result"
    }
   ],
   "source": [
    "data = np.genfromtxt('ch3_data.csv', delimiter=',', names=True)\n",
    "data"
   ]
  },
  {
   "cell_type": "code",
   "execution_count": 7,
   "metadata": {},
   "outputs": [
    {
     "data": {
      "text/plain": [
       "array([[  nan,   nan,   nan,   nan],\n",
       "       [  1. , 123. ,   1.4,  23. ],\n",
       "       [  2. , 110. ,   0.5,  18. ],\n",
       "       [  3. , 164. ,   2.1,  19. ]])"
      ]
     },
     "execution_count": 7,
     "metadata": {},
     "output_type": "execute_result"
    }
   ],
   "source": [
    "data = np.genfromtxt('ch3_data.csv', delimiter=',')\n",
    "data"
   ]
  },
  {
   "cell_type": "code",
   "execution_count": 24,
   "metadata": {},
   "outputs": [
    {
     "data": {
      "text/plain": [
       "array([(1., 123., 1.4, 23.), (2., 110., nan, 18.), (3.,  nan, 2.1, 19.)],\n",
       "      dtype=[('id', '<f8'), ('value1', '<f8'), ('value2', '<f8'), ('value2_1', '<f8')])"
      ]
     },
     "execution_count": 24,
     "metadata": {},
     "output_type": "execute_result"
    }
   ],
   "source": [
    "#In case you have in the file blank values (nan values)\n",
    "data2 = np.genfromtxt('ch3_data2.csv', delimiter=',', names=True)\n",
    "data2"
   ]
  },
  {
   "cell_type": "code",
   "execution_count": 25,
   "metadata": {},
   "outputs": [
    {
     "data": {
      "text/plain": [
       "array([1., 2., 3.])"
      ]
     },
     "execution_count": 25,
     "metadata": {},
     "output_type": "execute_result"
    }
   ],
   "source": [
    "data2['id']"
   ]
  },
  {
   "cell_type": "code",
   "execution_count": 26,
   "metadata": {},
   "outputs": [
    {
     "data": {
      "text/plain": [
       "(1., 123., 1.4, 23.)"
      ]
     },
     "execution_count": 26,
     "metadata": {},
     "output_type": "execute_result"
    }
   ],
   "source": [
    "data2[0]"
   ]
  }
 ],
 "metadata": {
  "kernelspec": {
   "display_name": "Python 3",
   "language": "python",
   "name": "python3"
  },
  "language_info": {
   "codemirror_mode": {
    "name": "ipython",
    "version": 3
   },
   "file_extension": ".py",
   "mimetype": "text/x-python",
   "name": "python",
   "nbconvert_exporter": "python",
   "pygments_lexer": "ipython3",
   "version": "3.8.5"
  }
 },
 "nbformat": 4,
 "nbformat_minor": 2
}
