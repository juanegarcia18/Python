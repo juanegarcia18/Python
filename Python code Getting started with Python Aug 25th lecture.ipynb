{
 "cells": [
  {
   "cell_type": "code",
   "execution_count": 2,
   "metadata": {},
   "outputs": [
    {
     "name": "stdout",
     "output_type": "stream",
     "text": [
      "1\n"
     ]
    }
   ],
   "source": [
    "print(a[0])"
   ]
  },
  {
   "cell_type": "code",
   "execution_count": 1,
   "metadata": {},
   "outputs": [
    {
     "name": "stdout",
     "output_type": "stream",
     "text": [
      "[5]\n",
      "[1, 'a', 2, [1, 2, 3]]\n"
     ]
    }
   ],
   "source": [
    "a = []\n",
    "a.append(5)\n",
    "print(a)\n",
    "a =[ 1, 'a', 2, [1,2,3]]\n",
    "print(a)"
   ]
  },
  {
   "cell_type": "code",
   "execution_count": 3,
   "metadata": {},
   "outputs": [
    {
     "name": "stdout",
     "output_type": "stream",
     "text": [
      "[]\n",
      "red\n",
      "green\n",
      "3\n"
     ]
    }
   ],
   "source": [
    "a = list()\n",
    "print(a)\n",
    "#a = list(1,2) # does not work\n",
    "colors = ['red', 'blue', 'green']\n",
    "print (colors[0])    ## red\n",
    "print (colors[2])    ## green\n",
    "print (len(colors))  ## 3"
   ]
  },
  {
   "cell_type": "code",
   "execution_count": 4,
   "metadata": {},
   "outputs": [
    {
     "name": "stdout",
     "output_type": "stream",
     "text": [
      "['red', 'brown', 'green']\n"
     ]
    }
   ],
   "source": [
    "b = colors\n",
    "b[1] = 'brown'\n",
    "print (colors)"
   ]
  },
  {
   "cell_type": "code",
   "execution_count": 5,
   "metadata": {},
   "outputs": [
    {
     "name": "stdout",
     "output_type": "stream",
     "text": [
      "5\n",
      "[5]\n",
      "6\n",
      "[3, 5, 2, 6]\n",
      "[3, 5, 2, 6, 7]\n"
     ]
    },
    {
     "ename": "IndexError",
     "evalue": "list index out of range",
     "output_type": "error",
     "traceback": [
      "\u001b[1;31m---------------------------------------------------------------------------\u001b[0m",
      "\u001b[1;31mIndexError\u001b[0m                                Traceback (most recent call last)",
      "\u001b[1;32m<ipython-input-5-28d211b3a9b5>\u001b[0m in \u001b[0;36m<module>\u001b[1;34m\u001b[0m\n\u001b[0;32m      5\u001b[0m \u001b[0mprint\u001b[0m\u001b[1;33m(\u001b[0m\u001b[0ma\u001b[0m\u001b[1;33m[\u001b[0m\u001b[1;33m:\u001b[0m\u001b[1;36m4\u001b[0m\u001b[1;33m]\u001b[0m\u001b[1;33m)\u001b[0m\u001b[1;33m\u001b[0m\u001b[1;33m\u001b[0m\u001b[0m\n\u001b[0;32m      6\u001b[0m \u001b[0mprint\u001b[0m\u001b[1;33m(\u001b[0m\u001b[0ma\u001b[0m\u001b[1;33m[\u001b[0m\u001b[1;33m:\u001b[0m\u001b[1;36m100\u001b[0m\u001b[1;33m]\u001b[0m\u001b[1;33m)\u001b[0m\u001b[1;33m\u001b[0m\u001b[1;33m\u001b[0m\u001b[0m\n\u001b[1;32m----> 7\u001b[1;33m \u001b[0mprint\u001b[0m\u001b[1;33m(\u001b[0m\u001b[0ma\u001b[0m\u001b[1;33m[\u001b[0m\u001b[1;36m100\u001b[0m\u001b[1;33m]\u001b[0m\u001b[1;33m)\u001b[0m\u001b[1;33m\u001b[0m\u001b[1;33m\u001b[0m\u001b[0m\n\u001b[0m",
      "\u001b[1;31mIndexError\u001b[0m: list index out of range"
     ]
    }
   ],
   "source": [
    "a = [3,5,2,6,7]\n",
    "print(a[1])\n",
    "print(a[1:2])\n",
    "print(a[-2])\n",
    "print(a[:4])\n",
    "print(a[:100])\n",
    "print(a[100])"
   ]
  },
  {
   "cell_type": "code",
   "execution_count": 6,
   "metadata": {},
   "outputs": [
    {
     "name": "stdout",
     "output_type": "stream",
     "text": [
      "[3, 5, 2, 6, 7, 3, 4]\n",
      "[3, 5, 'b', 2, 6, 7, 3, 4]\n",
      "[3, 5, 'b', 'b', 2, 6, 7, 3, 4]\n",
      "[3, 5, 'b', 2, 6, 7, 3, 4]\n"
     ]
    }
   ],
   "source": [
    "a = [3,5,2,6,7]\n",
    "a.extend([3,4])\n",
    "print(a)\n",
    "a.insert(2, 'b')\n",
    "print(a)\n",
    "a.insert(3, 'b')\n",
    "print(a)\n",
    "a.remove('b')\n",
    "print(a)"
   ]
  },
  {
   "cell_type": "code",
   "execution_count": 9,
   "metadata": {},
   "outputs": [
    {
     "name": "stdout",
     "output_type": "stream",
     "text": [
      "['blue', 'green', 'red']\n",
      "red\n",
      "green\n",
      "['blue']\n"
     ]
    }
   ],
   "source": [
    "colors = ['red', 'blue', 'green']\n",
    "colors.sort()\n",
    "print(colors)\n",
    "print(colors.pop())\n",
    "print(colors.pop(1))\n",
    "print(colors)"
   ]
  },
  {
   "cell_type": "code",
   "execution_count": 8,
   "metadata": {},
   "outputs": [
    {
     "name": "stdout",
     "output_type": "stream",
     "text": [
      "['blue', 'green', 'red']\n"
     ]
    }
   ],
   "source": [
    "colors = ['red', 'blue', 'green']\n",
    "c2 = sorted(colors)\n",
    "print(c2)"
   ]
  },
  {
   "cell_type": "code",
   "execution_count": 10,
   "metadata": {},
   "outputs": [
    {
     "name": "stdout",
     "output_type": "stream",
     "text": [
      "0\n",
      "1\n",
      "True\n"
     ]
    }
   ],
   "source": [
    "colors = ['red', 'blue', 'green']\n",
    "print(colors.index('red'))\n",
    "print(colors.index('blue'))\n",
    "print('blue' in colors)"
   ]
  },
  {
   "cell_type": "code",
   "execution_count": 11,
   "metadata": {},
   "outputs": [
    {
     "name": "stdout",
     "output_type": "stream",
     "text": [
      "30\n"
     ]
    }
   ],
   "source": [
    "squares = [1, 4, 9, 16]\n",
    "sum = 0\n",
    "for num in squares:\n",
    "    sum += num\n",
    "print(sum)"
   ]
  },
  {
   "cell_type": "code",
   "execution_count": 12,
   "metadata": {},
   "outputs": [
    {
     "name": "stdout",
     "output_type": "stream",
     "text": [
      "[2, 5, 10, 17]\n"
     ]
    }
   ],
   "source": [
    "a = [1, 4, 9, 16]\n",
    "for i in range(len(a)):\n",
    "    a[i] += 1\n",
    "print (a)"
   ]
  },
  {
   "cell_type": "code",
   "execution_count": 13,
   "metadata": {},
   "outputs": [
    {
     "name": "stdout",
     "output_type": "stream",
     "text": [
      "2\n",
      "(1, 2, 3, 4, 5, 'a', 'b')\n"
     ]
    }
   ],
   "source": [
    "tup1 = (1, 2, 3, 4, 5 )\n",
    "print(tup1[1])\n",
    "#tup1[1] = 6   tuple is immutable\n",
    "tup2 = ('a','b') \n",
    "tup3 = tup1+tup2\n",
    "print(tup3)"
   ]
  },
  {
   "cell_type": "code",
   "execution_count": 15,
   "metadata": {},
   "outputs": [
    {
     "name": "stdout",
     "output_type": "stream",
     "text": [
      "2\n",
      "67\n",
      "45\n",
      "(2, 3, 4)\n",
      "[123, 'xyz']\n"
     ]
    }
   ],
   "source": [
    "tuple1, tuple2 = (123, 'xyz'), (45, 67)\n",
    "alist=[2,3,4]\n",
    "print (len(tuple1))\n",
    "#print(max(tuple1))\n",
    "print(max(tuple2))\n",
    "print(min(tuple2))\n",
    "print(tuple(alist))\n",
    "print(list(tuple1))"
   ]
  },
  {
   "cell_type": "code",
   "execution_count": 16,
   "metadata": {},
   "outputs": [
    {
     "name": "stdout",
     "output_type": "stream",
     "text": [
      "[2, 5, 10, 17]\n"
     ]
    }
   ],
   "source": [
    "a = [1, 4, 9, 16]\n",
    "for i in range(len(a)):\n",
    "    a[i]+=1     \n",
    "print (a)"
   ]
  },
  {
   "cell_type": "code",
   "execution_count": 17,
   "metadata": {},
   "outputs": [
    {
     "name": "stdout",
     "output_type": "stream",
     "text": [
      "50\n",
      "52\n",
      "54\n",
      "56\n",
      "58\n",
      "60\n",
      "62\n",
      "64\n",
      "66\n",
      "68\n",
      "70\n",
      "72\n",
      "74\n",
      "76\n",
      "78\n",
      "80\n",
      "82\n",
      "84\n",
      "86\n",
      "88\n",
      "90\n",
      "92\n",
      "94\n",
      "96\n",
      "98\n"
     ]
    }
   ],
   "source": [
    "#range(100)\n",
    "#range(50, 100)\n",
    "for i in range(50, 100, 2):\n",
    "    print(i)"
   ]
  },
  {
   "cell_type": "code",
   "execution_count": 18,
   "metadata": {},
   "outputs": [
    {
     "name": "stdout",
     "output_type": "stream",
     "text": [
      "0\n",
      "1\n",
      "2\n",
      "3\n",
      "4\n"
     ]
    }
   ],
   "source": [
    "for i in range(100):\n",
    "    if i == 5:\n",
    "        break\n",
    "    print (i)"
   ]
  },
  {
   "cell_type": "code",
   "execution_count": 19,
   "metadata": {},
   "outputs": [
    {
     "name": "stdout",
     "output_type": "stream",
     "text": [
      "0\n",
      "1\n",
      "2\n",
      "3\n",
      "4\n",
      "6\n",
      "7\n",
      "8\n",
      "9\n"
     ]
    }
   ],
   "source": [
    "for i in range(10):\n",
    "    if i == 5:\n",
    "        continue\n",
    "    print (i)"
   ]
  },
  {
   "cell_type": "code",
   "execution_count": 20,
   "metadata": {},
   "outputs": [
    {
     "name": "stdout",
     "output_type": "stream",
     "text": [
      "{1, 2, 3, 4}\n"
     ]
    }
   ],
   "source": [
    "a = [1,2,3,4,4]\n",
    "b = set(a)\n",
    "print(b)"
   ]
  },
  {
   "cell_type": "code",
   "execution_count": 21,
   "metadata": {},
   "outputs": [
    {
     "name": "stdout",
     "output_type": "stream",
     "text": [
      "[1, 2, 3, 4]\n",
      "{'5', 3, 4, '2'}\n"
     ]
    }
   ],
   "source": [
    "a = list(b)\n",
    "print (a)\n",
    "a = ['5','2',3,4,4]\n",
    "b = set(a)\n",
    "print(b)"
   ]
  },
  {
   "cell_type": "code",
   "execution_count": 22,
   "metadata": {},
   "outputs": [
    {
     "name": "stdout",
     "output_type": "stream",
     "text": [
      "{1, 2, 3, 4, 7, 8}\n",
      "{4}\n",
      "{1, 2, 3}\n"
     ]
    }
   ],
   "source": [
    "a = [1,2,3,4,4]\n",
    "b = set(a)\n",
    "c = [4,7,8,8]\n",
    "d = set(c)\n",
    "print(b.union(d))\n",
    "print(b.intersection(d))\n",
    "print(b.difference(d))"
   ]
  },
  {
   "cell_type": "code",
   "execution_count": 23,
   "metadata": {},
   "outputs": [
    {
     "name": "stdout",
     "output_type": "stream",
     "text": [
      "Enter your name: Mohammad\n",
      "Mohammad\n"
     ]
    }
   ],
   "source": [
    "myname=input(\"Enter your name: \") \n",
    "print(myname)"
   ]
  },
  {
   "cell_type": "code",
   "execution_count": 26,
   "metadata": {},
   "outputs": [
    {
     "name": "stdout",
     "output_type": "stream",
     "text": [
      "enter the first number: 2\n",
      "enter the second number: 6\n",
      "sum is 8\n"
     ]
    }
   ],
   "source": [
    "num1=input(\"enter the first number: \")\n",
    "num2=input(\"enter the second number: \")\n",
    "print(\"sum is \" + str(int(num1)+int(num2)))"
   ]
  },
  {
   "cell_type": "code",
   "execution_count": 28,
   "metadata": {},
   "outputs": [
    {
     "name": "stdout",
     "output_type": "stream",
     "text": [
      "Hello SO!\n",
      "HelloSO!\n"
     ]
    }
   ],
   "source": [
    "print (\"Hello\",\"SO!\")\n",
    "print (\"Hello\"+\"SO!\")"
   ]
  },
  {
   "cell_type": "code",
   "execution_count": 31,
   "metadata": {},
   "outputs": [
    {
     "name": "stdout",
     "output_type": "stream",
     "text": [
      "Johnson\n",
      "\n",
      "80\n",
      "\n",
      "Michael\n",
      "\n",
      "65\n"
     ]
    }
   ],
   "source": [
    "with open('readfiletest.txt') as fp:\n",
    "    for line in fp:\n",
    "        #print (line.rstrip())\n",
    "        print (line)"
   ]
  },
  {
   "cell_type": "code",
   "execution_count": 30,
   "metadata": {},
   "outputs": [
    {
     "name": "stdout",
     "output_type": "stream",
     "text": [
      "['Johnson\\n', '80\\n', 'Michael\\n', '65']\n",
      "Johnson\n"
     ]
    }
   ],
   "source": [
    "#Read file line by line into a list\n",
    "f = open('readfiletest.txt', 'r')\n",
    "content = f.readlines()\n",
    "print(content)\n",
    "print(content[0].rstrip())"
   ]
  },
  {
   "cell_type": "code",
   "execution_count": 32,
   "metadata": {},
   "outputs": [
    {
     "name": "stdout",
     "output_type": "stream",
     "text": [
      "['Johnson\\n', '80\\n', 'Michael\\n', '65']\n"
     ]
    }
   ],
   "source": [
    "f.seek(0) #Move the cursor to the beginning of a file\n",
    "content = f.readlines()\n",
    "print(content)"
   ]
  },
  {
   "cell_type": "code",
   "execution_count": 34,
   "metadata": {},
   "outputs": [
    {
     "name": "stdout",
     "output_type": "stream",
     "text": [
      "[]\n"
     ]
    }
   ],
   "source": [
    "content = f.readlines()\n",
    "print(content)"
   ]
  },
  {
   "cell_type": "code",
   "execution_count": 35,
   "metadata": {},
   "outputs": [],
   "source": [
    "f = open('readfiletest2.txt', 'w')\n",
    "thelist = [1,2,'this is CISA4358 class',4]\n",
    "for item in thelist:\n",
    "    f.write(\"%s\\n\" % item)\n",
    "f.close()\n"
   ]
  },
  {
   "cell_type": "code",
   "execution_count": 38,
   "metadata": {},
   "outputs": [],
   "source": [
    "f = open('readfiletest2.txt', 'w')\n",
    "thelist = [1,2,'this is CISA4358 class',4]\n",
    "for item in thelist:\n",
    "    f.write(str(item))\n",
    "f.close()"
   ]
  },
  {
   "cell_type": "code",
   "execution_count": 36,
   "metadata": {},
   "outputs": [],
   "source": [
    "f = open('readfiletest2.txt', 'w')\n",
    "thelist = [1,2,'this is CISA4358 class',4]\n",
    "for item in thelist:\n",
    "    f.write(\"%s\\n\" % item)"
   ]
  },
  {
   "cell_type": "code",
   "execution_count": 39,
   "metadata": {},
   "outputs": [
    {
     "name": "stdout",
     "output_type": "stream",
     "text": [
      "6\n"
     ]
    }
   ],
   "source": [
    "def length(s):\n",
    "    return len(s)\n",
    "print (length(\"Python\"))\n"
   ]
  },
  {
   "cell_type": "code",
   "execution_count": 40,
   "metadata": {},
   "outputs": [
    {
     "name": "stdout",
     "output_type": "stream",
     "text": [
      "{'a': 'alpha', 'g': 'gamma', 'o': 'omega'}\n"
     ]
    }
   ],
   "source": [
    "dic = {}\n",
    "dic['a'] = 'alpha'\n",
    "dic['g'] = 'gamma'\n",
    "dic['o'] = 'omega'\n",
    "print (dic)  ## {'a': 'alpha', 'o': 'gamma', 'g': 'omega'}"
   ]
  },
  {
   "cell_type": "code",
   "execution_count": 41,
   "metadata": {},
   "outputs": [
    {
     "name": "stdout",
     "output_type": "stream",
     "text": [
      "alpha\n",
      "True\n",
      "None\n"
     ]
    }
   ],
   "source": [
    "print (dic['a'])     ## Simple lookup, returns 'alpha'\n",
    "dic['a'] = 6       ## Put new key/value into dict\n",
    "print('a' in dic)         ## True\n",
    "##print (dic['z'])                  ## Throws KeyError\n",
    "if 'z' in dic: print (dic['z'])     ## Avoid KeyError\n",
    "print (dic.get('z'))  ## None (instead of KeyError)"
   ]
  },
  {
   "cell_type": "code",
   "execution_count": 42,
   "metadata": {},
   "outputs": [
    {
     "name": "stdout",
     "output_type": "stream",
     "text": [
      "{'a': 6, 'g': 'gamma', 'o': 'omega'}\n"
     ]
    }
   ],
   "source": [
    "print(dic)"
   ]
  }
 ],
 "metadata": {
  "kernelspec": {
   "display_name": "Python 3",
   "language": "python",
   "name": "python3"
  },
  "language_info": {
   "codemirror_mode": {
    "name": "ipython",
    "version": 3
   },
   "file_extension": ".py",
   "mimetype": "text/x-python",
   "name": "python",
   "nbconvert_exporter": "python",
   "pygments_lexer": "ipython3",
   "version": "3.8.5"
  }
 },
 "nbformat": 4,
 "nbformat_minor": 4
}
