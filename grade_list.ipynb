{
 "cells": [
  {
   "cell_type": "code",
   "execution_count": 35,
   "metadata": {},
   "outputs": [
    {
     "name": "stdout",
     "output_type": "stream",
     "text": [
      "Do you want to add another grade?\n",
      "\n",
      "Do you want to add another grade?\n",
      "\n",
      "Do you want to add another grade?\n",
      "\n",
      "Here are the grades you entered.\n",
      "90\n",
      "80\n",
      "70\n",
      "The average of the grades you entered is 80.0\n"
     ]
    }
   ],
   "source": [
    "def main():\n",
    "    # First, create an empty list.\n",
    "    grade_list = []\n",
    "\n",
    "    # Create a variable to control the loop.\n",
    "    again = 'Y'\n",
    "    \n",
    "    # Add some names to the list.\n",
    "    while again.upper() == 'Y':\n",
    "        # Get a name from the user.\n",
    "        grade = int(input('Enter a grade: '))\n",
    "\n",
    "        # Append the name to the list.\n",
    "        grade_list.append(grade)\n",
    "\n",
    "        # Add another one?\n",
    "        print('Do you want to add another grade?')\n",
    "        again = input('y = yes, anything else = no: ')\n",
    "        print()\n",
    "\n",
    "    # Display the names that were entered.\n",
    "    print('Here are the grades you entered.')\n",
    "    \n",
    "    for grade in grade_list:\n",
    "        print(grade)\n",
    "    sumOfList = sum(grade_list)\n",
    "    count = len(grade_list)\n",
    "    average = sumOfList / count\n",
    "    print(\"The average of the grades you entered is\", average)\n",
    "    \n",
    "# Call the main function.        \n",
    "main()  "
   ]
  }
 ],
 "metadata": {
  "kernelspec": {
   "display_name": "Python 3.9.6 64-bit ('3.9.6')",
   "language": "python",
   "name": "python3"
  },
  "language_info": {
   "codemirror_mode": {
    "name": "ipython",
    "version": 3
   },
   "file_extension": ".py",
   "mimetype": "text/x-python",
   "name": "python",
   "nbconvert_exporter": "python",
   "pygments_lexer": "ipython3",
   "version": "3.9.6"
  },
  "orig_nbformat": 4,
  "vscode": {
   "interpreter": {
    "hash": "ea56e705ca9c4e9d3c0298a210621c1967dd75ef88c9ef47a3a7f06ab04a0928"
   }
  }
 },
 "nbformat": 4,
 "nbformat_minor": 2
}
