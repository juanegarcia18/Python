{
  "nbformat": 4,
  "nbformat_minor": 0,
  "metadata": {
    "kernelspec": {
      "display_name": "Python 3",
      "language": "python",
      "name": "python3"
    },
    "language_info": {
      "codemirror_mode": {
        "name": "ipython",
        "version": 3
      },
      "file_extension": ".py",
      "mimetype": "text/x-python",
      "name": "python",
      "nbconvert_exporter": "python",
      "pygments_lexer": "ipython3",
      "version": "3.7.4"
    },
    "toc": {
      "base_numbering": 1,
      "nav_menu": {},
      "number_sections": true,
      "sideBar": true,
      "skip_h1_title": false,
      "title_cell": "Table of Contents",
      "title_sidebar": "Contents",
      "toc_cell": false,
      "toc_position": {},
      "toc_section_display": true,
      "toc_window_display": false
    },
    "colab": {
      "name": "Module1_Python_Basics.ipynb",
      "provenance": [],
      "collapsed_sections": []
    }
  },
  "cells": [
    {
      "cell_type": "markdown",
      "metadata": {
        "id": "mnvLPX8-g9iA"
      },
      "source": [
        "# Module 1: Python Basics\n",
        "\n",
        "Hi Class,\n",
        "\n",
        "This tutorial will teach you the basics of Python, which is required by the course. It is not necessary to have any prior programming experience.\n",
        "\n",
        "The tool you are using is Google Colab. It allows anybody to write and execute arbitrary python code through the browser, and is especially well suited to business/data analytics and education. \n",
        "\n",
        "Colab includes both Text Cells and Code Cells. You can double click a cell to edit it. This cell is a Text Cell. Please go through all the following cells, read the text, and run the code. You can fold/unfold text or execute code by clicking the arrow buton on the left of cell. \n",
        "\n",
        "Note that the best way to learn is to get your hands dirty! thus, feel free to modify the code and check whether the results make sense to you or not.\n",
        "\n",
        "If you have any questions, post them on the Canvas Discussion board. \n",
        "\n",
        "Happy learning!"
      ]
    },
    {
      "cell_type": "markdown",
      "metadata": {
        "id": "rRMnkyJxB9LN"
      },
      "source": [
        "## Objectives\n"
      ]
    },
    {
      "cell_type": "markdown",
      "metadata": {
        "heading_collapsed": true,
        "id": "zXCkInvyg9iD"
      },
      "source": [
        "\n",
        "1. Execute\tPython code.\n",
        "2. Explain Python syntax, variables, data types, and lists.\n",
        "3. Call Python functions.\n",
        "2. Load and use the Python library."
      ]
    },
    {
      "cell_type": "markdown",
      "metadata": {
        "id": "JrcUJvBFCCrO"
      },
      "source": [
        "## What is Python?\n"
      ]
    },
    {
      "cell_type": "markdown",
      "metadata": {
        "id": "74c4kI-bg9if"
      },
      "source": [
        "\n",
        "Python is a  general-purpose programming language, which is also very popular in Data Science. Python has a simple syntax similar to the English language, which allows you to express powerful ideas in fewer lines of code while being very readable."
      ]
    },
    {
      "cell_type": "markdown",
      "metadata": {
        "id": "FSgSb1H2CFLL"
      },
      "source": [
        "## Why Python?\n"
      ]
    },
    {
      "cell_type": "markdown",
      "metadata": {
        "id": "WKbWMJFJ1IDw"
      },
      "source": [
        "\n",
        "Python can take your marketing analytics to the next level. It helps marketing professionals get more insights from data, make better-informed data-driven decisions, automate many routine activities, and increase the ROI from the marketing campaigns."
      ]
    },
    {
      "cell_type": "markdown",
      "metadata": {
        "id": "NcIGBcJRCJRB"
      },
      "source": [
        "## Execute code\n"
      ]
    },
    {
      "cell_type": "markdown",
      "metadata": {
        "id": "6BFGoTYs1a3D"
      },
      "source": [
        "\n",
        "Run the following code, and you will print a message on the screen!\n",
        "\n",
        "`print()` is a function that prints the specified message to the screen. In Python, we often call functions to achieve various goals.\n",
        "\n"
      ]
    },
    {
      "cell_type": "code",
      "metadata": {
        "id": "WhbUnjuq1aEm",
        "colab": {
          "base_uri": "https://localhost:8080/"
        },
        "outputId": "b04cdc0b-6b53-45b0-e4cf-ecc1a325fce6"
      },
      "source": [
        "print(\"Hello, World!\")"
      ],
      "execution_count": null,
      "outputs": [
        {
          "output_type": "stream",
          "text": [
            "Hello, World!\n"
          ],
          "name": "stdout"
        }
      ]
    },
    {
      "cell_type": "markdown",
      "metadata": {
        "id": "nxVAAuWoBu5Q"
      },
      "source": [
        "## Python Indentation\n"
      ]
    },
    {
      "cell_type": "markdown",
      "metadata": {
        "id": "HvCioWD27yWK"
      },
      "source": [
        "\n",
        "Indentation refers to the spaces at the beginning of a code line.\n",
        "\n",
        "Where in other programming languages the indentation in code is for readability only, the indentation in Python is very important.\n",
        "\n",
        "Python uses indentation to indicate a block of code.\n",
        "\n",
        "The number of spaces is up to you as a programmer, but it has to be at least one. You can remove the space in the following cell and see what will happen.\n",
        "\n",
        "Note that you have to use the same number of spaces in the same block of code."
      ]
    },
    {
      "cell_type": "code",
      "metadata": {
        "id": "CG464YX47zIb",
        "colab": {
          "base_uri": "https://localhost:8080/"
        },
        "outputId": "5f3a7f2d-88df-499b-fbfa-2f1c2bc22e65"
      },
      "source": [
        "if 5 > 2:\n",
        "  print(\"Five is greater than two!\")"
      ],
      "execution_count": null,
      "outputs": [
        {
          "output_type": "stream",
          "text": [
            "Five is greater than two!\n"
          ],
          "name": "stdout"
        }
      ]
    },
    {
      "cell_type": "markdown",
      "metadata": {
        "id": "wIAtGy_M9OJ8"
      },
      "source": [
        "The meaning of the above code is straightforward. We will discuss more the Python Conditions and If statements later."
      ]
    },
    {
      "cell_type": "markdown",
      "metadata": {
        "id": "q8w-OXmYEAed"
      },
      "source": [
        "## Comments\n",
        "Python has commenting capability for the purpose of in-code documentation.\n",
        "\n",
        "Comments start with a #, and Python will render the rest of the line as a comment:"
      ]
    },
    {
      "cell_type": "code",
      "metadata": {
        "colab": {
          "base_uri": "https://localhost:8080/"
        },
        "id": "lvUMwM1JEAed",
        "outputId": "cb8e5174-250d-4ac1-9d0f-abc2c85a8f7c"
      },
      "source": [
        "#This is a comment.\n",
        "print(\"Hello, World!\")"
      ],
      "execution_count": null,
      "outputs": [
        {
          "output_type": "stream",
          "text": [
            "Hello, World!\n"
          ],
          "name": "stdout"
        }
      ]
    },
    {
      "cell_type": "markdown",
      "metadata": {
        "id": "vnDPxr9ncyqJ"
      },
      "source": [
        "**Use as many useful comments as you can in your program to:**\n",
        "\n",
        "*   explain assumptions\n",
        "*   explain important details\n",
        "*   explain problems you're trying to solve\n",
        "*   explain problems you're trying to overcome in your program, etc.\n",
        "\n",
        "\n",
        "\n"
      ]
    },
    {
      "cell_type": "markdown",
      "metadata": {
        "id": "6VoDBp0x9qZd"
      },
      "source": [
        "## Python Variables\n",
        "In Python, variables are created when you assign a value to it. Variables are containers for storing data values."
      ]
    },
    {
      "cell_type": "code",
      "metadata": {
        "id": "hCGdE3sb90wV"
      },
      "source": [
        "x = 5\n",
        "y = \"Hello, World!\""
      ],
      "execution_count": null,
      "outputs": []
    },
    {
      "cell_type": "markdown",
      "metadata": {
        "id": "mUO_8JVm-zWg"
      },
      "source": [
        "You can get the data type of a variable with the `type()` function."
      ]
    },
    {
      "cell_type": "code",
      "metadata": {
        "id": "Xhi8Dj37-2TK",
        "colab": {
          "base_uri": "https://localhost:8080/"
        },
        "outputId": "b929b0fb-50b2-4876-8589-02496c89f7d5"
      },
      "source": [
        "x = 5\n",
        "y = \"John\"\n",
        "print(type(x)) # integer data type\n",
        "print(type(y)) # string data type"
      ],
      "execution_count": null,
      "outputs": [
        {
          "output_type": "stream",
          "text": [
            "<class 'int'>\n",
            "<class 'str'>\n"
          ],
          "name": "stdout"
        }
      ]
    },
    {
      "cell_type": "markdown",
      "metadata": {
        "id": "HEDtqU_l-76Z"
      },
      "source": [
        "String variables can be declared either by using single or double quotes:"
      ]
    },
    {
      "cell_type": "code",
      "metadata": {
        "id": "39bwiPQ1-_Ae"
      },
      "source": [
        "x = \"John\"\n",
        "# is the same as\n",
        "x = 'John'"
      ],
      "execution_count": null,
      "outputs": []
    },
    {
      "cell_type": "markdown",
      "metadata": {
        "id": "7oj5puPPeNkU"
      },
      "source": [
        "You can specify multi-line strings using triple quotes - (\"\"\" or '''). You can use single quotes and double quotes freely within the triple quotes. An example is:"
      ]
    },
    {
      "cell_type": "code",
      "metadata": {
        "colab": {
          "base_uri": "https://localhost:8080/"
        },
        "id": "KxuWwtc7eQrp",
        "outputId": "e863cde9-e182-43bf-e0c1-60fb810bae5e"
      },
      "source": [
        "multiLineString='''This is a multi-line string. This is the first line.\n",
        "This is the second line.\n",
        "\"What's your name?,\" I asked.\n",
        "He said \"Bond, James Bond.\"\n",
        "'''\n",
        "print(multiLineString)"
      ],
      "execution_count": 1,
      "outputs": [
        {
          "output_type": "stream",
          "text": [
            "This is a multi-line string. This is the first line.\n",
            "This is the second line.\n",
            "\"What's your name?,\" I asked.\n",
            "He said \"Bond, James Bond.\"\n",
            "\n"
          ],
          "name": "stdout"
        }
      ]
    },
    {
      "cell_type": "markdown",
      "metadata": {
        "id": "6h7ZabfJ_A7H"
      },
      "source": [
        "Note that Variable names are **case-sensitive**. The following code will create two variables:"
      ]
    },
    {
      "cell_type": "code",
      "metadata": {
        "id": "S_xRCEao_G-9",
        "colab": {
          "base_uri": "https://localhost:8080/"
        },
        "outputId": "8afbb9ab-c2ca-47bc-9ba8-6bd473b5e136"
      },
      "source": [
        "a = 4\n",
        "A = \"Sally\"\n",
        "#A will not overwrite a\n",
        "print(a)\n",
        "print(A)"
      ],
      "execution_count": 2,
      "outputs": [
        {
          "output_type": "stream",
          "text": [
            "4\n",
            "Sally\n"
          ],
          "name": "stdout"
        }
      ]
    },
    {
      "cell_type": "markdown",
      "metadata": {
        "id": "39I_YLtiA6NC"
      },
      "source": [
        "## Python Numbers\n",
        "\n",
        "The basic numeric types in Python are:\n",
        "\n",
        "- int\n",
        "- float\n",
        "\n",
        "Variables of numeric types are created when you assign a value to them:\n"
      ]
    },
    {
      "cell_type": "code",
      "metadata": {
        "id": "3Jlg9zksBUwS"
      },
      "source": [
        "x = 1    # int\n",
        "y = 2.8  # float"
      ],
      "execution_count": null,
      "outputs": []
    },
    {
      "cell_type": "markdown",
      "metadata": {
        "id": "KADyxSAnBW0n"
      },
      "source": [
        "Int, or integer, is a whole number, positive or negative, without decimals, of unlimited length."
      ]
    },
    {
      "cell_type": "code",
      "metadata": {
        "id": "UazKRi1yBfKU",
        "colab": {
          "base_uri": "https://localhost:8080/"
        },
        "outputId": "5f0962bf-abb5-43dc-a6a5-186a92678781"
      },
      "source": [
        "x = 1\n",
        "y = 35656222554887711\n",
        "z = -3255522\n",
        "\n",
        "print(type(x))\n",
        "print(type(y))\n",
        "print(type(z))"
      ],
      "execution_count": null,
      "outputs": [
        {
          "output_type": "stream",
          "text": [
            "<class 'int'>\n",
            "<class 'int'>\n",
            "<class 'int'>\n"
          ],
          "name": "stdout"
        }
      ]
    },
    {
      "cell_type": "markdown",
      "metadata": {
        "id": "ihHGvQChBhrY"
      },
      "source": [
        "Float, or \"floating point number\" is a number, positive or negative, containing one or more decimals."
      ]
    },
    {
      "cell_type": "code",
      "metadata": {
        "id": "DdBJ3SYWBkGC",
        "colab": {
          "base_uri": "https://localhost:8080/"
        },
        "outputId": "edaefac5-1aff-4d28-e51e-97f6806647f0"
      },
      "source": [
        "x = 1.10\n",
        "y = 1.0\n",
        "z = -35.59\n",
        "\n",
        "print(type(x))\n",
        "print(type(y))\n",
        "print(type(z))"
      ],
      "execution_count": null,
      "outputs": [
        {
          "output_type": "stream",
          "text": [
            "<class 'float'>\n",
            "<class 'float'>\n",
            "<class 'float'>\n"
          ],
          "name": "stdout"
        }
      ]
    },
    {
      "cell_type": "markdown",
      "metadata": {
        "id": "MRTi-tumBo-O"
      },
      "source": [
        "## Python String\n",
        "\n",
        "Strings in python are surrounded by either single quotation marks, or double quotation marks.\n",
        "\n",
        "`'hello'` is the same as `\"hello\"`.\n",
        "\n",
        "As you saw before, you can display a string literal with the `print()` function.\n",
        "\n"
      ]
    },
    {
      "cell_type": "markdown",
      "metadata": {
        "id": "T_yzJZK1Dlvo"
      },
      "source": [
        "### Slicing\n",
        "You can return a range of characters by using the slice syntax.\n",
        "\n",
        "Specify the start index and the end index, separated by a colon, to return a part of the string.\n",
        "\n",
        "Note that the index **starts from 0**, and the end index is not included."
      ]
    },
    {
      "cell_type": "code",
      "metadata": {
        "id": "BY0joYhPDEt2",
        "colab": {
          "base_uri": "https://localhost:8080/"
        },
        "outputId": "e3421d61-3b62-4eed-d54a-a9d15bc79731"
      },
      "source": [
        "#Get the characters from position 2 to position 5 (not included):\n",
        "b = \"Hello, World!\"\n",
        "print(b[2:5])"
      ],
      "execution_count": null,
      "outputs": [
        {
          "output_type": "stream",
          "text": [
            "llo\n"
          ],
          "name": "stdout"
        }
      ]
    },
    {
      "cell_type": "markdown",
      "metadata": {
        "id": "JI8OmcZLDaXf"
      },
      "source": [
        "### Slice From the Start\n",
        "By leaving out the start index, the range will start at the first character:"
      ]
    },
    {
      "cell_type": "code",
      "metadata": {
        "id": "tu3-ICguDitZ",
        "colab": {
          "base_uri": "https://localhost:8080/"
        },
        "outputId": "ccdabee8-e59c-43b0-c1e0-0e778a0926ff"
      },
      "source": [
        "b = \"Hello, World!\"\n",
        "print(b[:5])"
      ],
      "execution_count": null,
      "outputs": [
        {
          "output_type": "stream",
          "text": [
            "Hello\n"
          ],
          "name": "stdout"
        }
      ]
    },
    {
      "cell_type": "markdown",
      "metadata": {
        "id": "K0S1VeiSDvcd"
      },
      "source": [
        "### Slice To the End\n",
        "By leaving out the end index, the range will go to the end:"
      ]
    },
    {
      "cell_type": "code",
      "metadata": {
        "id": "ip-a2XCZDyeq",
        "colab": {
          "base_uri": "https://localhost:8080/"
        },
        "outputId": "d271840d-4a23-4d52-d5ce-5bf2d0b4dcff"
      },
      "source": [
        "# Get the characters from position 2, and all the way to the end:\n",
        "b = \"Hello, World!\"\n",
        "print(b[2:])"
      ],
      "execution_count": null,
      "outputs": [
        {
          "output_type": "stream",
          "text": [
            "llo, World!\n"
          ],
          "name": "stdout"
        }
      ]
    },
    {
      "cell_type": "markdown",
      "metadata": {
        "id": "8NASYOdYD9o1"
      },
      "source": [
        "### Negative Indexing\n",
        "Use negative indexes to start the slice from the end of the string.\n",
        "\n",
        "The following code get the characters:\n",
        "\n",
        "From: \"o\" in \"World!\" (position -5)\n",
        "\n",
        "To, but not included: \"d\" in \"World!\" (position -2):"
      ]
    },
    {
      "cell_type": "code",
      "metadata": {
        "id": "fjDcoTvbEC9H",
        "colab": {
          "base_uri": "https://localhost:8080/"
        },
        "outputId": "9006bcef-d0b6-4ef4-aef0-04253e9b22ec"
      },
      "source": [
        "b = \"Hello, World!\"\n",
        "print(b[-5:-2])"
      ],
      "execution_count": null,
      "outputs": [
        {
          "output_type": "stream",
          "text": [
            "orl\n"
          ],
          "name": "stdout"
        }
      ]
    },
    {
      "cell_type": "markdown",
      "metadata": {
        "id": "olfdwfRlETUQ"
      },
      "source": [
        "### String Concatenation\n",
        "To concatenate, or combine, two strings you can use the + operator."
      ]
    },
    {
      "cell_type": "code",
      "metadata": {
        "id": "B1CJ4kCTEUnI",
        "colab": {
          "base_uri": "https://localhost:8080/"
        },
        "outputId": "40b52188-6ce3-4aed-92cf-47f1baddb82f"
      },
      "source": [
        "a = \"Hello\"\n",
        "b = \"World\"\n",
        "c = a + b\n",
        "print(c)"
      ],
      "execution_count": null,
      "outputs": [
        {
          "output_type": "stream",
          "text": [
            "HelloWorld\n"
          ],
          "name": "stdout"
        }
      ]
    },
    {
      "cell_type": "markdown",
      "metadata": {
        "id": "iaFlhGBqEXY6"
      },
      "source": [
        ""
      ]
    },
    {
      "cell_type": "markdown",
      "metadata": {
        "id": "c2qsgaLb-aQG"
      },
      "source": [
        "## Python Booleans\n",
        "\n",
        "**Boolean Values**\n",
        "\n",
        "In programming you often need to know if an expression is True or False.\n",
        "\n",
        "You can evaluate any expression in Python, and get one of two answers, True or False.\n",
        "\n",
        "When you compare two values, the expression is evaluated and Python returns the Boolean answer:"
      ]
    },
    {
      "cell_type": "code",
      "metadata": {
        "id": "aDLb_JT4E91t",
        "colab": {
          "base_uri": "https://localhost:8080/"
        },
        "outputId": "bb8759c9-9cfe-4321-e156-a15a8d19ef3e"
      },
      "source": [
        "print(10 > 9)\n",
        "print(10 == 9)\n",
        "print(10 < 9)"
      ],
      "execution_count": null,
      "outputs": [
        {
          "output_type": "stream",
          "text": [
            "True\n",
            "False\n",
            "False\n"
          ],
          "name": "stdout"
        }
      ]
    },
    {
      "cell_type": "markdown",
      "metadata": {
        "id": "os9IGZS1FBo-"
      },
      "source": [
        "Python Comparison Operators\n",
        "\n",
        "|Operator|\tName|\tExample|\n",
        "|---|---|---|\n",
        "|==|\tEqual|\tx == y|\t\n",
        "|!=\t|Not equal|\tx != y\t\n",
        "|>\t|Greater than|\tx > y\t\n",
        "|<\t|Less than|\tx < y\t\n",
        "|>=\t|Greater than or equal to|\tx >= y\t\n",
        "|<=\t|Less than or equal to|\tx <= y\t\n"
      ]
    },
    {
      "cell_type": "markdown",
      "metadata": {
        "id": "lrDYiu8xFS-p"
      },
      "source": [
        "## Python List data structure\n",
        "Lists are used to store multiple items in a single variable.\n",
        "\n",
        "Lists are one of 4 built-in data types in Python used to store collections of data, the other 3 are Tuple, Set, and Dictionary, all with different qualities and usage.\n",
        "\n",
        "Lists are created using square brackets:"
      ]
    },
    {
      "cell_type": "code",
      "metadata": {
        "id": "ZiBpj0O4Gl3G",
        "colab": {
          "base_uri": "https://localhost:8080/"
        },
        "outputId": "0ea5b0fc-b9dc-49aa-eba7-fedefb294d19"
      },
      "source": [
        "thislist = [\"apple\", \"banana\", \"cherry\"]\n",
        "print(thislist)"
      ],
      "execution_count": null,
      "outputs": [
        {
          "output_type": "stream",
          "text": [
            "['apple', 'banana', 'cherry']\n"
          ],
          "name": "stdout"
        }
      ]
    },
    {
      "cell_type": "markdown",
      "metadata": {
        "id": "25IpZ_J1FTBj"
      },
      "source": [
        "### List Items\n",
        "List items are ordered, changeable, and allow duplicate values.\n",
        "\n",
        "List items are indexed, the first item has index [0], the second item has index [1] etc.\n",
        "\n",
        "### Ordered\n",
        "When we say that lists are ordered, it means that the items have a defined order, and that order will not change.\n",
        "\n",
        "If you add new items to a list, the new items will be placed at the end of the list.\n",
        "\n",
        "### Changeable\n",
        "The list is changeable, meaning that we can change, add, and remove items in a list after it has been created.\n",
        "\n",
        "### Allow Duplicates\n",
        "Since lists are indexed, lists can have items with the same value:\n",
        "\n"
      ]
    },
    {
      "cell_type": "code",
      "metadata": {
        "id": "9bgHe7tQPrsX",
        "colab": {
          "base_uri": "https://localhost:8080/"
        },
        "outputId": "a787bacf-89b1-4512-a2ac-1b3ef138234d"
      },
      "source": [
        "# Lists allow duplicate values:\n",
        "thislist = [\"apple\", \"banana\", \"cherry\", \"apple\", \"cherry\"]\n",
        "print(thislist)"
      ],
      "execution_count": null,
      "outputs": [
        {
          "output_type": "stream",
          "text": [
            "['apple', 'banana', 'cherry', 'apple', 'cherry']\n"
          ],
          "name": "stdout"
        }
      ]
    },
    {
      "cell_type": "markdown",
      "metadata": {
        "id": "CKOMjHAHFTEZ"
      },
      "source": [
        "### List Length\n",
        "To determine how many items a list has, use the `len()` function:"
      ]
    },
    {
      "cell_type": "code",
      "metadata": {
        "id": "gxCw5AwhP1x4",
        "colab": {
          "base_uri": "https://localhost:8080/"
        },
        "outputId": "2f826178-0fcd-4e70-b084-8f705824a3d6"
      },
      "source": [
        "thislist = [\"apple\", \"banana\", \"cherry\"]\n",
        "print(len(thislist))"
      ],
      "execution_count": null,
      "outputs": [
        {
          "output_type": "stream",
          "text": [
            "3\n"
          ],
          "name": "stdout"
        }
      ]
    },
    {
      "cell_type": "markdown",
      "metadata": {
        "id": "Knn5F5TMFTHQ"
      },
      "source": [
        "### List Items - Data Types\n",
        "List items can be of any data type:"
      ]
    },
    {
      "cell_type": "code",
      "metadata": {
        "id": "_EKQ4Lv3P7aZ"
      },
      "source": [
        "list1 = [\"apple\", \"banana\", \"cherry\"]\n",
        "list2 = [1, 5, 7, 9, 3]\n",
        "list3 = [True, False, False]"
      ],
      "execution_count": null,
      "outputs": []
    },
    {
      "cell_type": "markdown",
      "metadata": {
        "id": "0ni893H3FTKA"
      },
      "source": [
        "A list can contain different data types:"
      ]
    },
    {
      "cell_type": "code",
      "metadata": {
        "id": "Kn3g8gkEQCAc",
        "colab": {
          "base_uri": "https://localhost:8080/"
        },
        "outputId": "e3d972fc-80d6-4efc-bdc8-2b50e0334dc1"
      },
      "source": [
        "list1 = [\"abc\", 34, True, 40, \"male\"]\n",
        "print(list1)"
      ],
      "execution_count": 3,
      "outputs": [
        {
          "output_type": "stream",
          "text": [
            "['abc', 34, True, 40, 'male']\n"
          ],
          "name": "stdout"
        }
      ]
    },
    {
      "cell_type": "markdown",
      "metadata": {
        "id": "YkqbH4R-RE5q"
      },
      "source": [
        "### List append() Method\n",
        "\n",
        "The `append()` method appends an element to the end of the list.\n",
        "\n"
      ]
    },
    {
      "cell_type": "code",
      "metadata": {
        "colab": {
          "base_uri": "https://localhost:8080/"
        },
        "id": "PLxp3GJeRN4-",
        "outputId": "b558ebc6-4761-41f0-f442-93901fdd4c89"
      },
      "source": [
        "fruits = ['apple', 'banana', 'cherry']\n",
        "fruits.append(\"orange\")\n",
        "print(fruits)"
      ],
      "execution_count": null,
      "outputs": [
        {
          "output_type": "stream",
          "text": [
            "['apple', 'banana', 'cherry', 'orange']\n"
          ],
          "name": "stdout"
        }
      ]
    },
    {
      "cell_type": "markdown",
      "metadata": {
        "id": "fNQmu5ajjWvZ"
      },
      "source": [
        "**Tuple**\n",
        "\n",
        "Tuples are used to hold together multiple objects. Think of them as similar to lists, but without the extensive functionality that the list class gives you. One major feature of tuples is that they are immutable like strings i.e. you cannot modify tuples.\n",
        "\n",
        "Tuples are defined by specifying items separated by commas within an optional pair of parentheses.\n",
        "\n",
        "Tuples are usually used in cases where a statement or a user-defined function can safely assume that the collection of values (i.e. the tuple of values used) will not change."
      ]
    },
    {
      "cell_type": "code",
      "metadata": {
        "colab": {
          "base_uri": "https://localhost:8080/"
        },
        "id": "ydGgRi6Rjdiz",
        "outputId": "944807fd-58ff-478f-b926-bd5f7b68b56b"
      },
      "source": [
        "# I would recommend always using parentheses\n",
        "# to indicate start and end of tuple\n",
        "# even though parentheses are optional.\n",
        "# Explicit is better than implicit.\n",
        "zoo = ('python', 'elephant', 'penguin')\n",
        "print('Number of animals in the zoo is', len(zoo))\n",
        "\n",
        "new_zoo = 'monkey', 'camel', zoo    # parentheses not required but are a good idea\n",
        "print('Number of cages in the new zoo is', len(new_zoo))\n",
        "print('All animals in new zoo are', new_zoo)\n",
        "print('Animals brought from old zoo are', new_zoo[2])\n",
        "print('Last animal brought from old zoo is', new_zoo[2][2]) # we access the third item within the third item in the new_zoo tuple\n",
        "print('Number of animals in the new zoo is',\n",
        "      len(new_zoo)-1+len(new_zoo[2]))"
      ],
      "execution_count": 1,
      "outputs": [
        {
          "output_type": "stream",
          "text": [
            "Number of animals in the zoo is 3\n",
            "Number of cages in the new zoo is 3\n",
            "All animals in new zoo are ('monkey', 'camel', ('python', 'elephant', 'penguin'))\n",
            "Animals brought from old zoo are ('python', 'elephant', 'penguin')\n",
            "Last animal brought from old zoo is penguin\n",
            "Number of animals in the new zoo is 5\n"
          ],
          "name": "stdout"
        }
      ]
    },
    {
      "cell_type": "markdown",
      "metadata": {
        "id": "cr3_ci0KkM_x"
      },
      "source": [
        "**Sequence**\n",
        "\n",
        "Lists, tuples and strings are examples of sequences, but what are sequences and what is so special about them?\n",
        "\n",
        "The major features are membership tests, (i.e. the in and not in expressions) and indexing operations, which allow us to fetch a particular item in the sequence directly.\n",
        "\n",
        "The three types of sequences mentioned above - lists, tuples and strings, also have a slicing operation which allows us to retrieve a slice of the sequence i.e. a part of the sequence."
      ]
    },
    {
      "cell_type": "code",
      "metadata": {
        "colab": {
          "base_uri": "https://localhost:8080/"
        },
        "id": "5KemLbBvkciU",
        "outputId": "dc2d48d9-5703-4c2c-a5ca-f6e2397a044d"
      },
      "source": [
        "shoplist = ['apple', 'mango', 'carrot', 'banana']\n",
        "name = 'swaroop'\n",
        "\n",
        "# Indexing or 'Subscription' operation #\n",
        "print('Item 0 is', shoplist[0])\n",
        "print('Item 1 is', shoplist[1])\n",
        "print('Item 2 is', shoplist[2])\n",
        "print('Item 3 is', shoplist[3])\n",
        "print('Item -1 is', shoplist[-1])\n",
        "print('Item -2 is', shoplist[-2])\n",
        "print('Character 0 is', name[0])\n",
        "\n",
        "# Slicing on a list #\n",
        "print('Item 1 to 3 is', shoplist[1:3])\n",
        "print('Item 2 to end is', shoplist[2:])\n",
        "print('Item 1 to -1 is', shoplist[1:-1])\n",
        "print('Item start to end is', shoplist[:])\n",
        "\n",
        "# Slicing on a string #\n",
        "print('characters 1 to 3 is', name[1:3])\n",
        "print('characters 2 to end is', name[2:])\n",
        "print('characters 1 to -1 is', name[1:-1])\n",
        "print('characters start to end is', name[:])"
      ],
      "execution_count": 2,
      "outputs": [
        {
          "output_type": "stream",
          "text": [
            "Item 0 is apple\n",
            "Item 1 is mango\n",
            "Item 2 is carrot\n",
            "Item 3 is banana\n",
            "Item -1 is banana\n",
            "Item -2 is carrot\n",
            "Character 0 is s\n",
            "Item 1 to 3 is ['mango', 'carrot']\n",
            "Item 2 to end is ['carrot', 'banana']\n",
            "Item 1 to -1 is ['mango', 'carrot']\n",
            "Item start to end is ['apple', 'mango', 'carrot', 'banana']\n",
            "characters 1 to 3 is wa\n",
            "characters 2 to end is aroop\n",
            "characters 1 to -1 is waroo\n",
            "characters start to end is swaroop\n"
          ],
          "name": "stdout"
        }
      ]
    },
    {
      "cell_type": "markdown",
      "metadata": {
        "id": "Qtdt23IqFTM4"
      },
      "source": [
        "## Python Conditions and If statements\n",
        "\n",
        "An \"if statement\" is written by using the `if` keyword."
      ]
    },
    {
      "cell_type": "code",
      "metadata": {
        "id": "yY_f_7uDQu9E",
        "colab": {
          "base_uri": "https://localhost:8080/"
        },
        "outputId": "02f06eaf-34cf-4520-95d7-2f538b849a59"
      },
      "source": [
        "a = 33\n",
        "b = 200\n",
        "if b > a:\n",
        "  print(\"b is greater than a\")"
      ],
      "execution_count": null,
      "outputs": [
        {
          "output_type": "stream",
          "text": [
            "b is greater than a\n"
          ],
          "name": "stdout"
        }
      ]
    },
    {
      "cell_type": "markdown",
      "metadata": {
        "id": "sqTdxyi4QhwD"
      },
      "source": [
        "In this example we use two variables, a and b, which are used as part of the if statement to test whether b is greater than a. As a is 33, and b is 200, we know that 200 is greater than 33, and so we print to screen that \"b is greater than a\".\n",
        "\n",
        "### Elif\n",
        "The `elif` keyword is pythons way of saying \"if the previous conditions were not true, then try this condition\"."
      ]
    },
    {
      "cell_type": "code",
      "metadata": {
        "id": "_Zxaq-bZRBzL",
        "colab": {
          "base_uri": "https://localhost:8080/"
        },
        "outputId": "58724c59-864b-4768-da59-4006adfdf267"
      },
      "source": [
        "a = 33\n",
        "b = 33\n",
        "if b > a:\n",
        "  print(\"b is greater than a\")\n",
        "elif a == b:\n",
        "  print(\"a and b are equal\")"
      ],
      "execution_count": null,
      "outputs": [
        {
          "output_type": "stream",
          "text": [
            "a and b are equal\n"
          ],
          "name": "stdout"
        }
      ]
    },
    {
      "cell_type": "markdown",
      "metadata": {
        "id": "TBpkCGzFQhzC"
      },
      "source": [
        "In this example a is equal to b, so the first condition is not true, but the elif condition is true, so we print to screen that \"a and b are equal\".\n"
      ]
    },
    {
      "cell_type": "markdown",
      "metadata": {
        "id": "jkAq54jtQh2K"
      },
      "source": [
        "### Else\n",
        "The `else` keyword catches anything which isn't caught by the preceding conditions.\n"
      ]
    },
    {
      "cell_type": "code",
      "metadata": {
        "id": "4ns4ApD2RNLJ",
        "colab": {
          "base_uri": "https://localhost:8080/"
        },
        "outputId": "85a65a2c-84bf-4f5c-e958-9c434e432d93"
      },
      "source": [
        "a = 200\n",
        "b = 33\n",
        "if b > a:\n",
        "  print(\"b is greater than a\")\n",
        "elif a == b:\n",
        "  print(\"a and b are equal\")\n",
        "else:\n",
        "  print(\"a is greater than b\")"
      ],
      "execution_count": null,
      "outputs": [
        {
          "output_type": "stream",
          "text": [
            "a is greater than b\n"
          ],
          "name": "stdout"
        }
      ]
    },
    {
      "cell_type": "markdown",
      "metadata": {
        "id": "GVI-ore1Qh43"
      },
      "source": [
        "In this example a is greater than b, so the first condition is not true, also the elif condition is not true, so we go to the else condition and print to screen that \"a is greater than b\".\n",
        "\n",
        "You can also have an else without the elif:"
      ]
    },
    {
      "cell_type": "code",
      "metadata": {
        "id": "4hMSAC0xRUs5",
        "colab": {
          "base_uri": "https://localhost:8080/"
        },
        "outputId": "d5484177-f542-4e90-e882-721fcd5b7049"
      },
      "source": [
        "a = 200\n",
        "b = 33\n",
        "if b > a:\n",
        "  print(\"b is greater than a\")\n",
        "else:\n",
        "  print(\"b is not greater than a\")"
      ],
      "execution_count": null,
      "outputs": [
        {
          "output_type": "stream",
          "text": [
            "b is not greater than a\n"
          ],
          "name": "stdout"
        }
      ]
    },
    {
      "cell_type": "markdown",
      "metadata": {
        "id": "YHcQHY7oQh7Z"
      },
      "source": [
        "### And\n",
        "The `and` keyword is a logical operator, and is used to combine conditional statements:"
      ]
    },
    {
      "cell_type": "code",
      "metadata": {
        "id": "WZbiFs0nRq3y",
        "colab": {
          "base_uri": "https://localhost:8080/"
        },
        "outputId": "07a32042-1aa6-4864-b7e0-e5f7f0521df0"
      },
      "source": [
        "# Test if a is greater than b, AND if c is greater than a:\n",
        "a = 200\n",
        "b = 33\n",
        "c = 500\n",
        "if a > b and c > a:\n",
        "  print(\"Both conditions are True\")"
      ],
      "execution_count": null,
      "outputs": [
        {
          "output_type": "stream",
          "text": [
            "Both conditions are True\n"
          ],
          "name": "stdout"
        }
      ]
    },
    {
      "cell_type": "markdown",
      "metadata": {
        "id": "VAYyfnMaQh-X"
      },
      "source": [
        "### Or\n",
        "The `or` keyword is a logical operator, and is used to combine conditional statements:"
      ]
    },
    {
      "cell_type": "code",
      "metadata": {
        "id": "p64fSYagRzRx",
        "colab": {
          "base_uri": "https://localhost:8080/"
        },
        "outputId": "0b62629e-8e9d-4082-c37a-25e2a9ab8d7b"
      },
      "source": [
        "# Test if a is greater than b, OR if a is greater than c:\n",
        "a = 200\n",
        "b = 33\n",
        "c = 500\n",
        "if a > b or a > c:\n",
        "  print(\"At least one of the conditions is True\")"
      ],
      "execution_count": null,
      "outputs": [
        {
          "output_type": "stream",
          "text": [
            "At least one of the conditions is True\n"
          ],
          "name": "stdout"
        }
      ]
    },
    {
      "cell_type": "markdown",
      "metadata": {
        "id": "FGS9tP7GQiAn"
      },
      "source": [
        "## Python For Loops\n",
        "\n",
        "A for loop is used for iterating over a sequence (sucha as a list).\n",
        "\n",
        "With the for loop we can execute a set of statements, once for each item in a list."
      ]
    },
    {
      "cell_type": "code",
      "metadata": {
        "id": "-M5RWqElSnKE",
        "colab": {
          "base_uri": "https://localhost:8080/"
        },
        "outputId": "0d2d4b50-a731-4edd-f23e-2e24452e8c75"
      },
      "source": [
        "# Print each fruit in a fruit list:\n",
        "fruits = [\"apple\", \"banana\", \"cherry\"]\n",
        "for x in fruits:\n",
        "  print(x)"
      ],
      "execution_count": null,
      "outputs": [
        {
          "output_type": "stream",
          "text": [
            "apple\n",
            "banana\n",
            "cherry\n"
          ],
          "name": "stdout"
        }
      ]
    },
    {
      "cell_type": "markdown",
      "metadata": {
        "id": "EmYNigubQiD4"
      },
      "source": [
        "Even strings are iterable objects, they contain a sequence of characters:"
      ]
    },
    {
      "cell_type": "code",
      "metadata": {
        "id": "Zv-c5P_XSy9J",
        "colab": {
          "base_uri": "https://localhost:8080/"
        },
        "outputId": "f121e554-ebbb-44e2-be0a-445c8f6fc847"
      },
      "source": [
        "# Loop through the letters in the word \"banana\":\n",
        "for x in \"banana\":\n",
        "  print(x)"
      ],
      "execution_count": null,
      "outputs": [
        {
          "output_type": "stream",
          "text": [
            "b\n",
            "a\n",
            "n\n",
            "a\n",
            "n\n",
            "a\n"
          ],
          "name": "stdout"
        }
      ]
    },
    {
      "cell_type": "markdown",
      "metadata": {
        "id": "4l9gp6eIcFKs"
      },
      "source": [
        "Python's `range()` function returns a sequence of numbers, starting from 0 by default, and increments by 1 (by default), and stops before a specified number."
      ]
    },
    {
      "cell_type": "code",
      "metadata": {
        "id": "4_pIyRHbd14T",
        "colab": {
          "base_uri": "https://localhost:8080/"
        },
        "outputId": "02ee9f51-3dc2-41a7-dd22-d851aabf73ab"
      },
      "source": [
        "# Create a sequence of numbers from 3 to 5, and print each item in the sequence:\n",
        "x = range(3, 6)\n",
        "for n in x:\n",
        "  print(n)"
      ],
      "execution_count": null,
      "outputs": [
        {
          "output_type": "stream",
          "text": [
            "3\n",
            "4\n",
            "5\n"
          ],
          "name": "stdout"
        }
      ]
    },
    {
      "cell_type": "markdown",
      "metadata": {
        "id": "nBMCERTOyTQX"
      },
      "source": [
        "The while Statement\n",
        "The while statement allows you to repeatedly execute a block of statements as long as a condition is true. A while statement is an example of what is called a looping statement. A while statement can have an optional else clause."
      ]
    },
    {
      "cell_type": "code",
      "metadata": {
        "colab": {
          "base_uri": "https://localhost:8080/"
        },
        "id": "W9-Bj-a-yWjP",
        "outputId": "a6e9d95d-b622-4088-ef7b-f78e16e60d82"
      },
      "source": [
        "number = 23\n",
        "running = True\n",
        "\n",
        "while running:\n",
        "    guess = int(input('Enter an integer : '))\n",
        "\n",
        "    if guess == number:\n",
        "        print('Congratulations, you guessed it.')\n",
        "        # this causes the while loop to stop\n",
        "        running = False\n",
        "    elif guess < number:\n",
        "        print('No, it is a little higher than that.')\n",
        "    else:\n",
        "        print('No, it is a little lower than that.')\n",
        "else:\n",
        "    print('The while loop is over.')\n",
        "    # Do anything else you want to do here\n",
        "\n",
        "print('Done')"
      ],
      "execution_count": 8,
      "outputs": [
        {
          "output_type": "stream",
          "text": [
            "Enter an integer : 50\n",
            "No, it is a little lower than that.\n",
            "Enter an integer : 25\n",
            "No, it is a little lower than that.\n",
            "Enter an integer : 23\n",
            "Congratulations, you guessed it.\n",
            "The while loop is over.\n",
            "Done\n"
          ],
          "name": "stdout"
        }
      ]
    },
    {
      "cell_type": "markdown",
      "metadata": {
        "id": "UM_w4wDbyzpX"
      },
      "source": [
        "**The break Statement**\n",
        "The break statement is used to break out of a loop statement i.e. stop the execution of a looping statement, even if the loop condition has not become False or the sequence of items has not been completely iterated over.\n",
        "\n",
        "An important note is that if you break out of a for or while loop, any corresponding loop else block is not executed."
      ]
    },
    {
      "cell_type": "code",
      "metadata": {
        "colab": {
          "base_uri": "https://localhost:8080/"
        },
        "id": "Tv0GkJP5y8Uj",
        "outputId": "c5e7ab8a-3992-4dc2-97c0-f2c2f217fcce"
      },
      "source": [
        "while True:\n",
        "    s = input('Enter something : ')\n",
        "    if s == 'quit':\n",
        "        break\n",
        "    print('Length of the string is', len(s))\n",
        "print('Done')"
      ],
      "execution_count": 9,
      "outputs": [
        {
          "output_type": "stream",
          "text": [
            "Enter something : hello\n",
            "Length of the string is 5\n",
            "Enter something : python\n",
            "Length of the string is 6\n",
            "Enter something : quite\n",
            "Length of the string is 5\n",
            "Enter something : quit\n",
            "Done\n"
          ],
          "name": "stdout"
        }
      ]
    },
    {
      "cell_type": "markdown",
      "metadata": {
        "id": "R4x3f8MQzMId"
      },
      "source": [
        "**The continue Statement**\n",
        "The continue statement is used to tell Python to skip the rest of the statements in the current loop block and to continue to the next iteration of the loop."
      ]
    },
    {
      "cell_type": "code",
      "metadata": {
        "colab": {
          "base_uri": "https://localhost:8080/"
        },
        "id": "EEXTCcHEzaIa",
        "outputId": "cd8adf30-6152-47ad-9f56-05b2b27709fe"
      },
      "source": [
        "while True:\n",
        "    s = input('Enter something : ')\n",
        "    if s == 'quit':\n",
        "        break\n",
        "    if len(s) < 3:\n",
        "        print('Too small')\n",
        "        continue\n",
        "    print('Input is of sufficient length')\n",
        "    # Do other kinds of processing here..."
      ],
      "execution_count": 10,
      "outputs": [
        {
          "output_type": "stream",
          "text": [
            "Enter something : er\n",
            "Too small\n",
            "Enter something : python\n",
            "Input is of sufficient length\n",
            "Enter something : quit\n"
          ],
          "name": "stdout"
        }
      ]
    },
    {
      "cell_type": "markdown",
      "metadata": {
        "id": "JZpM_YpFQiGN"
      },
      "source": [
        "## Python Functions\n",
        "\n",
        "A function is a block of code which only runs when it is called.\n",
        "\n",
        "You can pass data, known as parameters, into a function.\n",
        "\n",
        "A function can return data as a result.\n",
        "\n",
        "### Creating a Function\n",
        "In Python a function is defined using the def keyword:"
      ]
    },
    {
      "cell_type": "code",
      "metadata": {
        "id": "83RMOnhXTB-o"
      },
      "source": [
        "def my_function():\n",
        "  print(\"Hello from a function\")"
      ],
      "execution_count": null,
      "outputs": []
    },
    {
      "cell_type": "markdown",
      "metadata": {
        "id": "0ZlFr10hS2R_"
      },
      "source": [
        "### Calling a Function\n",
        "To call a function, use the function name followed by parenthesis:"
      ]
    },
    {
      "cell_type": "code",
      "metadata": {
        "id": "5-vxnyu3UPHF",
        "colab": {
          "base_uri": "https://localhost:8080/"
        },
        "outputId": "5afee987-6aa3-4add-9fdf-a450a48d81d2"
      },
      "source": [
        "def my_function():\n",
        "  print(\"Hello from a function\")\n",
        "\n",
        "my_function()"
      ],
      "execution_count": null,
      "outputs": [
        {
          "output_type": "stream",
          "text": [
            "Hello from a function\n"
          ],
          "name": "stdout"
        }
      ]
    },
    {
      "cell_type": "markdown",
      "metadata": {
        "id": "Ac1U6juAS2U4"
      },
      "source": [
        "### Arguments\n",
        "Information can be passed into functions as arguments.\n",
        "\n",
        "Arguments are specified after the function name, inside the parentheses. You can add as many arguments as you want, just separate them with a comma.\n",
        "\n",
        "The following example has a function with one argument (fname). When the function is called, we pass along a first name, which is used inside the function to print the full name:"
      ]
    },
    {
      "cell_type": "code",
      "metadata": {
        "id": "u8lccEEuUUnJ",
        "colab": {
          "base_uri": "https://localhost:8080/"
        },
        "outputId": "cbfbd0aa-9bc0-415a-dc35-cc35ea11099e"
      },
      "source": [
        "def my_function(fname):\n",
        "  print(fname + \" Refsnes\")\n",
        "\n",
        "my_function(\"Emil\")\n",
        "my_function(\"Tobias\")\n",
        "my_function(\"Linus\")"
      ],
      "execution_count": null,
      "outputs": [
        {
          "output_type": "stream",
          "text": [
            "Emil Refsnes\n",
            "Tobias Refsnes\n",
            "Linus Refsnes\n"
          ],
          "name": "stdout"
        }
      ]
    },
    {
      "cell_type": "code",
      "metadata": {
        "colab": {
          "base_uri": "https://localhost:8080/"
        },
        "id": "-KZ8U42lz3x9",
        "outputId": "8486226c-7aa9-46de-c7b6-c03f5b31b31e"
      },
      "source": [
        "def print_max(a, b):\n",
        "    if a > b:\n",
        "        print(a, 'is maximum')\n",
        "    elif a == b:\n",
        "        print(a, 'is equal to', b)\n",
        "    else:\n",
        "        print(b, 'is maximum')\n",
        "\n",
        "# directly pass literal values\n",
        "print_max(3, 4)\n",
        "\n",
        "x = 5\n",
        "y = 7\n",
        "\n",
        "# pass variables as arguments\n",
        "print_max(x, y)"
      ],
      "execution_count": 11,
      "outputs": [
        {
          "output_type": "stream",
          "text": [
            "4 is maximum\n",
            "7 is maximum\n"
          ],
          "name": "stdout"
        }
      ]
    },
    {
      "cell_type": "code",
      "metadata": {
        "colab": {
          "base_uri": "https://localhost:8080/"
        },
        "id": "HT4snfmr0MKU",
        "outputId": "9d36ea58-e441-47a6-9fb9-73bbde2460f4"
      },
      "source": [
        "#Default Argument Values\n",
        "def say(message, times=1):\n",
        "    print(message * times)\n",
        "\n",
        "say('Hello')\n",
        "say('World', 5)"
      ],
      "execution_count": 12,
      "outputs": [
        {
          "output_type": "stream",
          "text": [
            "Hello\n",
            "WorldWorldWorldWorldWorld\n"
          ],
          "name": "stdout"
        }
      ]
    },
    {
      "cell_type": "markdown",
      "metadata": {
        "id": "FvY4Upd-26Eg"
      },
      "source": [
        "**The return statement**\n",
        "The return statement is used to return from a function i.e. break out of the function. We can optionally return a value from the function as well."
      ]
    },
    {
      "cell_type": "code",
      "metadata": {
        "colab": {
          "base_uri": "https://localhost:8080/"
        },
        "id": "2SZ5vVCK29vJ",
        "outputId": "09a395f4-ea20-4c56-bd1b-762dc4d7d0e4"
      },
      "source": [
        "def maximum(x, y):\n",
        "    if x > y:\n",
        "        return x\n",
        "    elif x == y:\n",
        "        return 'The numbers are equal'\n",
        "    else:\n",
        "        return y\n",
        "\n",
        "print(maximum(2, 3))"
      ],
      "execution_count": 13,
      "outputs": [
        {
          "output_type": "stream",
          "text": [
            "3\n"
          ],
          "name": "stdout"
        }
      ]
    },
    {
      "cell_type": "code",
      "metadata": {
        "colab": {
          "base_uri": "https://localhost:8080/"
        },
        "id": "-RIeFN_L8PuT",
        "outputId": "edc2def3-4ecf-4686-ff2e-be3cafd9a31a"
      },
      "source": [
        "# This program demonstrates the in operator used with a list.\n",
        "def main():\n",
        "    # Create a list of product numbers.\n",
        "    prod_nums = ['V475', 'F987', 'Q143', 'R688']\n",
        "\n",
        "    # Get a product number to search for.\n",
        "    search = input('Enter a product number: ')\n",
        "\n",
        "    # Determine whether the product number is in the list.\n",
        "    if search in prod_nums:\n",
        "        print(search, 'was found in the list.')\n",
        "    else:\n",
        "        print(search, 'was not found in the list.')\n",
        "\n",
        "# Call the main function.\n",
        "main()"
      ],
      "execution_count": 14,
      "outputs": [
        {
          "output_type": "stream",
          "text": [
            "Enter a product number: F987\n",
            "F987 was found in the list.\n"
          ],
          "name": "stdout"
        }
      ]
    },
    {
      "cell_type": "code",
      "metadata": {
        "colab": {
          "base_uri": "https://localhost:8080/"
        },
        "id": "EI8yHeJ58n3c",
        "outputId": "1f22c414-2ad0-45e7-d1eb-1e20c7716a61"
      },
      "source": [
        "# This program demonstrates how the append\n",
        "# method can be used to add items to a list.\n",
        "\n",
        "def main():\n",
        "    # First, create an empty list.\n",
        "    name_list = []\n",
        "\n",
        "    # Create a variable to control the loop.\n",
        "    again = 'Y'\n",
        "    \n",
        "    # Add some names to the list.\n",
        "    while again.upper() == 'Y':\n",
        "        # Get a name from the user.\n",
        "        name = input('Enter a name: ')\n",
        "\n",
        "        # Append the name to the list.\n",
        "        name_list.append(name)\n",
        "\n",
        "        # Add another one?\n",
        "        print('Do you want to add another name?')\n",
        "        again = input('y = yes, anything else = no: ')\n",
        "        print()\n",
        "\n",
        "    # Display the names that were entered.\n",
        "    print('Here are the names you entered.')\n",
        "    \n",
        "    for name in name_list:\n",
        "        print(name)\n",
        "\n",
        "# Call the main function.\n",
        "main()"
      ],
      "execution_count": 15,
      "outputs": [
        {
          "output_type": "stream",
          "text": [
            "Enter a name: Mohammad\n",
            "Do you want to add another name?\n",
            "y = yes, anything else = no: y\n",
            "\n",
            "Enter a name: Jack\n",
            "Do you want to add another name?\n",
            "y = yes, anything else = no: n\n",
            "\n",
            "Here are the names you entered.\n",
            "Mohammad\n",
            "Jack\n"
          ],
          "name": "stdout"
        }
      ]
    }
  ]
}