{
 "cells": [
  {
   "cell_type": "markdown",
   "metadata": {
    "id": "jmvSohp-oS3t"
   },
   "source": [
    "## Python library\n",
    "\n",
    "Python Libraries are a set of useful functions that eliminate the need for writing codes from scratch. There are over 137,000 python libraries present in 2020! Using libraries analytics projects can be done very productively.\n",
    "\n",
    "A library is often imported by seting an alien name. The function in library is called with the prefix of alien name:"
   ]
  },
  {
   "cell_type": "code",
   "execution_count": 3,
   "metadata": {
    "colab": {
     "base_uri": "https://localhost:8080/"
    },
    "id": "qExd9lxp5kod",
    "outputId": "565f33be-6241-4e7f-9bac-752aa5d1f2a8"
   },
   "outputs": [
    {
     "data": {
      "text/plain": [
       "2.0"
      ]
     },
     "execution_count": 3,
     "metadata": {
      "tags": []
     },
     "output_type": "execute_result"
    }
   ],
   "source": [
    "# Using math library\n",
    "import math\n",
    "math.sqrt(4)"
   ]
  },
  {
   "cell_type": "code",
   "execution_count": 4,
   "metadata": {
    "colab": {
     "base_uri": "https://localhost:8080/"
    },
    "id": "GgQ79E6S5ns6",
    "outputId": "7256c4bd-4885-4940-b639-d6081401e43e"
   },
   "outputs": [
    {
     "data": {
      "text/plain": [
       "2.0"
      ]
     },
     "execution_count": 4,
     "metadata": {
      "tags": []
     },
     "output_type": "execute_result"
    }
   ],
   "source": [
    "#Using math library\n",
    "import math as m\n",
    "m.sqrt(4)"
   ]
  },
  {
   "cell_type": "markdown",
   "metadata": {
    "id": "GkmHEkTP4-8w"
   },
   "source": [
    "##Python Dictionary data structure\n",
    "\n",
    "A dictionary is like an address-book where you can find the address or contact details of a person by knowing only his/her name i.e. we associate keys (name) with values (details). Note that the key must be unique just like you cannot find out the correct information if you have two persons with the exact same name."
   ]
  },
  {
   "cell_type": "code",
   "execution_count": 1,
   "metadata": {
    "colab": {
     "base_uri": "https://localhost:8080/"
    },
    "id": "5AK4tHPphwCn",
    "outputId": "047b4bf4-9020-4ed3-ef96-020d5ba50b60"
   },
   "outputs": [
    {
     "name": "stdout",
     "output_type": "stream",
     "text": [
      "Swaroop's address is swaroop@swaroopch.com\n",
      "\n",
      "There are 3 contacts in the address-book\n",
      "\n",
      "Contact Swaroop at swaroop@swaroopch.com\n",
      "Contact Larry at larry@wall.org\n",
      "Contact Matsumoto at matz@ruby-lang.org\n",
      "\n",
      "Guido's address is guido@python.org\n"
     ]
    }
   ],
   "source": [
    "# 'ab' is short for 'a'ddress'b'ook\n",
    "\n",
    "ab = {\n",
    "    'Swaroop': 'swaroop@swaroopch.com',\n",
    "    'Larry': 'larry@wall.org',\n",
    "    'Matsumoto': 'matz@ruby-lang.org',\n",
    "    'Spammer': 'spammer@hotmail.com'\n",
    "}\n",
    "\n",
    "print(\"Swaroop's address is\", ab['Swaroop'])\n",
    "\n",
    "# Deleting a key-value pair\n",
    "del ab['Spammer']\n",
    "\n",
    "print('\\nThere are {} contacts in the address-book\\n'.format(len(ab)))\n",
    "\n",
    "for name, address in ab.items():\n",
    "    print('Contact {} at {}'.format(name, address))\n",
    "\n",
    "# Adding a key-value pair\n",
    "ab['Guido'] = 'guido@python.org'\n",
    "\n",
    "if 'Guido' in ab:\n",
    "    print(\"\\nGuido's address is\", ab['Guido'])"
   ]
  },
  {
   "cell_type": "code",
   "execution_count": 2,
   "metadata": {
    "colab": {
     "base_uri": "https://localhost:8080/"
    },
    "id": "j1Ng_p1BlZ4O",
    "outputId": "fc315a93-3cd4-40fe-d8a8-7b9d260156f7"
   },
   "outputs": [
    {
     "name": "stdout",
     "output_type": "stream",
     "text": [
      "555−1111\n",
      "555−2222\n"
     ]
    }
   ],
   "source": [
    "phonebook = {'Chris':'555−1111', 'Katie':'555−2222', 'Joanne':'555−3333'}\n",
    "print(phonebook['Chris'])\n",
    "print(phonebook['Katie'])"
   ]
  },
  {
   "cell_type": "code",
   "execution_count": 3,
   "metadata": {
    "colab": {
     "base_uri": "https://localhost:8080/"
    },
    "id": "tifwSFDsliAa",
    "outputId": "8767ffc7-f286-436c-e62f-e977c6a5a4b5"
   },
   "outputs": [
    {
     "name": "stdout",
     "output_type": "stream",
     "text": [
      "555−1111\n"
     ]
    }
   ],
   "source": [
    "phonebook = {'Chris':'555−1111', 'Katie':'555−2222', 'Joanne':'555−3333'}\n",
    "if 'Chris' in phonebook: \n",
    "    print(phonebook['Chris']) "
   ]
  },
  {
   "cell_type": "code",
   "execution_count": 3,
   "metadata": {
    "colab": {
     "base_uri": "https://localhost:8080/"
    },
    "id": "Q5lShiz1mJgh",
    "outputId": "dac9342f-7074-4795-aff3-92b3ae87f5e2"
   },
   "outputs": [
    {
     "name": "stdout",
     "output_type": "stream",
     "text": [
      "{'Kayla': [88, 92, 100], 'Luis': [95, 74, 81], 'Sophie': [72, 88, 91], 'Ethan': [70, 75, 78]}\n"
     ]
    }
   ],
   "source": [
    "#Mixing Data Types in a Dictionary\n",
    "test_scores = { 'Kayla' : [88, 92, 100], \n",
    "               'Luis' : [95, 74, 81], \n",
    "              'Sophie' : [72, 88, 91], \n",
    "               'Ethan' : [70, 75, 78] } \n",
    "print(test_scores) "
   ]
  },
  {
   "cell_type": "code",
   "execution_count": 6,
   "metadata": {
    "colab": {
     "base_uri": "https://localhost:8080/"
    },
    "id": "TVstUspvmUiz",
    "outputId": "1f474a2e-c479-4819-91cb-13dc6887c84a"
   },
   "outputs": [
    {
     "name": "stdout",
     "output_type": "stream",
     "text": [
      "[88, 92, 100]\n",
      "[95, 74, 81]\n",
      "[72, 88, 91]\n",
      "[70, 75, 78]\n"
     ]
    }
   ],
   "source": [
    "# Using the for Loop to Iterate over a Dictionary\n",
    "\n",
    "for student in test_scores: \n",
    "    print(test_scores[student]) "
   ]
  },
  {
   "cell_type": "code",
   "execution_count": 4,
   "metadata": {},
   "outputs": [
    {
     "name": "stdout",
     "output_type": "stream",
     "text": [
      "Kayla\n",
      "Luis\n",
      "Sophie\n",
      "Ethan\n"
     ]
    }
   ],
   "source": [
    "for name,scores in test_scores.items(): \n",
    "    print(name) "
   ]
  },
  {
   "cell_type": "code",
   "execution_count": null,
   "metadata": {},
   "outputs": [],
   "source": []
  }
 ],
 "metadata": {
  "colab": {
   "collapsed_sections": [],
   "name": "Module_2_Python_Basics_2.ipynb",
   "provenance": []
  },
  "kernelspec": {
   "display_name": "Python 3",
   "language": "python",
   "name": "python3"
  },
  "language_info": {
   "codemirror_mode": {
    "name": "ipython",
    "version": 3
   },
   "file_extension": ".py",
   "mimetype": "text/x-python",
   "name": "python",
   "nbconvert_exporter": "python",
   "pygments_lexer": "ipython3",
   "version": "3.8.5"
  }
 },
 "nbformat": 4,
 "nbformat_minor": 1
}
