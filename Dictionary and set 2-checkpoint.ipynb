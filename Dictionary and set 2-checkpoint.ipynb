{
 "cells": [
  {
   "cell_type": "code",
   "execution_count": 1,
   "metadata": {},
   "outputs": [
    {
     "name": "stdout",
     "output_type": "stream",
     "text": [
      "{'Chris': '555−1111', 'Katie': '555−2222', 'Joanne': '555−3333'}\n"
     ]
    }
   ],
   "source": [
    "phonebook = {'Chris':'555−1111', 'Katie':'555−2222', 'Joanne':'555−3333'}\n",
    "print(phonebook)"
   ]
  },
  {
   "cell_type": "code",
   "execution_count": null,
   "metadata": {},
   "outputs": [],
   "source": [
    "phonebook = {'Chris':5551111, 'Katie':552222, 'Joanne':5553333}\n",
    "print(phonebook)"
   ]
  },
  {
   "cell_type": "code",
   "execution_count": 2,
   "metadata": {},
   "outputs": [
    {
     "name": "stdout",
     "output_type": "stream",
     "text": [
      "555−1111\n",
      "555−2222\n"
     ]
    }
   ],
   "source": [
    "phonebook = {'Chris':'555−1111', 'Katie':'555−2222', 'Joanne':'555−3333'}\n",
    "print(phonebook['Chris'])\n",
    "print(phonebook['Katie'])"
   ]
  },
  {
   "cell_type": "code",
   "execution_count": 3,
   "metadata": {},
   "outputs": [
    {
     "name": "stdout",
     "output_type": "stream",
     "text": [
      "555−1111\n"
     ]
    }
   ],
   "source": [
    "phonebook = {'Chris':'555−1111', 'Katie':'555−2222', 'Joanne':'555−3333'}\n",
    "if 'Chris' in phonebook: \n",
    "    print(phonebook['Chris']) "
   ]
  },
  {
   "cell_type": "code",
   "execution_count": 4,
   "metadata": {},
   "outputs": [
    {
     "name": "stdout",
     "output_type": "stream",
     "text": [
      "Joanne is not found.\n"
     ]
    }
   ],
   "source": [
    "phonebook = {'Chris':'555−1111', 'Katie':'555−2222'} \n",
    "if 'Joanne' not in phonebook: \n",
    "    print('Joanne is not found.')  "
   ]
  },
  {
   "cell_type": "code",
   "execution_count": 5,
   "metadata": {},
   "outputs": [
    {
     "name": "stdout",
     "output_type": "stream",
     "text": [
      "{'Chris': '555−4444', 'Katie': '555−2222', 'Joanne': '555−3333', 'Joe': '555−0123'}\n"
     ]
    }
   ],
   "source": [
    "phonebook = {'Chris':'555−1111', 'Katie':'555−2222','Joanne':'555−3333'} \n",
    "phonebook['Joe'] = '555−0123' \n",
    "phonebook['Chris'] = '555−4444' \n",
    "print(phonebook)"
   ]
  },
  {
   "cell_type": "code",
   "execution_count": 7,
   "metadata": {},
   "outputs": [
    {
     "name": "stdout",
     "output_type": "stream",
     "text": [
      "{'Katie': '555−2222', 'Joanne': '555−3333'}\n"
     ]
    }
   ],
   "source": [
    "#Deleting Elements\n",
    "phonebook = {'Chris':'555−1111', 'Katie':'555−2222','Joanne':'555−3333'} \n",
    "del phonebook['Chris']\n",
    "print(phonebook)"
   ]
  },
  {
   "cell_type": "code",
   "execution_count": 8,
   "metadata": {},
   "outputs": [
    {
     "name": "stdout",
     "output_type": "stream",
     "text": [
      "2\n"
     ]
    }
   ],
   "source": [
    "#Getting the Number of Elements in a Dictionary\n",
    "phonebook = {'Chris':'555−1111', 'Katie':'555−2222'} \n",
    "num_items = len(phonebook) \n",
    "print(num_items) "
   ]
  },
  {
   "cell_type": "code",
   "execution_count": 9,
   "metadata": {},
   "outputs": [
    {
     "name": "stdout",
     "output_type": "stream",
     "text": [
      "{'Kayla': [88, 92, 100], 'Luis': [95, 74, 81], 'Sophie': [72, 88, 91], 'Ethan': [70, 75, 78]}\n"
     ]
    }
   ],
   "source": [
    "#Mixing Data Types in a Dictionary\n",
    "test_scores = { 'Kayla' : [88, 92, 100], \n",
    "               'Luis' : [95, 74, 81], \n",
    "              'Sophie' : [72, 88, 91], \n",
    "               'Ethan' : [70, 75, 78] } \n",
    "print(test_scores) "
   ]
  },
  {
   "cell_type": "code",
   "execution_count": 10,
   "metadata": {},
   "outputs": [
    {
     "name": "stdout",
     "output_type": "stream",
     "text": [
      "[72, 88, 91]\n"
     ]
    }
   ],
   "source": [
    "print(test_scores['Sophie'])"
   ]
  },
  {
   "cell_type": "code",
   "execution_count": 11,
   "metadata": {},
   "outputs": [
    {
     "name": "stdout",
     "output_type": "stream",
     "text": [
      "[88, 92, 100]\n"
     ]
    }
   ],
   "source": [
    "kayla_scores = test_scores['Kayla']\n",
    "print(kayla_scores)"
   ]
  },
  {
   "cell_type": "code",
   "execution_count": 12,
   "metadata": {},
   "outputs": [
    {
     "name": "stdout",
     "output_type": "stream",
     "text": [
      "{'abc': 1, 999: 'yada yada', (3, 6, 9): [3, 6, 9]}\n"
     ]
    }
   ],
   "source": [
    "mixed_up = {'abc':1, 999:'yada yada', (3, 6, 9):[3, 6, 9]}\n",
    "print(mixed_up)"
   ]
  },
  {
   "cell_type": "code",
   "execution_count": 13,
   "metadata": {},
   "outputs": [
    {
     "name": "stdout",
     "output_type": "stream",
     "text": [
      "{'name': 'Kevin Smith', 'id': 12345, 'payrate': 25.75}\n"
     ]
    }
   ],
   "source": [
    "employee = {'name' : 'Kevin Smith', 'id' : 12345, 'payrate' :    25.75 }\n",
    "print(employee)"
   ]
  },
  {
   "cell_type": "code",
   "execution_count": 14,
   "metadata": {},
   "outputs": [
    {
     "data": {
      "text/plain": [
       "{'Chris': '555−1111', 'Katie': '555−2222', 'Joanne': '555−3333'}"
      ]
     },
     "execution_count": 14,
     "metadata": {},
     "output_type": "execute_result"
    }
   ],
   "source": [
    "# Creating an Empty Dictionary\n",
    "phonebook = {} \n",
    "phonebook['Chris'] = '555−1111' \n",
    "phonebook['Katie'] = '555−2222' \n",
    "phonebook['Joanne'] = '555−3333' \n",
    "phonebook"
   ]
  },
  {
   "cell_type": "code",
   "execution_count": 15,
   "metadata": {},
   "outputs": [
    {
     "name": "stdout",
     "output_type": "stream",
     "text": [
      "Chris\n",
      "Katie\n",
      "Joanne\n"
     ]
    }
   ],
   "source": [
    "# Using the for Loop to Iterate over a Dictionary\n",
    "phonebook = {'Chris':'555−1111', \n",
    "                  'Katie':'555−2222', \n",
    "                  'Joanne':'555−3333'} \n",
    "for key in phonebook: \n",
    "    print(key)  "
   ]
  },
  {
   "cell_type": "code",
   "execution_count": 55,
   "metadata": {},
   "outputs": [
    {
     "name": "stdout",
     "output_type": "stream",
     "text": [
      "Chris\n",
      "Katie\n",
      "Joanne\n"
     ]
    }
   ],
   "source": [
    "# Using the for Loop to Iterate over a Dictionary\n",
    "phonebook = {'Chris':'555−1111', \n",
    "                  'Katie':'555−2222', \n",
    "                  'Joanne':'555−3333'} \n",
    "for key in phonebook: \n",
    "    print(key)  "
   ]
  },
  {
   "cell_type": "code",
   "execution_count": 54,
   "metadata": {},
   "outputs": [
    {
     "name": "stdout",
     "output_type": "stream",
     "text": [
      "555−1111\n",
      "555−2222\n",
      "555−3333\n"
     ]
    }
   ],
   "source": [
    "# Using the for Loop to Iterate over a Dictionary\n",
    "phonebook = {'Chris':'555−1111', \n",
    "                  'Katie':'555−2222', \n",
    "                  'Joanne':'555−3333'} \n",
    "for k in phonebook: \n",
    "    print(phonebook[k])  "
   ]
  },
  {
   "cell_type": "code",
   "execution_count": 56,
   "metadata": {},
   "outputs": [
    {
     "name": "stdout",
     "output_type": "stream",
     "text": [
      "{}\n"
     ]
    }
   ],
   "source": [
    "# Some Dictionary Methods\n",
    "# The clear Method\n",
    "phonebook = {'Chris':'555−1111', 'Katie':'555−2222'} \n",
    "phonebook.clear() \n",
    "print(phonebook)"
   ]
  },
  {
   "cell_type": "code",
   "execution_count": null,
   "metadata": {},
   "outputs": [],
   "source": [
    "#The get Method\n",
    "#dictionary.get(key, default)\n",
    "#key is a key to search for in the dictionary, and default is a default value to return \n",
    "#if the key is not found"
   ]
  },
  {
   "cell_type": "code",
   "execution_count": 17,
   "metadata": {},
   "outputs": [
    {
     "name": "stdout",
     "output_type": "stream",
     "text": [
      "555−2222\n",
      "Entry not found\n"
     ]
    }
   ],
   "source": [
    "phonebook = {'Chris':'555−1111', 'Katie':'555−2222'} \n",
    "value = phonebook.get('Katie', 'Entry not found') \n",
    "print(value) \n",
    "value = phonebook.get('Andy', 'Entry not found') \n",
    "print(value) "
   ]
  },
  {
   "cell_type": "code",
   "execution_count": 18,
   "metadata": {},
   "outputs": [
    {
     "name": "stdout",
     "output_type": "stream",
     "text": [
      "Chris 555−1111\n",
      "Katie 555−2222\n",
      "Joanne 555−3333\n"
     ]
    }
   ],
   "source": [
    "#The items Method\n",
    "phonebook = {'Chris':'555−1111', 'Katie':'555−2222', 'Joanne':'555−3333'}\n",
    "for key, value in phonebook.items(): \n",
    "    print(key, value) "
   ]
  },
  {
   "cell_type": "code",
   "execution_count": 57,
   "metadata": {},
   "outputs": [
    {
     "name": "stdout",
     "output_type": "stream",
     "text": [
      "Chris 555−1111\n",
      "Katie 555−2222\n",
      "Joanne 555−3333\n"
     ]
    }
   ],
   "source": [
    "#The items Method\n",
    "phonebook = {'Chris':'555−1111', 'Katie':'555−2222', 'Joanne':'555−3333'}\n",
    "for k, v in phonebook.items(): \n",
    "    print(k, v) "
   ]
  },
  {
   "cell_type": "code",
   "execution_count": 19,
   "metadata": {},
   "outputs": [
    {
     "name": "stdout",
     "output_type": "stream",
     "text": [
      "Chris\n",
      "Katie\n",
      "Joanne\n"
     ]
    }
   ],
   "source": [
    "#The keys Method\n",
    "phonebook = {'Chris':'555−1111', \n",
    "                  'Katie':'555−2222', \n",
    "                  'Joanne':'555−3333'} \n",
    "for key in phonebook.keys(): \n",
    "    print(key)"
   ]
  },
  {
   "cell_type": "code",
   "execution_count": 21,
   "metadata": {},
   "outputs": [
    {
     "name": "stdout",
     "output_type": "stream",
     "text": [
      "555−1111\n",
      "{'Katie': '555−2222', 'Joanne': '555−3333'}\n"
     ]
    }
   ],
   "source": [
    "#The pop Method\n",
    "phonebook = {'Chris':'555−1111', \n",
    "                  'Katie':'555−2222', \n",
    "                  'Joanne':'555−3333'} \n",
    "phone_num = phonebook.pop('Chris', 'Entry not found') \n",
    "print(phone_num)\n",
    "print(phonebook)"
   ]
  },
  {
   "cell_type": "code",
   "execution_count": 62,
   "metadata": {},
   "outputs": [
    {
     "name": "stdout",
     "output_type": "stream",
     "text": [
      "{'Chris': '555−1111', 'Katie': '555−2222', 'Joanne': '555−3333'}\n",
      "Joanne 555−3333\n",
      "{'Chris': '555−1111', 'Katie': '555−2222'}\n"
     ]
    }
   ],
   "source": [
    "#The popitem Method\n",
    "phonebook = {'Chris':'555−1111', \n",
    "                  'Katie':'555−2222', \n",
    "                  'Joanne':'555−3333'} \n",
    "print(phonebook) \n",
    "key, value = phonebook.popitem() #key is assigned a randomly selected key from the dictionary, \n",
    "#and value is assigned the value associated with that key. The key-value pair is removed from \n",
    "#the dictionary\n",
    "print(key, value) \n",
    "print(phonebook) "
   ]
  },
  {
   "cell_type": "code",
   "execution_count": 63,
   "metadata": {},
   "outputs": [
    {
     "name": "stdout",
     "output_type": "stream",
     "text": [
      "555−1111\n",
      "555−2222\n",
      "555−3333\n"
     ]
    }
   ],
   "source": [
    "#The values Method\n",
    "phonebook = {'Chris':'555−1111', \n",
    "                  'Katie':'555−2222', \n",
    "                  'Joanne':'555−3333'} \n",
    "for val in phonebook.values(): \n",
    "    print(val)"
   ]
  },
  {
   "cell_type": "code",
   "execution_count": 64,
   "metadata": {},
   "outputs": [
    {
     "name": "stdout",
     "output_type": "stream",
     "text": [
      "555−1111\n",
      "555−2222\n",
      "555−3333\n"
     ]
    }
   ],
   "source": [
    "# Using the for Loop to Iterate over a Dictionary\n",
    "phonebook = {'Chris':'555−1111', \n",
    "                  'Katie':'555−2222', \n",
    "                  'Joanne':'555−3333'} \n",
    "for k in phonebook: \n",
    "    print(phonebook[k])  "
   ]
  },
  {
   "cell_type": "code",
   "execution_count": 65,
   "metadata": {},
   "outputs": [
    {
     "name": "stdout",
     "output_type": "stream",
     "text": [
      "{'a', 'c', 'b'}\n",
      "{'two', 'one', 'three'}\n"
     ]
    }
   ],
   "source": [
    "#Creating a set\n",
    "myset1 = set(['a', 'b', 'c'])\n",
    "myset2 = set(['one', 'two', 'three'])\n",
    "print(myset1)\n",
    "print(myset2)"
   ]
  },
  {
   "cell_type": "code",
   "execution_count": 26,
   "metadata": {},
   "outputs": [
    {
     "name": "stdout",
     "output_type": "stream",
     "text": [
      "{'a', 'c', 'b'}\n"
     ]
    }
   ],
   "source": [
    "myset = set('abc')\n",
    "print(myset)"
   ]
  },
  {
   "cell_type": "code",
   "execution_count": 27,
   "metadata": {},
   "outputs": [
    {
     "name": "stdout",
     "output_type": "stream",
     "text": [
      "{'a', 'c', 'b'}\n"
     ]
    }
   ],
   "source": [
    "myset = set('aaabc')\n",
    "print(myset)"
   ]
  },
  {
   "cell_type": "code",
   "execution_count": 66,
   "metadata": {},
   "outputs": [
    {
     "name": "stdout",
     "output_type": "stream",
     "text": [
      "5\n"
     ]
    }
   ],
   "source": [
    "#Getting the Number of Elements in a Set\n",
    "myset = set([1, 2, 3, 4, 5]) \n",
    "print(len(myset)) "
   ]
  },
  {
   "cell_type": "code",
   "execution_count": 29,
   "metadata": {},
   "outputs": [
    {
     "name": "stdout",
     "output_type": "stream",
     "text": [
      "{1, 2, 3}\n",
      "{1, 2, 3}\n"
     ]
    }
   ],
   "source": [
    "#Adding and Removing Elements\n",
    "myset = set() \n",
    "myset.add(1) \n",
    "myset.add(2) \n",
    "myset.add(3) \n",
    "print(myset) \n",
    "myset.add(2) \n",
    "print(myset)"
   ]
  },
  {
   "cell_type": "code",
   "execution_count": 30,
   "metadata": {},
   "outputs": [
    {
     "data": {
      "text/plain": [
       "{1, 2, 3, 4, 5, 6}"
      ]
     },
     "execution_count": 30,
     "metadata": {},
     "output_type": "execute_result"
    }
   ],
   "source": [
    "myset = set([1, 2, 3]) \n",
    "myset.update([4, 5, 6]) \n",
    "myset"
   ]
  },
  {
   "cell_type": "code",
   "execution_count": 31,
   "metadata": {},
   "outputs": [
    {
     "name": "stdout",
     "output_type": "stream",
     "text": [
      "{1, 2, 3, 8, 9, 10}\n",
      "{8, 9, 10}\n"
     ]
    }
   ],
   "source": [
    "set1 = set([1, 2, 3]) \n",
    "set2 = set([8, 9, 10]) \n",
    "set1.update(set2) \n",
    "print(set1)\n",
    "print(set2)"
   ]
  },
  {
   "cell_type": "code",
   "execution_count": 32,
   "metadata": {},
   "outputs": [
    {
     "data": {
      "text/plain": [
       "{1, 2, 3, 'a', 'b', 'c'}"
      ]
     },
     "execution_count": 32,
     "metadata": {},
     "output_type": "execute_result"
    }
   ],
   "source": [
    "myset = set([1, 2, 3]) \n",
    "myset.update('abc') \n",
    "myset"
   ]
  },
  {
   "cell_type": "code",
   "execution_count": 33,
   "metadata": {},
   "outputs": [
    {
     "name": "stdout",
     "output_type": "stream",
     "text": [
      "{1, 2, 3, 4, 5}\n",
      "{2, 3, 4, 5}\n",
      "{2, 3, 4}\n"
     ]
    },
    {
     "ename": "KeyError",
     "evalue": "99",
     "output_type": "error",
     "traceback": [
      "\u001b[1;31m---------------------------------------------------------------------------\u001b[0m",
      "\u001b[1;31mKeyError\u001b[0m                                  Traceback (most recent call last)",
      "\u001b[1;32m<ipython-input-33-d9a73c70f7f6>\u001b[0m in \u001b[0;36m<module>\u001b[1;34m\u001b[0m\n\u001b[0;32m      8\u001b[0m \u001b[0mprint\u001b[0m\u001b[1;33m(\u001b[0m\u001b[0mmyset\u001b[0m\u001b[1;33m)\u001b[0m\u001b[1;33m\u001b[0m\u001b[1;33m\u001b[0m\u001b[0m\n\u001b[0;32m      9\u001b[0m \u001b[0mmyset\u001b[0m\u001b[1;33m.\u001b[0m\u001b[0mdiscard\u001b[0m\u001b[1;33m(\u001b[0m\u001b[1;36m99\u001b[0m\u001b[1;33m)\u001b[0m\u001b[1;33m\u001b[0m\u001b[1;33m\u001b[0m\u001b[0m\n\u001b[1;32m---> 10\u001b[1;33m \u001b[0mmyset\u001b[0m\u001b[1;33m.\u001b[0m\u001b[0mremove\u001b[0m\u001b[1;33m(\u001b[0m\u001b[1;36m99\u001b[0m\u001b[1;33m)\u001b[0m\u001b[1;33m\u001b[0m\u001b[1;33m\u001b[0m\u001b[0m\n\u001b[0m",
      "\u001b[1;31mKeyError\u001b[0m: 99"
     ]
    }
   ],
   "source": [
    "myset = set([1, 2, 3, 4, 5]) \n",
    "print(myset) \n",
    " \n",
    "myset.remove(1) \n",
    "print(myset) \n",
    " \n",
    "myset.discard(5) \n",
    "print(myset) \n",
    "myset.discard(99) # will not raise a keyerror exception\n",
    "myset.remove(99) #The remove method raises a KeyError exception, but the discard method does \n",
    "#not raise an exception"
   ]
  },
  {
   "cell_type": "code",
   "execution_count": 35,
   "metadata": {},
   "outputs": [
    {
     "name": "stdout",
     "output_type": "stream",
     "text": [
      "{1, 2, 3, 4, 5}\n",
      "set()\n"
     ]
    }
   ],
   "source": [
    "myset = set([1, 2, 3, 4, 5]) \n",
    "print(myset) \n",
    "myset.clear() \n",
    "print(myset) "
   ]
  },
  {
   "cell_type": "code",
   "execution_count": 36,
   "metadata": {},
   "outputs": [
    {
     "name": "stdout",
     "output_type": "stream",
     "text": [
      "a\n",
      "c\n",
      "b\n"
     ]
    }
   ],
   "source": [
    "#Using the for Loop to Iterate over a Set\n",
    "myset = set(['a', 'b', 'c']) \n",
    "for val in myset: \n",
    "    print(val)"
   ]
  },
  {
   "cell_type": "code",
   "execution_count": 37,
   "metadata": {},
   "outputs": [
    {
     "name": "stdout",
     "output_type": "stream",
     "text": [
      "The value 1 is in the set.\n"
     ]
    }
   ],
   "source": [
    "# Using the in and not in Operators to Test for a Value in a Set\n",
    "myset = set([1, 2, 3]) \n",
    "if 1 in myset: \n",
    "    print('The value 1 is in the set.')"
   ]
  },
  {
   "cell_type": "code",
   "execution_count": 38,
   "metadata": {},
   "outputs": [
    {
     "name": "stdout",
     "output_type": "stream",
     "text": [
      "The value 99 is not in the set.\n"
     ]
    }
   ],
   "source": [
    "myset = set([1, 2, 3]) \n",
    "if 99 not in myset: \n",
    "    print('The value 99 is not in the set.')"
   ]
  },
  {
   "cell_type": "code",
   "execution_count": 39,
   "metadata": {},
   "outputs": [
    {
     "data": {
      "text/plain": [
       "{1, 2, 3, 4, 5, 6}"
      ]
     },
     "execution_count": 39,
     "metadata": {},
     "output_type": "execute_result"
    }
   ],
   "source": [
    "#Finding the Union of Sets\n",
    "set1 = set([1, 2, 3, 4]) \n",
    "set2 = set([3, 4, 5, 6]) \n",
    "set3 = set1.union(set2) \n",
    "print(set3) "
   ]
  },
  {
   "cell_type": "code",
   "execution_count": 41,
   "metadata": {},
   "outputs": [
    {
     "data": {
      "text/plain": [
       "{1, 2, 3, 4, 5, 6}"
      ]
     },
     "execution_count": 41,
     "metadata": {},
     "output_type": "execute_result"
    }
   ],
   "source": [
    "set1 = set([1, 2, 3, 4]) \n",
    "set2 = set([3, 4, 5, 6]) \n",
    "set3 = set1 | set2 \n",
    "set3 "
   ]
  },
  {
   "cell_type": "code",
   "execution_count": 40,
   "metadata": {},
   "outputs": [
    {
     "data": {
      "text/plain": [
       "{3, 4}"
      ]
     },
     "execution_count": 40,
     "metadata": {},
     "output_type": "execute_result"
    }
   ],
   "source": [
    "#Finding the Intersection of Sets\n",
    "set1 = set([1, 2, 3, 4]) \n",
    "set2 = set([3, 4, 5, 6]) \n",
    "set3 = set1.intersection(set2) \n",
    "set3"
   ]
  },
  {
   "cell_type": "code",
   "execution_count": 42,
   "metadata": {},
   "outputs": [
    {
     "data": {
      "text/plain": [
       "{3, 4}"
      ]
     },
     "execution_count": 42,
     "metadata": {},
     "output_type": "execute_result"
    }
   ],
   "source": [
    "#Finding the Intersection of Sets\n",
    "set1 = set([1, 2, 3, 4]) \n",
    "set2 = set([3, 4, 5, 6]) \n",
    "set3 = set1 & set2 \n",
    "set3"
   ]
  },
  {
   "cell_type": "code",
   "execution_count": 43,
   "metadata": {},
   "outputs": [
    {
     "data": {
      "text/plain": [
       "{1, 2}"
      ]
     },
     "execution_count": 43,
     "metadata": {},
     "output_type": "execute_result"
    }
   ],
   "source": [
    "#Finding the Difference of Sets\n",
    "#the elements that appear in set1 but do not appear in set2\n",
    "set1 = set([1, 2, 3, 4]) \n",
    "set2 = set([3, 4, 5, 6]) \n",
    "set3 = set1.difference(set2) \n",
    "set3 "
   ]
  },
  {
   "cell_type": "code",
   "execution_count": 45,
   "metadata": {},
   "outputs": [
    {
     "data": {
      "text/plain": [
       "{1, 2}"
      ]
     },
     "execution_count": 45,
     "metadata": {},
     "output_type": "execute_result"
    }
   ],
   "source": [
    "set1 = set([1, 2, 3, 4]) \n",
    "set2 = set([3, 4, 5, 6]) \n",
    "set3 = set1 - set2\n",
    "set3 "
   ]
  },
  {
   "cell_type": "code",
   "execution_count": 46,
   "metadata": {},
   "outputs": [
    {
     "data": {
      "text/plain": [
       "{1, 2, 5, 6}"
      ]
     },
     "execution_count": 46,
     "metadata": {},
     "output_type": "execute_result"
    }
   ],
   "source": [
    "#Finding the Symmetric Difference of Sets\n",
    "#The method returns a set that contains the elements that are found in either \n",
    "#set1 or set2 but not both sets\n",
    "set1 = set([1, 2, 3, 4]) \n",
    "set2 = set([3, 4, 5, 6]) \n",
    "set3 = set1.symmetric_difference(set2) \n",
    "set3 "
   ]
  },
  {
   "cell_type": "code",
   "execution_count": 48,
   "metadata": {},
   "outputs": [
    {
     "data": {
      "text/plain": [
       "{1, 2, 5, 6}"
      ]
     },
     "execution_count": 48,
     "metadata": {},
     "output_type": "execute_result"
    }
   ],
   "source": [
    "set1 = set([1, 2, 3, 4]) \n",
    "set2 = set([3, 4, 5, 6]) \n",
    "set3 = set1 ^ set2 \n",
    "set3 "
   ]
  },
  {
   "cell_type": "code",
   "execution_count": 51,
   "metadata": {},
   "outputs": [
    {
     "name": "stdout",
     "output_type": "stream",
     "text": [
      "True\n",
      "True\n"
     ]
    }
   ],
   "source": [
    "# Finding Subsets and Supersets\n",
    "set1 = set([1, 2, 3, 4])\n",
    "set2 = set([2, 3])\n",
    "print(set2.issubset(set1)) #The method returns True if set2 is a subset of set1\n",
    "print(set1.issuperset(set2))#The method returns True if set1 is a superset of set2"
   ]
  },
  {
   "cell_type": "code",
   "execution_count": 52,
   "metadata": {},
   "outputs": [
    {
     "name": "stdout",
     "output_type": "stream",
     "text": [
      "True\n",
      "False\n"
     ]
    }
   ],
   "source": [
    "#You can also use the <= operator to determine whether one set is a subset of another \n",
    "#and the >= operator to determine whether one set is a superset of another.\n",
    "set1 = set([1, 2, 3, 4]) \n",
    "set2 = set([2, 3]) \n",
    "print(set1 >= set2) \n",
    "print(set1 <= set2) \n"
   ]
  }
 ],
 "metadata": {
  "kernelspec": {
   "display_name": "Python 3",
   "language": "python",
   "name": "python3"
  },
  "language_info": {
   "codemirror_mode": {
    "name": "ipython",
    "version": 3
   },
   "file_extension": ".py",
   "mimetype": "text/x-python",
   "name": "python",
   "nbconvert_exporter": "python",
   "pygments_lexer": "ipython3",
   "version": "3.7.6"
  }
 },
 "nbformat": 4,
 "nbformat_minor": 2
}
